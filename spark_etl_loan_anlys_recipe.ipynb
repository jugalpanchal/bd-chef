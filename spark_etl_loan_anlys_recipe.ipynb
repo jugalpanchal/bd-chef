{
  "nbformat": 4,
  "nbformat_minor": 0,
  "metadata": {
    "colab": {
      "name": "spark_etl_loan_anlys_recipe.ipynb",
      "provenance": [],
      "authorship_tag": "ABX9TyMaXIYBE/I1M7l3mvmXuLMo",
      "include_colab_link": true
    },
    "kernelspec": {
      "name": "python3",
      "display_name": "Python 3"
    },
    "language_info": {
      "name": "python"
    }
  },
  "cells": [
    {
      "cell_type": "markdown",
      "metadata": {
        "id": "view-in-github",
        "colab_type": "text"
      },
      "source": [
        "<a href=\"https://colab.research.google.com/github/jugalpanchal/bd-chef/blob/main/spark_etl_loan_anlys_recipe.ipynb\" target=\"_parent\"><img src=\"https://colab.research.google.com/assets/colab-badge.svg\" alt=\"Open In Colab\"/></a>"
      ]
    },
    {
      "cell_type": "code",
      "metadata": {
        "id": "x0pHGUdae2sc"
      },
      "source": [
        "# Follow the steps to install the dependencies:\n",
        "!apt-get install openjdk-8-jdk-headless -qq > /dev/null # install java\n",
        "!wget -q https://downloads.apache.org/spark/spark-3.1.2/spark-3.1.2-bin-hadoop3.2.tgz # spark package download\n",
        "!tar xf spark-3.1.2-bin-hadoop3.2.tgz # unzip spark package\n",
        "!pip install -q findspark # install spark\n",
        "\n",
        "# Set the location of Java and Spark:\n",
        "import os\n",
        "os.environ[\"JAVA_HOME\"] = \"/usr/lib/jvm/java-8-openjdk-amd64\"\n",
        "os.environ[\"SPARK_HOME\"] = \"/content/spark-3.1.2-bin-hadoop3.2\"\n",
        "\n",
        "import findspark\n",
        "findspark.init()"
      ],
      "execution_count": 1,
      "outputs": []
    },
    {
      "cell_type": "code",
      "metadata": {
        "id": "mebMYWzIe5lF"
      },
      "source": [
        "from pyspark.sql import SparkSession\n",
        "from pyspark.sql import functions as F # PySpark functions\n",
        "\n",
        "# create or get spark session\n",
        "spark = SparkSession.builder \\\n",
        "        .master(\"local[*]\") \\\n",
        "        .appName(\"Spark_App1\") \\\n",
        "        .getOrCreate()\n",
        "\n",
        "sc = spark.sparkContext"
      ],
      "execution_count": 2,
      "outputs": []
    },
    {
      "cell_type": "code",
      "metadata": {
        "id": "RGtUzv4Me7P6"
      },
      "source": [
        "# https://www.kaggle.com/zhijinzhai/loandata\n",
        "loan_df = spark.read.csv(\"datasets/Loan payments data.csv\", header=True)\n",
        "#load_df.columns\n",
        "#loan_df.dtypes\n",
        "#load_df.printSchema"
      ],
      "execution_count": 8,
      "outputs": []
    },
    {
      "cell_type": "code",
      "metadata": {
        "colab": {
          "base_uri": "https://localhost:8080/"
        },
        "id": "n0R1EgOwgYcO",
        "outputId": "ea3752d9-b575-4caa-fab7-edfe77905ecf"
      },
      "source": [
        "loan_df.show(10, False)\n",
        "loan_df.describe().show()"
      ],
      "execution_count": 11,
      "outputs": [
        {
          "output_type": "stream",
          "text": [
            "+-----------+-----------+---------+-----+--------------+---------+---------------+-------------+---+--------------------+------+\n",
            "|Loan_ID    |loan_status|Principal|terms|effective_date|due_date |paid_off_time  |past_due_days|age|education           |Gender|\n",
            "+-----------+-----------+---------+-----+--------------+---------+---------------+-------------+---+--------------------+------+\n",
            "|xqd20166231|PAIDOFF    |1000     |30   |9/8/2016      |10/7/2016|9/14/2016 19:31|null         |45 |High School or Below|male  |\n",
            "|xqd20168902|PAIDOFF    |1000     |30   |9/8/2016      |10/7/2016|10/7/2016 9:00 |null         |50 |Bechalor            |female|\n",
            "|xqd20160003|PAIDOFF    |1000     |30   |9/8/2016      |10/7/2016|9/25/2016 16:58|null         |33 |Bechalor            |female|\n",
            "|xqd20160004|PAIDOFF    |1000     |15   |9/8/2016      |9/22/2016|9/22/2016 20:00|null         |27 |college             |male  |\n",
            "|xqd20160005|PAIDOFF    |1000     |30   |9/9/2016      |10/8/2016|9/23/2016 21:36|null         |28 |college             |female|\n",
            "|xqd20160706|PAIDOFF    |300      |7    |9/9/2016      |9/15/2016|9/9/2016 13:45 |null         |35 |Master or Above     |male  |\n",
            "|xqd20160007|PAIDOFF    |1000     |30   |9/9/2016      |10/8/2016|10/7/2016 23:07|null         |29 |college             |male  |\n",
            "|xqd20160008|PAIDOFF    |1000     |30   |9/9/2016      |10/8/2016|10/5/2016 20:33|null         |36 |college             |male  |\n",
            "|xqd20160909|PAIDOFF    |1000     |30   |9/9/2016      |10/8/2016|10/8/2016 16:00|null         |28 |college             |male  |\n",
            "|xqd20160010|PAIDOFF    |800      |15   |9/10/2016     |9/24/2016|9/24/2016 13:00|null         |26 |college             |male  |\n",
            "+-----------+-----------+---------+-----+--------------+---------+---------------+-------------+---+--------------------+------+\n",
            "only showing top 10 rows\n",
            "\n",
            "+-------+-----------+-----------+------------------+-----------------+--------------+----------+---------------+-----------------+------------------+---------+------+\n",
            "|summary|    Loan_ID|loan_status|         Principal|            terms|effective_date|  due_date|  paid_off_time|    past_due_days|               age|education|Gender|\n",
            "+-------+-----------+-----------+------------------+-----------------+--------------+----------+---------------+-----------------+------------------+---------+------+\n",
            "|  count|        500|        500|               500|              500|           500|       500|            400|              200|               500|      500|   500|\n",
            "|   mean|       null|       null|             943.2|           22.824|          null|      null|           null|            36.01|            31.116|     null|  null|\n",
            "| stddev|       null|       null|115.24027352138044|8.000064127999487|          null|      null|           null|29.38087950354807|6.0847837419560555|     null|  null|\n",
            "|    min|xqd12160159| COLLECTION|              1000|               15|     9/10/2016|10/10/2016|10/1/2016 10:18|                1|                18| Bechalor|female|\n",
            "|    max|xqd91160291|    PAIDOFF|               900|                7|      9/9/2016| 9/28/2016| 9/9/2016 13:45|                9|                51|  college|  male|\n",
            "+-------+-----------+-----------+------------------+-----------------+--------------+----------+---------------+-----------------+------------------+---------+------+\n",
            "\n"
          ],
          "name": "stdout"
        }
      ]
    },
    {
      "cell_type": "code",
      "metadata": {
        "colab": {
          "base_uri": "https://localhost:8080/"
        },
        "id": "KTup59NAg-ak",
        "outputId": "e602254e-bda9-460b-9cb7-40dca1a30689"
      },
      "source": [
        "# Select columns\n",
        "loan_df.select(\"loan_status\").distinct().show()"
      ],
      "execution_count": 13,
      "outputs": [
        {
          "output_type": "stream",
          "text": [
            "+------------------+\n",
            "|       loan_status|\n",
            "+------------------+\n",
            "|        COLLECTION|\n",
            "|COLLECTION_PAIDOFF|\n",
            "|           PAIDOFF|\n",
            "+------------------+\n",
            "\n"
          ],
          "name": "stdout"
        }
      ]
    },
    {
      "cell_type": "code",
      "metadata": {
        "id": "1Ei2ny1dszl2"
      },
      "source": [
        ""
      ],
      "execution_count": null,
      "outputs": []
    }
  ]
}