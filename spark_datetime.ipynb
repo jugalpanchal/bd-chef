{
  "nbformat": 4,
  "nbformat_minor": 0,
  "metadata": {
    "colab": {
      "name": "spark_cheat_sheet.ipynb",
      "provenance": [],
      "toc_visible": true,
      "authorship_tag": "ABX9TyOS/6+KS/EKezh4R6xGaWNP",
      "include_colab_link": true
    },
    "kernelspec": {
      "name": "python3",
      "display_name": "Python 3"
    },
    "language_info": {
      "name": "python"
    }
  },
  "cells": [
    {
      "cell_type": "markdown",
      "metadata": {
        "id": "view-in-github",
        "colab_type": "text"
      },
      "source": [
        "<a href=\"https://colab.research.google.com/github/jugalpanchal/bd-chef/blob/main/spark_datetime.ipynb\" target=\"_parent\"><img src=\"https://colab.research.google.com/assets/colab-badge.svg\" alt=\"Open In Colab\"/></a>"
      ]
    },
    {
      "cell_type": "code",
      "execution_count": 4,
      "metadata": {
        "id": "_6fKJHpyEgSg"
      },
      "outputs": [],
      "source": [
        "# Follow the steps to install the dependencies:\n",
        "!apt-get install openjdk-8-jdk-headless -qq > /dev/null # install java\n",
        "#!wget -q https://downloads.apache.org/spark/spark-3.1.2/spark-3.1.2-bin-hadoop3.2.tgz # spark package download\n",
        "#!wget -q https://downloads.apache.org/spark/spark-3.3.0/spark-3.3.0-bin-hadoop3.tgz # new spark package download\n",
        "!wget -q https://downloads.apache.org/spark/spark-3.5.1/spark-3.5.1-bin-hadoop3.tgz # new spark package download - change-1\n",
        "#!tar xf spark-3.1.2-bin-hadoop3.2.tgz # unzip spark package\n",
        "!tar xf spark-3.5.1-bin-hadoop3.tgz # unzip spark package - change-2\n",
        "!pip install -q findspark # install spark\n",
        "\n",
        "# Set the location of Java and Spark:\n",
        "import os\n",
        "os.environ[\"JAVA_HOME\"] = \"/usr/lib/jvm/java-8-openjdk-amd64\"\n",
        "#os.environ[\"SPARK_HOME\"] = \"/content/spark-3.1.2-bin-hadoop3.2\"\n",
        "#os.environ[\"SPARK_HOME\"] = \"/content/spark-3.3.0-bin-hadoop3\"\n",
        "os.environ[\"SPARK_HOME\"] = \"/content/spark-3.5.1-bin-hadoop3\" # change-3\n",
        "\n",
        "import findspark\n",
        "findspark.init()"
      ]
    },
    {
      "cell_type": "code",
      "source": [
        "from pyspark.sql import SparkSession\n",
        "\n",
        "# create or get spark session\n",
        "spark = SparkSession.builder \\\n",
        "        .master(\"local[*]\") \\\n",
        "        .appName(\"Spark_App1\") \\\n",
        "        .getOrCreate()\n",
        "\n",
        "sc = spark.sparkContext"
      ],
      "metadata": {
        "id": "N6fBezctEtW3"
      },
      "execution_count": 5,
      "outputs": []
    },
    {
      "cell_type": "markdown",
      "source": [
        "##Join"
      ],
      "metadata": {
        "id": "aoCEqT0jGbKO"
      }
    },
    {
      "cell_type": "code",
      "source": [
        "from datetime import datetime, timedelta\n",
        "\n",
        "today_date = datetime.today()\n",
        "random_date = today_date + timedelta(days=3)"
      ],
      "metadata": {
        "id": "AnAGYQHHGmie"
      },
      "execution_count": 10,
      "outputs": []
    },
    {
      "cell_type": "code",
      "source": [
        "df1 = spark.createDataFrame([('TR1', today_date, random_date), ('TR2', today_date, random_date)])\n",
        "df1 = df1.toDF('trip_id', 'start_time', 'end_time')\n",
        "\n",
        "df1.show(2, False)"
      ],
      "metadata": {
        "id": "1Hkib5HftTgn",
        "outputId": "fb8203ac-e81a-4c26-eafe-00a8cc335b20",
        "colab": {
          "base_uri": "https://localhost:8080/"
        }
      },
      "execution_count": 12,
      "outputs": [
        {
          "output_type": "stream",
          "name": "stdout",
          "text": [
            "+-------+--------------------------+--------------------------+\n",
            "|trip_id|start_time                |end_time                  |\n",
            "+-------+--------------------------+--------------------------+\n",
            "|TR1    |2024-03-14 20:45:45.108069|2024-03-17 20:45:45.108069|\n",
            "|TR2    |2024-03-14 20:45:45.108069|2024-03-17 20:45:45.108069|\n",
            "+-------+--------------------------+--------------------------+\n",
            "\n"
          ]
        }
      ]
    },
    {
      "cell_type": "code",
      "source": [
        "import pyspark.sql.functions as F\n",
        "\n",
        "# convert start_time and end_time in US/Eastern\n",
        "df1 = df1.withColumn(\"start_time_est\", F.from_utc_timestamp(df1.start_time, 'US/Eastern'))\n",
        "df1 = df1.withColumn(\"end_time_est\", F.from_utc_timestamp(df1.end_time, 'US/Eastern'))\n",
        "df1.show(2, False)"
      ],
      "metadata": {
        "id": "OOJIqhmwsj2k",
        "outputId": "689cab29-74b3-4243-9559-fd42de9640f4",
        "colab": {
          "base_uri": "https://localhost:8080/"
        }
      },
      "execution_count": 15,
      "outputs": [
        {
          "output_type": "stream",
          "name": "stdout",
          "text": [
            "+-------+--------------------------+--------------------------+--------------------------+--------------------------+\n",
            "|trip_id|start_time                |end_time                  |start_time_est            |end_time_est              |\n",
            "+-------+--------------------------+--------------------------+--------------------------+--------------------------+\n",
            "|TR1    |2024-03-14 16:45:45.108069|2024-03-17 16:45:45.108069|2024-03-14 12:45:45.108069|2024-03-17 12:45:45.108069|\n",
            "|TR2    |2024-03-14 16:45:45.108069|2024-03-17 16:45:45.108069|2024-03-14 12:45:45.108069|2024-03-17 12:45:45.108069|\n",
            "+-------+--------------------------+--------------------------+--------------------------+--------------------------+\n",
            "\n"
          ]
        }
      ]
    }
  ]
}