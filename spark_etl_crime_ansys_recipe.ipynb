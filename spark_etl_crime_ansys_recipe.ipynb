{
  "nbformat": 4,
  "nbformat_minor": 0,
  "metadata": {
    "colab": {
      "name": "spark_etl_crime_ansys_recipe.ipynb",
      "provenance": [],
      "authorship_tag": "ABX9TyOR9tWxxKCpQJcZodZDb8+N",
      "include_colab_link": true
    },
    "kernelspec": {
      "name": "python3",
      "display_name": "Python 3"
    },
    "language_info": {
      "name": "python"
    }
  },
  "cells": [
    {
      "cell_type": "markdown",
      "metadata": {
        "id": "view-in-github",
        "colab_type": "text"
      },
      "source": [
        "<a href=\"https://colab.research.google.com/github/jugalpanchal/bd-chef/blob/main/spark_etl_crime_ansys_recipe.ipynb\" target=\"_parent\"><img src=\"https://colab.research.google.com/assets/colab-badge.svg\" alt=\"Open In Colab\"/></a>"
      ]
    },
    {
      "cell_type": "markdown",
      "metadata": {
        "id": "No4P1HfdBiPt"
      },
      "source": [
        "### Spark Session"
      ]
    },
    {
      "cell_type": "code",
      "metadata": {
        "id": "segBGL-U11Qq"
      },
      "source": [
        "# Follow the steps to install the dependencies:\n",
        "!apt-get install openjdk-8-jdk-headless -qq > /dev/null # install java\n",
        "!wget -q https://downloads.apache.org/spark/spark-3.1.2/spark-3.1.2-bin-hadoop3.2.tgz # spark package download\n",
        "!tar xf spark-3.1.2-bin-hadoop3.2.tgz # unzip spark package\n",
        "!pip install -q findspark # install spark\n",
        "\n",
        "# Set the location of Java and Spark:\n",
        "import os\n",
        "os.environ[\"JAVA_HOME\"] = \"/usr/lib/jvm/java-8-openjdk-amd64\"\n",
        "os.environ[\"SPARK_HOME\"] = \"/content/spark-3.1.2-bin-hadoop3.2\"\n",
        "\n",
        "import findspark\n",
        "findspark.init()"
      ],
      "execution_count": 1,
      "outputs": []
    },
    {
      "cell_type": "code",
      "metadata": {
        "id": "vEsvS13713fA"
      },
      "source": [
        "from pyspark.sql import SparkSession\n",
        "\n",
        "# create or get spark session\n",
        "spark = SparkSession.builder \\\n",
        "        .master(\"local[*]\") \\\n",
        "        .appName(\"Spark_App1\") \\\n",
        "        .getOrCreate()\n",
        "\n",
        "sc = spark.sparkContext"
      ],
      "execution_count": 2,
      "outputs": []
    },
    {
      "cell_type": "markdown",
      "metadata": {
        "id": "zxXZb56QBmej"
      },
      "source": [
        "### Read a file"
      ]
    },
    {
      "cell_type": "code",
      "metadata": {
        "colab": {
          "base_uri": "https://localhost:8080/"
        },
        "id": "oPzEGsbw8pXk",
        "outputId": "ac59c7c8-93cc-4c79-99cb-d587f5147baf"
      },
      "source": [
        "data = spark.read\\\n",
        "            .format(\"csv\")\\\n",
        "            .option(\"header\", \"true\")\\\n",
        "            .load(\"datasets/london_crime_by_lsoa.csv\")\n",
        "\n",
        "data.count() #DataFrame count"
      ],
      "execution_count": 3,
      "outputs": [
        {
          "output_type": "execute_result",
          "data": {
            "text/plain": [
              "13490604"
            ]
          },
          "metadata": {
            "tags": []
          },
          "execution_count": 3
        }
      ]
    },
    {
      "cell_type": "code",
      "metadata": {
        "colab": {
          "base_uri": "https://localhost:8080/"
        },
        "id": "mw1SXd0617ZS",
        "outputId": "4a87f904-4277-43bb-e2c4-1b21c48b5adc"
      },
      "source": [
        "# easy alternative\n",
        "#data = spark.read.csv('datasets/london_crime_by_lsoa.csv', inferSchema=True, header=True)\n",
        "data.printSchema()\n",
        "data.show()\n",
        "data.limit(5).show() # top 5"
      ],
      "execution_count": 4,
      "outputs": [
        {
          "output_type": "stream",
          "text": [
            "root\n",
            " |-- lsoa_code: string (nullable = true)\n",
            " |-- borough: string (nullable = true)\n",
            " |-- major_category: string (nullable = true)\n",
            " |-- minor_category: string (nullable = true)\n",
            " |-- value: string (nullable = true)\n",
            " |-- year: string (nullable = true)\n",
            " |-- month: string (nullable = true)\n",
            "\n",
            "+---------+--------------------+--------------------+--------------------+-----+----+-----+\n",
            "|lsoa_code|             borough|      major_category|      minor_category|value|year|month|\n",
            "+---------+--------------------+--------------------+--------------------+-----+----+-----+\n",
            "|E01001116|             Croydon|            Burglary|Burglary in Other...|    0|2016|   11|\n",
            "|E01001646|           Greenwich|Violence Against ...|      Other violence|    0|2016|   11|\n",
            "|E01000677|             Bromley|Violence Against ...|      Other violence|    0|2015|    5|\n",
            "|E01003774|           Redbridge|            Burglary|Burglary in Other...|    0|2016|    3|\n",
            "|E01004563|          Wandsworth|             Robbery|   Personal Property|    0|2008|    6|\n",
            "|E01001320|              Ealing|  Theft and Handling|         Other Theft|    0|2012|    5|\n",
            "|E01001342|              Ealing|Violence Against ...|    Offensive Weapon|    0|2010|    7|\n",
            "|E01002633|            Hounslow|             Robbery|   Personal Property|    0|2013|    4|\n",
            "|E01003496|              Newham|     Criminal Damage|Criminal Damage T...|    0|2013|    9|\n",
            "|E01004177|              Sutton|  Theft and Handling|Theft/Taking of P...|    1|2016|    8|\n",
            "|E01001985|            Haringey|  Theft and Handling|Motor Vehicle Int...|    0|2013|   12|\n",
            "|E01003076|             Lambeth|Violence Against ...|      Other violence|    0|2015|    4|\n",
            "|E01003852|Richmond upon Thames|             Robbery|   Personal Property|    0|2014|    1|\n",
            "|E01004547|          Wandsworth|Violence Against ...|    Offensive Weapon|    0|2011|   10|\n",
            "|E01002398|          Hillingdon|  Theft and Handling|Theft/Taking Of M...|    0|2016|    2|\n",
            "|E01002358|            Havering|Violence Against ...|        Wounding/GBH|    0|2012|    2|\n",
            "|E01000086|Barking and Dagenham|  Theft and Handling|  Other Theft Person|    1|2009|    5|\n",
            "|E01003708|           Redbridge|Violence Against ...|      Common Assault|    0|2009|    6|\n",
            "|E01002945|Kingston upon Thames|  Theft and Handling|    Theft From Shops|    0|2016|   11|\n",
            "|E01004195|              Sutton|               Drugs| Possession Of Drugs|    0|2009|   10|\n",
            "+---------+--------------------+--------------------+--------------------+-----+----+-----+\n",
            "only showing top 20 rows\n",
            "\n",
            "+---------+----------+--------------------+--------------------+-----+----+-----+\n",
            "|lsoa_code|   borough|      major_category|      minor_category|value|year|month|\n",
            "+---------+----------+--------------------+--------------------+-----+----+-----+\n",
            "|E01001116|   Croydon|            Burglary|Burglary in Other...|    0|2016|   11|\n",
            "|E01001646| Greenwich|Violence Against ...|      Other violence|    0|2016|   11|\n",
            "|E01000677|   Bromley|Violence Against ...|      Other violence|    0|2015|    5|\n",
            "|E01003774| Redbridge|            Burglary|Burglary in Other...|    0|2016|    3|\n",
            "|E01004563|Wandsworth|             Robbery|   Personal Property|    0|2008|    6|\n",
            "+---------+----------+--------------------+--------------------+-----+----+-----+\n",
            "\n"
          ],
          "name": "stdout"
        }
      ]
    },
    {
      "cell_type": "markdown",
      "metadata": {
        "id": "AWXLNcx1Bwa4"
      },
      "source": [
        "### NA, Drop Column, Select, Distinct, Filter(==, isin, >=), Sample-Fraction "
      ]
    },
    {
      "cell_type": "code",
      "metadata": {
        "colab": {
          "base_uri": "https://localhost:8080/"
        },
        "id": "0b50qSCo7MFC",
        "outputId": "7fab28f2-ed43-47ef-e10e-a20b64769d26"
      },
      "source": [
        "data = data.dropna() # Drop NA values records(Rows)\n",
        "data.count()"
      ],
      "execution_count": 5,
      "outputs": [
        {
          "output_type": "execute_result",
          "data": {
            "text/plain": [
              "13490604"
            ]
          },
          "metadata": {
            "tags": []
          },
          "execution_count": 5
        }
      ]
    },
    {
      "cell_type": "code",
      "metadata": {
        "colab": {
          "base_uri": "https://localhost:8080/"
        },
        "id": "3SBmZnBh8jEm",
        "outputId": "47b692c8-432d-4b2d-8a2d-77733ba6c1d2"
      },
      "source": [
        "data.drop(\"lsoa_code\")\n",
        "total_borough = data.select(\"borough\")\\\n",
        "    .distinct()\n",
        "\n",
        "total_borough.show()"
      ],
      "execution_count": 6,
      "outputs": [
        {
          "output_type": "stream",
          "text": [
            "+--------------------+\n",
            "|             borough|\n",
            "+--------------------+\n",
            "|             Croydon|\n",
            "|          Wandsworth|\n",
            "|              Bexley|\n",
            "|             Lambeth|\n",
            "|Barking and Dagenham|\n",
            "|              Camden|\n",
            "|           Greenwich|\n",
            "|              Newham|\n",
            "|       Tower Hamlets|\n",
            "|            Hounslow|\n",
            "|              Barnet|\n",
            "|              Harrow|\n",
            "|Kensington and Ch...|\n",
            "|           Islington|\n",
            "|               Brent|\n",
            "|            Haringey|\n",
            "|             Bromley|\n",
            "|              Merton|\n",
            "|         Westminster|\n",
            "|             Hackney|\n",
            "+--------------------+\n",
            "only showing top 20 rows\n",
            "\n"
          ],
          "name": "stdout"
        }
      ]
    },
    {
      "cell_type": "code",
      "metadata": {
        "colab": {
          "base_uri": "https://localhost:8080/"
        },
        "id": "guSYGS7v9bHC",
        "outputId": "d2686b2b-140b-42ae-d4e6-b8e6b1e46fae"
      },
      "source": [
        "hackney_data = data.filter(data['borough'] == 'Hackney')\n",
        "hackney_data.show(5) # any 5"
      ],
      "execution_count": 7,
      "outputs": [
        {
          "output_type": "stream",
          "text": [
            "+---------+-------+--------------------+--------------------+-----+----+-----+\n",
            "|lsoa_code|borough|      major_category|      minor_category|value|year|month|\n",
            "+---------+-------+--------------------+--------------------+-----+----+-----+\n",
            "|E01001786|Hackney|     Criminal Damage|Criminal Damage T...|    0|2011|    6|\n",
            "|E01001794|Hackney|Violence Against ...|          Harassment|    1|2013|    2|\n",
            "|E01001787|Hackney|     Criminal Damage|Other Criminal Da...|    0|2011|    7|\n",
            "|E01001738|Hackney|Violence Against ...|        Wounding/GBH|    0|2013|   12|\n",
            "|E01001807|Hackney|  Theft and Handling|  Other Theft Person|    0|2016|    8|\n",
            "+---------+-------+--------------------+--------------------+-----+----+-----+\n",
            "only showing top 5 rows\n",
            "\n"
          ],
          "name": "stdout"
        }
      ]
    },
    {
      "cell_type": "code",
      "metadata": {
        "colab": {
          "base_uri": "https://localhost:8080/"
        },
        "id": "FIRD5a9F96UK",
        "outputId": "72a44241-ad6e-47ea-cb11-70ab3235748f"
      },
      "source": [
        "data_2015_2016 = data.filter(data['year'].isin(['2015', '2016'])) \n",
        "#data_2015_2016.count() # 2997912\n",
        "data_2015_2016_fra_per = data_2015_2016.sample(fraction=0.000002) # Ex 0.2 means 20% so it creates a new dataframe with 20% data from source\n",
        "data_2015_2016_fra_per.show()"
      ],
      "execution_count": 8,
      "outputs": [
        {
          "output_type": "stream",
          "text": [
            "+---------+---------+--------------------+--------------------+-----+----+-----+\n",
            "|lsoa_code|  borough|      major_category|      minor_category|value|year|month|\n",
            "+---------+---------+--------------------+--------------------+-----+----+-----+\n",
            "|E01003981|Southwark|     Criminal Damage|Criminal Damage T...|    0|2015|    8|\n",
            "|E01004016|Southwark|    Fraud or Forgery|  Counted per Victim|    0|2016|    1|\n",
            "|E01002696|Islington|Other Notifiable ...|    Other Notifiable|    1|2015|    9|\n",
            "|E01002020| Haringey|             Robbery|   Business Property|    0|2016|    9|\n",
            "|E01032834|Southwark|  Theft and Handling|    Theft From Shops|    0|2015|    4|\n",
            "|E01003728|Redbridge|Violence Against ...|      Other violence|    1|2016|    1|\n",
            "+---------+---------+--------------------+--------------------+-----+----+-----+\n",
            "\n"
          ],
          "name": "stdout"
        }
      ]
    },
    {
      "cell_type": "code",
      "metadata": {
        "colab": {
          "base_uri": "https://localhost:8080/"
        },
        "id": "jS-8OIDx_ih9",
        "outputId": "9e4329f7-a80e-4c8f-de2d-efbd143207ee"
      },
      "source": [
        "data_data_onwards = data.filter(data['year'] >= 2016)\n",
        "data_data_onwards.sample(fraction = 0.1).show() #10%"
      ],
      "execution_count": 9,
      "outputs": [
        {
          "output_type": "stream",
          "text": [
            "+---------+--------------------+--------------------+--------------------+-----+----+-----+\n",
            "|lsoa_code|             borough|      major_category|      minor_category|value|year|month|\n",
            "+---------+--------------------+--------------------+--------------------+-----+----+-----+\n",
            "|E01001600|           Greenwich|            Burglary|Burglary in Other...|    0|2016|   11|\n",
            "|E01004093|              Sutton|Violence Against ...|        Wounding/GBH|    0|2016|    7|\n",
            "|E01001806|             Hackney|             Robbery|   Business Property|    0|2016|    7|\n",
            "|E01003128|             Lambeth|     Criminal Damage|Criminal Damage T...|    0|2016|    7|\n",
            "|E01004476|          Wandsworth|     Criminal Damage|Criminal Damage T...|    0|2016|   12|\n",
            "|E01001210|              Ealing|  Theft and Handling|Theft/Taking Of M...|    0|2016|    1|\n",
            "|E01002365|            Havering|Violence Against ...|          Harassment|    1|2016|    8|\n",
            "|E01002553|          Hillingdon|            Burglary|Burglary in Other...|    0|2016|   12|\n",
            "|E01003395|              Merton|Violence Against ...|          Harassment|    1|2016|    6|\n",
            "|E01002870|Kensington and Ch...|Other Notifiable ...|      Going Equipped|    0|2016|    1|\n",
            "|E01033735|           Greenwich|               Drugs| Possession Of Drugs|    3|2016|    3|\n",
            "|E01002969|Kingston upon Thames|Other Notifiable ...|    Other Notifiable|    0|2016|   11|\n",
            "|E01003296|            Lewisham|     Criminal Damage|Criminal Damage T...|    2|2016|   12|\n",
            "|E01000569|               Brent|  Theft and Handling|Theft/Taking of P...|    0|2016|   10|\n",
            "|E01002397|          Hillingdon|  Theft and Handling|         Other Theft|    2|2016|    5|\n",
            "|E01003578|              Newham|Violence Against ...|      Other violence|    0|2016|    1|\n",
            "|E01001275|              Ealing|  Theft and Handling|Motor Vehicle Int...|    0|2016|    9|\n",
            "|E01002787|           Islington|     Criminal Damage|Other Criminal Da...|    0|2016|   10|\n",
            "|E01004236|       Tower Hamlets|     Criminal Damage|Other Criminal Da...|    1|2016|    8|\n",
            "|E01004427|      Waltham Forest|             Robbery|   Personal Property|    0|2016|    8|\n",
            "+---------+--------------------+--------------------+--------------------+-----+----+-----+\n",
            "only showing top 20 rows\n",
            "\n"
          ],
          "name": "stdout"
        }
      ]
    },
    {
      "cell_type": "markdown",
      "metadata": {
        "id": "RONFeK4RC9BU"
      },
      "source": [
        "### Aggregation - groupBy, agg, orderBy"
      ]
    },
    {
      "cell_type": "code",
      "metadata": {
        "colab": {
          "base_uri": "https://localhost:8080/"
        },
        "id": "S2qPvpSwASjv",
        "outputId": "a8894c3a-5a26-4e72-d33e-5a42fa35445b"
      },
      "source": [
        "borough_and_count = data.groupBy('borough')\\\n",
        "                        .count()\n",
        "\n",
        "borough_and_count.show()"
      ],
      "execution_count": 10,
      "outputs": [
        {
          "output_type": "stream",
          "text": [
            "+--------------------+------+\n",
            "|             borough| count|\n",
            "+--------------------+------+\n",
            "|             Croydon|602100|\n",
            "|          Wandsworth|498636|\n",
            "|              Bexley|385668|\n",
            "|             Lambeth|519048|\n",
            "|Barking and Dagenham|311040|\n",
            "|              Camden|378432|\n",
            "|           Greenwich|421200|\n",
            "|              Newham|471420|\n",
            "|       Tower Hamlets|412128|\n",
            "|            Hounslow|395928|\n",
            "|              Barnet|572832|\n",
            "|              Harrow|365688|\n",
            "|Kensington and Ch...|296784|\n",
            "|           Islington|359208|\n",
            "|               Brent|490644|\n",
            "|            Haringey|413856|\n",
            "|             Bromley|523908|\n",
            "|              Merton|339876|\n",
            "|         Westminster|366660|\n",
            "|             Hackney|417744|\n",
            "+--------------------+------+\n",
            "only showing top 20 rows\n",
            "\n"
          ],
          "name": "stdout"
        }
      ]
    },
    {
      "cell_type": "code",
      "metadata": {
        "colab": {
          "base_uri": "https://localhost:8080/"
        },
        "id": "Pl37WeBIC63L",
        "outputId": "22fc3f99-2730-4542-98f4-56fcc6c103e3"
      },
      "source": [
        "# the sum is a method and the value is column in the dataframe.\n",
        "#data = data.sample(fraction = 0.001)\n",
        "borought_conviction_sum = data.groupBy('borough')\\\n",
        "                              .agg({\"value\":\"sum\"})\\\n",
        "                              .withColumnRenamed(\"sum(value)\", \"convictions\")\n",
        "\n",
        "borought_conviction_sum.show()"
      ],
      "execution_count": 11,
      "outputs": [
        {
          "output_type": "stream",
          "text": [
            "+--------------------+-----------+\n",
            "|             borough|convictions|\n",
            "+--------------------+-----------+\n",
            "|             Croydon|   260294.0|\n",
            "|          Wandsworth|   204741.0|\n",
            "|              Bexley|   114136.0|\n",
            "|             Lambeth|   292178.0|\n",
            "|Barking and Dagenham|   149447.0|\n",
            "|              Camden|   275147.0|\n",
            "|           Greenwich|   181568.0|\n",
            "|              Newham|   262024.0|\n",
            "|       Tower Hamlets|   228613.0|\n",
            "|            Hounslow|   186772.0|\n",
            "|              Barnet|   212191.0|\n",
            "|              Harrow|   116848.0|\n",
            "|Kensington and Ch...|   171981.0|\n",
            "|           Islington|   230286.0|\n",
            "|               Brent|   227551.0|\n",
            "|            Haringey|   213272.0|\n",
            "|             Bromley|   184349.0|\n",
            "|              Merton|   115654.0|\n",
            "|         Westminster|   455028.0|\n",
            "|             Hackney|   217119.0|\n",
            "+--------------------+-----------+\n",
            "only showing top 20 rows\n",
            "\n"
          ],
          "name": "stdout"
        }
      ]
    },
    {
      "cell_type": "code",
      "metadata": {
        "colab": {
          "base_uri": "https://localhost:8080/"
        },
        "id": "2vCSh5wyEMSZ",
        "outputId": "4bcbad4a-184a-4360-abd3-adb04900f96c"
      },
      "source": [
        "borought_conviction_sum_total = borought_conviction_sum.agg({\"convictions\":\"sum\"})\n",
        "borought_conviction_sum_total.show()\n",
        "total_convictions = borought_conviction_sum_total.collect()[0][0] # 0 row and 0 column"
      ],
      "execution_count": 12,
      "outputs": [
        {
          "output_type": "stream",
          "text": [
            "+----------------+\n",
            "|sum(convictions)|\n",
            "+----------------+\n",
            "|       6447758.0|\n",
            "+----------------+\n",
            "\n"
          ],
          "name": "stdout"
        }
      ]
    },
    {
      "cell_type": "code",
      "metadata": {
        "colab": {
          "base_uri": "https://localhost:8080/"
        },
        "id": "qyThq5nTE8aL",
        "outputId": "a7fc9aa0-77fb-47f3-d0a0-aa60418066ba"
      },
      "source": [
        "import pyspark.sql.functions as func\n",
        "from pyspark.sql.functions import lit # literal\n",
        "\n",
        "# Somehow it is not working.\n",
        "borought_conviction_per = borought_conviction_sum.withColumn(\"contribution percentage(%)\", \n",
        "                                                             func.round(borought_conviction_sum.convictions / total_convictions * 100, 2)\\\n",
        "                                                             )\n",
        "borought_conviction_per.show(5)"
      ],
      "execution_count": 14,
      "outputs": [
        {
          "output_type": "stream",
          "text": [
            "+--------------------+-----------+--------------------------+\n",
            "|             borough|convictions|contribution percentage(%)|\n",
            "+--------------------+-----------+--------------------------+\n",
            "|             Croydon|   260294.0|                      4.04|\n",
            "|          Wandsworth|   204741.0|                      3.18|\n",
            "|              Bexley|   114136.0|                      1.77|\n",
            "|             Lambeth|   292178.0|                      4.53|\n",
            "|Barking and Dagenham|   149447.0|                      2.32|\n",
            "+--------------------+-----------+--------------------------+\n",
            "only showing top 5 rows\n",
            "\n"
          ],
          "name": "stdout"
        }
      ]
    },
    {
      "cell_type": "code",
      "metadata": {
        "colab": {
          "base_uri": "https://localhost:8080/"
        },
        "id": "f6JEwH6gFAmo",
        "outputId": "c20cb8ff-8f8e-4060-84af-972063f6d2a4"
      },
      "source": [
        "# 2 column - contribution percentage(%)\n",
        "borought_conviction_per.orderBy(borought_conviction_per[2].desc())\\\n",
        "                        .show()"
      ],
      "execution_count": 16,
      "outputs": [
        {
          "output_type": "stream",
          "text": [
            "+--------------------+-----------+--------------------------+\n",
            "|             borough|convictions|contribution percentage(%)|\n",
            "+--------------------+-----------+--------------------------+\n",
            "|         Westminster|   455028.0|                      7.06|\n",
            "|             Lambeth|   292178.0|                      4.53|\n",
            "|           Southwark|   278809.0|                      4.32|\n",
            "|              Camden|   275147.0|                      4.27|\n",
            "|              Newham|   262024.0|                      4.06|\n",
            "|             Croydon|   260294.0|                      4.04|\n",
            "|              Ealing|   251562.0|                       3.9|\n",
            "|           Islington|   230286.0|                      3.57|\n",
            "|       Tower Hamlets|   228613.0|                      3.55|\n",
            "|               Brent|   227551.0|                      3.53|\n",
            "|             Hackney|   217119.0|                      3.37|\n",
            "|            Lewisham|   215137.0|                      3.34|\n",
            "|            Haringey|   213272.0|                      3.31|\n",
            "|              Barnet|   212191.0|                      3.29|\n",
            "|          Hillingdon|   209680.0|                      3.25|\n",
            "|          Wandsworth|   204741.0|                      3.18|\n",
            "|      Waltham Forest|   203879.0|                      3.16|\n",
            "|             Enfield|   193880.0|                      3.01|\n",
            "|            Hounslow|   186772.0|                       2.9|\n",
            "|Hammersmith and F...|   185259.0|                      2.87|\n",
            "+--------------------+-----------+--------------------------+\n",
            "only showing top 20 rows\n",
            "\n"
          ],
          "name": "stdout"
        }
      ]
    },
    {
      "cell_type": "code",
      "metadata": {
        "colab": {
          "base_uri": "https://localhost:8080/"
        },
        "id": "vDT0XBZtLLY4",
        "outputId": "ea131992-334c-4e98-f81e-f1eb39f22261"
      },
      "source": [
        "conviction_monthly = data.filter(data['year'] == 2014)\\\n",
        "                          .groupBy('month')\\\n",
        "                          .agg({\"value\":\"sum\"})\\\n",
        "                          .withColumnRenamed(\"sum(value)\", \"convictions\")\n",
        "\n",
        "conviction_monthly.show()"
      ],
      "execution_count": 20,
      "outputs": [
        {
          "output_type": "stream",
          "text": [
            "+-----+-----------+\n",
            "|month|convictions|\n",
            "+-----+-----------+\n",
            "|    7|    58564.0|\n",
            "|   11|    59704.0|\n",
            "|    3|    57669.0|\n",
            "|    8|    55641.0|\n",
            "|    5|    56327.0|\n",
            "|    6|    57039.0|\n",
            "|    9|    56933.0|\n",
            "|    1|    55515.0|\n",
            "|   10|    60537.0|\n",
            "|    4|    53467.0|\n",
            "|   12|    57565.0|\n",
            "|    2|    51222.0|\n",
            "+-----+-----------+\n",
            "\n"
          ],
          "name": "stdout"
        }
      ]
    }
  ]
}