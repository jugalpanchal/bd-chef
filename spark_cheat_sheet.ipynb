{
  "nbformat": 4,
  "nbformat_minor": 0,
  "metadata": {
    "colab": {
      "name": "spark_cheat_sheet.ipynb",
      "provenance": [],
      "collapsed_sections": [],
      "authorship_tag": "ABX9TyNUS0lKT2+WZ2Dkg8fBsDfr",
      "include_colab_link": true
    },
    "kernelspec": {
      "name": "python3",
      "display_name": "Python 3"
    },
    "language_info": {
      "name": "python"
    }
  },
  "cells": [
    {
      "cell_type": "markdown",
      "metadata": {
        "id": "view-in-github",
        "colab_type": "text"
      },
      "source": [
        "<a href=\"https://colab.research.google.com/github/jugalpanchal/bd-chef/blob/main/spark_cheat_sheet.ipynb\" target=\"_parent\"><img src=\"https://colab.research.google.com/assets/colab-badge.svg\" alt=\"Open In Colab\"/></a>"
      ]
    },
    {
      "cell_type": "code",
      "execution_count": 1,
      "metadata": {
        "id": "_6fKJHpyEgSg"
      },
      "outputs": [],
      "source": [
        "# Follow the steps to install the dependencies:\n",
        "!apt-get install openjdk-8-jdk-headless -qq > /dev/null # install java\n",
        "!wget -q https://downloads.apache.org/spark/spark-3.1.2/spark-3.1.2-bin-hadoop3.2.tgz # spark package download\n",
        "!tar xf spark-3.1.2-bin-hadoop3.2.tgz # unzip spark package\n",
        "!pip install -q findspark # install spark\n",
        "\n",
        "# Set the location of Java and Spark:\n",
        "import os\n",
        "os.environ[\"JAVA_HOME\"] = \"/usr/lib/jvm/java-8-openjdk-amd64\"\n",
        "os.environ[\"SPARK_HOME\"] = \"/content/spark-3.1.2-bin-hadoop3.2\"\n",
        "\n",
        "import findspark\n",
        "findspark.init()"
      ]
    },
    {
      "cell_type": "code",
      "source": [
        "from pyspark.sql import SparkSession\n",
        "\n",
        "# create or get spark session\n",
        "spark = SparkSession.builder \\\n",
        "        .master(\"local[*]\") \\\n",
        "        .appName(\"Spark_App1\") \\\n",
        "        .getOrCreate()\n",
        "\n",
        "sc = spark.sparkContext"
      ],
      "metadata": {
        "id": "N6fBezctEtW3"
      },
      "execution_count": 2,
      "outputs": []
    },
    {
      "cell_type": "markdown",
      "source": [
        "##Join"
      ],
      "metadata": {
        "id": "aoCEqT0jGbKO"
      }
    },
    {
      "cell_type": "code",
      "source": [
        "# default inner\n",
        "# cross\n",
        "# inner \n",
        "# left(leftouter, left_outer) \n",
        "# right(rightouter, right_outer)\n",
        "# outer(full, fullouter, full_outer)\n",
        "# semi(leftsemi, left_semi)\n",
        "# anti(leftanti, left_anti)\n",
        "\n",
        "# Note: The join inside () are just a alias in spark. Spark makes everyone happy!!\n",
        "# If you have not applied an alias to the columns of a DataFrame, you will get an error after creating a joined DataFrame. \n",
        "# When two columns are named the same, accessing one of the duplicates named columns returns an error, which basically means that it doesn't know which column you chose.\n",
        "\n",
        "# def join(other, on=None, how=None)\n",
        "# on: In the second parameter, you use the &(ampersand) symbol for AND the |(pipe) symbol for OR between columns."
      ],
      "metadata": {
        "id": "wW5NOU2gE0Pw"
      },
      "execution_count": 59,
      "outputs": []
    },
    {
      "cell_type": "code",
      "source": [
        "df1 = spark.createDataFrame([('TM1', 'Jugal', 'T101'), ('TM2', 'Garvik', 'T102'), ('TM3', 'John', 'T103'), ('TM4', 'Mike', 'T102'), ('TM5', 'Mark', 'T104')]) # pass some tuples within a collection\n",
        "df1 = df1.toDF('tm_id', 'tm_name', 'tm_team_id')\n",
        "\n",
        "df2 = spark.createDataFrame([('T101', 'Sun'), ('T102', 'Moon'), ('T103', 'Mars'), ('T105', 'Jupiter')])\n",
        "df2 = df2.toDF('team_id', 'team_name')\n",
        "\n",
        "df1.show()\n",
        "df2.show()"
      ],
      "metadata": {
        "colab": {
          "base_uri": "https://localhost:8080/"
        },
        "id": "AnAGYQHHGmie",
        "outputId": "80ebf6c2-c0ba-4a33-fddd-37ee7c7077a6"
      },
      "execution_count": 60,
      "outputs": [
        {
          "output_type": "stream",
          "name": "stdout",
          "text": [
            "+-----+-------+----------+\n",
            "|tm_id|tm_name|tm_team_id|\n",
            "+-----+-------+----------+\n",
            "|  TM1|  Jugal|      T101|\n",
            "|  TM2| Garvik|      T102|\n",
            "|  TM3|   John|      T103|\n",
            "|  TM4|   Mike|      T102|\n",
            "|  TM5|   Mark|      T104|\n",
            "+-----+-------+----------+\n",
            "\n",
            "+-------+---------+\n",
            "|team_id|team_name|\n",
            "+-------+---------+\n",
            "|   T101|      Sun|\n",
            "|   T102|     Moon|\n",
            "|   T103|     Mars|\n",
            "|   T105|  Jupiter|\n",
            "+-------+---------+\n",
            "\n"
          ]
        }
      ]
    },
    {
      "cell_type": "code",
      "source": [
        "# cross\n",
        "df3 = df1.crossJoin(df2)\n",
        "df3.show()"
      ],
      "metadata": {
        "colab": {
          "base_uri": "https://localhost:8080/"
        },
        "id": "pKcAahaoRIxS",
        "outputId": "04b7651c-9b8b-48c3-b729-6881b0fd6c05"
      },
      "execution_count": 61,
      "outputs": [
        {
          "output_type": "stream",
          "name": "stdout",
          "text": [
            "+-----+-------+----------+-------+---------+\n",
            "|tm_id|tm_name|tm_team_id|team_id|team_name|\n",
            "+-----+-------+----------+-------+---------+\n",
            "|  TM1|  Jugal|      T101|   T101|      Sun|\n",
            "|  TM1|  Jugal|      T101|   T102|     Moon|\n",
            "|  TM2| Garvik|      T102|   T101|      Sun|\n",
            "|  TM2| Garvik|      T102|   T102|     Moon|\n",
            "|  TM1|  Jugal|      T101|   T103|     Mars|\n",
            "|  TM1|  Jugal|      T101|   T105|  Jupiter|\n",
            "|  TM2| Garvik|      T102|   T103|     Mars|\n",
            "|  TM2| Garvik|      T102|   T105|  Jupiter|\n",
            "|  TM3|   John|      T103|   T101|      Sun|\n",
            "|  TM3|   John|      T103|   T102|     Moon|\n",
            "|  TM4|   Mike|      T102|   T101|      Sun|\n",
            "|  TM4|   Mike|      T102|   T102|     Moon|\n",
            "|  TM5|   Mark|      T104|   T101|      Sun|\n",
            "|  TM5|   Mark|      T104|   T102|     Moon|\n",
            "|  TM3|   John|      T103|   T103|     Mars|\n",
            "|  TM3|   John|      T103|   T105|  Jupiter|\n",
            "|  TM4|   Mike|      T102|   T103|     Mars|\n",
            "|  TM4|   Mike|      T102|   T105|  Jupiter|\n",
            "|  TM5|   Mark|      T104|   T103|     Mars|\n",
            "|  TM5|   Mark|      T104|   T105|  Jupiter|\n",
            "+-----+-------+----------+-------+---------+\n",
            "\n"
          ]
        }
      ]
    },
    {
      "cell_type": "code",
      "source": [
        "# inner\n",
        "df3 = df1.join(df2, df1.tm_team_id == df2.team_id, 'inner')\n",
        "df3.show()"
      ],
      "metadata": {
        "colab": {
          "base_uri": "https://localhost:8080/"
        },
        "id": "TJMP8LmmI1tb",
        "outputId": "7070a8fd-6d3b-4bc3-fcf5-eb4e60348963"
      },
      "execution_count": 62,
      "outputs": [
        {
          "output_type": "stream",
          "name": "stdout",
          "text": [
            "+-----+-------+----------+-------+---------+\n",
            "|tm_id|tm_name|tm_team_id|team_id|team_name|\n",
            "+-----+-------+----------+-------+---------+\n",
            "|  TM3|   John|      T103|   T103|     Mars|\n",
            "|  TM2| Garvik|      T102|   T102|     Moon|\n",
            "|  TM4|   Mike|      T102|   T102|     Moon|\n",
            "|  TM1|  Jugal|      T101|   T101|      Sun|\n",
            "+-----+-------+----------+-------+---------+\n",
            "\n"
          ]
        }
      ]
    },
    {
      "cell_type": "code",
      "source": [
        "# left(leftouter, left_outer) \n",
        "df3 = df1.join(df2, df1.tm_team_id == df2.team_id, 'left')\n",
        "df3.show()"
      ],
      "metadata": {
        "colab": {
          "base_uri": "https://localhost:8080/"
        },
        "id": "do_MEBm7VCFP",
        "outputId": "2468899b-ab30-4144-d8f2-f464c970d135"
      },
      "execution_count": 63,
      "outputs": [
        {
          "output_type": "stream",
          "name": "stdout",
          "text": [
            "+-----+-------+----------+-------+---------+\n",
            "|tm_id|tm_name|tm_team_id|team_id|team_name|\n",
            "+-----+-------+----------+-------+---------+\n",
            "|  TM3|   John|      T103|   T103|     Mars|\n",
            "|  TM5|   Mark|      T104|   null|     null|\n",
            "|  TM2| Garvik|      T102|   T102|     Moon|\n",
            "|  TM4|   Mike|      T102|   T102|     Moon|\n",
            "|  TM1|  Jugal|      T101|   T101|      Sun|\n",
            "+-----+-------+----------+-------+---------+\n",
            "\n"
          ]
        }
      ]
    },
    {
      "cell_type": "code",
      "source": [
        "# right(rightouter, right_outer)\n",
        "df3 = df1.join(df2, df1.tm_team_id == df2.team_id, 'right')\n",
        "df3.show()"
      ],
      "metadata": {
        "colab": {
          "base_uri": "https://localhost:8080/"
        },
        "id": "69vhzRV7WnUP",
        "outputId": "a17ea66d-d490-449a-b343-ee99928411c7"
      },
      "execution_count": 64,
      "outputs": [
        {
          "output_type": "stream",
          "name": "stdout",
          "text": [
            "+-----+-------+----------+-------+---------+\n",
            "|tm_id|tm_name|tm_team_id|team_id|team_name|\n",
            "+-----+-------+----------+-------+---------+\n",
            "|  TM3|   John|      T103|   T103|     Mars|\n",
            "|  TM2| Garvik|      T102|   T102|     Moon|\n",
            "|  TM4|   Mike|      T102|   T102|     Moon|\n",
            "|  TM1|  Jugal|      T101|   T101|      Sun|\n",
            "| null|   null|      null|   T105|  Jupiter|\n",
            "+-----+-------+----------+-------+---------+\n",
            "\n"
          ]
        }
      ]
    },
    {
      "cell_type": "code",
      "source": [
        "# outer(full, fullouter, full_outer) \n",
        "df3 = df1.join(df2, df1.tm_team_id == df2.team_id, 'outer')\n",
        "df3.show()"
      ],
      "metadata": {
        "colab": {
          "base_uri": "https://localhost:8080/"
        },
        "id": "zqLALvkSXeEc",
        "outputId": "9db89504-c158-48ac-d24b-cd4c111a2dcf"
      },
      "execution_count": 65,
      "outputs": [
        {
          "output_type": "stream",
          "name": "stdout",
          "text": [
            "+-----+-------+----------+-------+---------+\n",
            "|tm_id|tm_name|tm_team_id|team_id|team_name|\n",
            "+-----+-------+----------+-------+---------+\n",
            "|  TM3|   John|      T103|   T103|     Mars|\n",
            "|  TM5|   Mark|      T104|   null|     null|\n",
            "|  TM2| Garvik|      T102|   T102|     Moon|\n",
            "|  TM4|   Mike|      T102|   T102|     Moon|\n",
            "|  TM1|  Jugal|      T101|   T101|      Sun|\n",
            "| null|   null|      null|   T105|  Jupiter|\n",
            "+-----+-------+----------+-------+---------+\n",
            "\n"
          ]
        }
      ]
    },
    {
      "cell_type": "code",
      "source": [
        "# semi(leftsemi, left_semi) - it's same like the left join but without the right hand side table.\n",
        "df3 = df1.join(df2, df1.tm_team_id == df2.team_id, 'leftsemi')\n",
        "df3.show()"
      ],
      "metadata": {
        "colab": {
          "base_uri": "https://localhost:8080/"
        },
        "id": "EvNXm9-EY9Sw",
        "outputId": "b6a366e5-2898-41a3-a291-7304356791a2"
      },
      "execution_count": 66,
      "outputs": [
        {
          "output_type": "stream",
          "name": "stdout",
          "text": [
            "+-----+-------+----------+\n",
            "|tm_id|tm_name|tm_team_id|\n",
            "+-----+-------+----------+\n",
            "|  TM3|   John|      T103|\n",
            "|  TM2| Garvik|      T102|\n",
            "|  TM4|   Mike|      T102|\n",
            "|  TM1|  Jugal|      T101|\n",
            "+-----+-------+----------+\n",
            "\n"
          ]
        }
      ]
    },
    {
      "cell_type": "code",
      "source": [
        "# anti(leftanti, left_anti) - opposite of the left semi join. The data is not matched with the right side.\n",
        "df3 = df1.join(df2, df1.tm_team_id == df2.team_id, 'anti')\n",
        "df3.show()"
      ],
      "metadata": {
        "colab": {
          "base_uri": "https://localhost:8080/"
        },
        "id": "W73RofbnbJuu",
        "outputId": "ecee5e75-77fe-4687-d78b-9e6bab09cde2"
      },
      "execution_count": 67,
      "outputs": [
        {
          "output_type": "stream",
          "name": "stdout",
          "text": [
            "+-----+-------+----------+\n",
            "|tm_id|tm_name|tm_team_id|\n",
            "+-----+-------+----------+\n",
            "|  TM5|   Mark|      T104|\n",
            "+-----+-------+----------+\n",
            "\n"
          ]
        }
      ]
    }
  ]
}