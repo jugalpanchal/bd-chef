{
  "nbformat": 4,
  "nbformat_minor": 0,
  "metadata": {
    "colab": {
      "name": "spark_cheat_sheet.ipynb",
      "provenance": [],
      "authorship_tag": "ABX9TyPsFEw7InuY5Q0xnGoYyI9P",
      "include_colab_link": true
    },
    "kernelspec": {
      "name": "python3",
      "display_name": "Python 3"
    },
    "language_info": {
      "name": "python"
    }
  },
  "cells": [
    {
      "cell_type": "markdown",
      "metadata": {
        "id": "view-in-github",
        "colab_type": "text"
      },
      "source": [
        "<a href=\"https://colab.research.google.com/github/jugalpanchal/bd-chef/blob/main/spark_cheat_sheet.ipynb\" target=\"_parent\"><img src=\"https://colab.research.google.com/assets/colab-badge.svg\" alt=\"Open In Colab\"/></a>"
      ]
    },
    {
      "cell_type": "code",
      "execution_count": 1,
      "metadata": {
        "id": "_6fKJHpyEgSg"
      },
      "outputs": [],
      "source": [
        "# Follow the steps to install the dependencies:\n",
        "!apt-get install openjdk-8-jdk-headless -qq > /dev/null # install java\n",
        "!wget -q https://downloads.apache.org/spark/spark-3.1.2/spark-3.1.2-bin-hadoop3.2.tgz # spark package download\n",
        "!tar xf spark-3.1.2-bin-hadoop3.2.tgz # unzip spark package\n",
        "!pip install -q findspark # install spark\n",
        "\n",
        "# Set the location of Java and Spark:\n",
        "import os\n",
        "os.environ[\"JAVA_HOME\"] = \"/usr/lib/jvm/java-8-openjdk-amd64\"\n",
        "os.environ[\"SPARK_HOME\"] = \"/content/spark-3.1.2-bin-hadoop3.2\"\n",
        "\n",
        "import findspark\n",
        "findspark.init()"
      ]
    },
    {
      "cell_type": "code",
      "source": [
        "from pyspark.sql import SparkSession\n",
        "\n",
        "# create or get spark session\n",
        "spark = SparkSession.builder \\\n",
        "        .master(\"local[*]\") \\\n",
        "        .appName(\"Spark_App1\") \\\n",
        "        .getOrCreate()\n",
        "\n",
        "sc = spark.sparkContext"
      ],
      "metadata": {
        "id": "N6fBezctEtW3"
      },
      "execution_count": 2,
      "outputs": []
    },
    {
      "cell_type": "markdown",
      "source": [
        "##Join"
      ],
      "metadata": {
        "id": "aoCEqT0jGbKO"
      }
    },
    {
      "cell_type": "code",
      "source": [
        "# default inner\n",
        "# inner, cross, outer, full, fullouter, full_outer, \n",
        "# left, leftouter, left_outer, \n",
        "# right, rightouter, right_outer, \n",
        "# semi, leftsemi, left_semi, \n",
        "# anti, leftanti, left_anti"
      ],
      "metadata": {
        "id": "wW5NOU2gE0Pw"
      },
      "execution_count": 4,
      "outputs": []
    },
    {
      "cell_type": "code",
      "source": [
        "df1 = spark.createDataFrame([('TM1', 'Jugal', 'T101'), ('TM2', 'Garvik', 'T102'), ('TM3', 'John', 'T103'), ('TM4', 'Mike', 'T102')]) # pass some tuples within a collection\n",
        "df1 = df1.toDF('tm_id', 'tm_name', 'tm_team_id')\n",
        "\n",
        "df2 = spark.createDataFrame([('T101', 'Sun'), ('T102', 'Moon'), ('T103', 'Mars')])\n",
        "df2 = df2.toDF('team_id', 'team_name')\n",
        "\n",
        "df1.show()\n",
        "df2.show()"
      ],
      "metadata": {
        "colab": {
          "base_uri": "https://localhost:8080/"
        },
        "id": "AnAGYQHHGmie",
        "outputId": "3bd3e599-683e-4794-8b9f-396849a905ee"
      },
      "execution_count": 14,
      "outputs": [
        {
          "output_type": "stream",
          "name": "stdout",
          "text": [
            "+-----+-------+----------+\n",
            "|tm_id|tm_name|tm_team_id|\n",
            "+-----+-------+----------+\n",
            "|  TM1|  Jugal|      T101|\n",
            "|  TM2| Garvik|      T102|\n",
            "|  TM3|   John|      T103|\n",
            "|  TM4|   Mike|      T102|\n",
            "+-----+-------+----------+\n",
            "\n",
            "+-------+---------+\n",
            "|team_id|team_name|\n",
            "+-------+---------+\n",
            "|   T101|      Sun|\n",
            "|   T102|     Moon|\n",
            "|   T103|     Mars|\n",
            "+-------+---------+\n",
            "\n"
          ]
        }
      ]
    },
    {
      "cell_type": "code",
      "source": [
        "# join\n"
      ],
      "metadata": {
        "id": "TJMP8LmmI1tb"
      },
      "execution_count": 15,
      "outputs": []
    }
  ]
}