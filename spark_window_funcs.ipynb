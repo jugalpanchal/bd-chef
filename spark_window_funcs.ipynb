{
  "nbformat": 4,
  "nbformat_minor": 0,
  "metadata": {
    "colab": {
      "name": "spark_window_funcs.ipynb",
      "provenance": [],
      "authorship_tag": "ABX9TyPbpKB4If5FbolNRmlnnmNa",
      "include_colab_link": true
    },
    "kernelspec": {
      "name": "python3",
      "display_name": "Python 3"
    },
    "language_info": {
      "name": "python"
    }
  },
  "cells": [
    {
      "cell_type": "markdown",
      "metadata": {
        "id": "view-in-github",
        "colab_type": "text"
      },
      "source": [
        "<a href=\"https://colab.research.google.com/github/jugalpanchal/bd-chef/blob/main/spark_window_funcs.ipynb\" target=\"_parent\"><img src=\"https://colab.research.google.com/assets/colab-badge.svg\" alt=\"Open In Colab\"/></a>"
      ]
    },
    {
      "cell_type": "code",
      "metadata": {
        "id": "B4mEr9DHwIuQ"
      },
      "source": [
        "# Follow the steps to install the dependencies:\n",
        "!apt-get install openjdk-8-jdk-headless -qq > /dev/null # install java\n",
        "!wget -q https://downloads.apache.org/spark/spark-3.1.2/spark-3.1.2-bin-hadoop3.2.tgz # spark package download\n",
        "!tar xf spark-3.1.2-bin-hadoop3.2.tgz # unzip spark package\n",
        "!pip install -q findspark # install spark\n",
        "\n",
        "# Set the location of Java and Spark:\n",
        "import os\n",
        "os.environ[\"JAVA_HOME\"] = \"/usr/lib/jvm/java-8-openjdk-amd64\"\n",
        "os.environ[\"SPARK_HOME\"] = \"/content/spark-3.1.2-bin-hadoop3.2\"\n",
        "\n",
        "import findspark\n",
        "findspark.init()"
      ],
      "execution_count": 1,
      "outputs": []
    },
    {
      "cell_type": "code",
      "metadata": {
        "id": "yDXucH1wwMzE"
      },
      "source": [
        "from pyspark.sql import SparkSession\n",
        "from pyspark.sql.types import Row\n",
        "\n",
        "# create or get spark session\n",
        "spark = SparkSession.builder \\\n",
        "        .master(\"local[*]\") \\\n",
        "        .appName(\"Spark_App1\") \\\n",
        "        .getOrCreate()\n",
        "\n",
        "# Spark 2.x does not give direct sparkcontext so we need to get it from SparkSession\n",
        "sc = spark.sparkContext"
      ],
      "execution_count": 2,
      "outputs": []
    },
    {
      "cell_type": "code",
      "metadata": {
        "id": "c_USnhbkwO9V"
      },
      "source": [
        "products_df = spark.read.format('csv')\\\n",
        "  .option('header', 'true')\\\n",
        "  .load('datasets/products.csv')"
      ],
      "execution_count": 3,
      "outputs": []
    },
    {
      "cell_type": "code",
      "metadata": {
        "colab": {
          "base_uri": "https://localhost:8080/"
        },
        "id": "4uyjxVKHxIlh",
        "outputId": "c5d11849-2cc5-4ada-8cb0-bf5aacd8f841"
      },
      "source": [
        "products_df.show()"
      ],
      "execution_count": 4,
      "outputs": [
        {
          "output_type": "stream",
          "text": [
            "+----------+--------+-----+\n",
            "|   product|category|price|\n",
            "+----------+--------+-----+\n",
            "|Samsung TX|  Tablet|  999|\n",
            "|Samsung JX|  Mobile|  799|\n",
            "|Redmi Note|  Mobile|  399|\n",
            "|        Mi|  Mobile|  299|\n",
            "|      iPad|  Tablet|  789|\n",
            "|    iPhone|  Mobile|  999|\n",
            "|  Micromax|  Mobile|  249|\n",
            "|    Lenovo|  Tablet|  499|\n",
            "|   OnePlus|  Mobile|  356|\n",
            "|        Xu|  Tablet|  267|\n",
            "+----------+--------+-----+\n",
            "\n"
          ],
          "name": "stdout"
        }
      ]
    },
    {
      "cell_type": "code",
      "metadata": {
        "colab": {
          "base_uri": "https://localhost:8080/"
        },
        "id": "TyUr43RQxd2H",
        "outputId": "649befc0-c834-4b3f-e89e-52727e3fb89d"
      },
      "source": [
        "import sys\n",
        "from pyspark.sql.window import Window\n",
        "import pyspark.sql.functions as func\n",
        "\n",
        "# Case1:\n",
        "# partition by category so there would be two partition. e.g. Tablet and Mobile\n",
        "# there is a individual order by in each partition\n",
        "win_func1 = Window.partitionBy(products_df['category'])\\\n",
        "  .orderBy(products_df['price'].desc())\n",
        "\n",
        " # add a rank with each row in each individual partition/window\n",
        "#price_rank = func.rank().over(win_func1)\n",
        "\n",
        "# DataFrame[product: string, category: string, price: string, rank: int]\n",
        "products_rank_df = products_df.select(\n",
        "        products_df['product'], \n",
        "        products_df['category'], \n",
        "        products_df['price']\n",
        "      ).withColumn('product_rank', func.rank().over(win_func1))\n",
        "\n",
        "products_rank_df.show()"
      ],
      "execution_count": 5,
      "outputs": [
        {
          "output_type": "stream",
          "text": [
            "+----------+--------+-----+------------+\n",
            "|   product|category|price|product_rank|\n",
            "+----------+--------+-----+------------+\n",
            "|    iPhone|  Mobile|  999|           1|\n",
            "|Samsung JX|  Mobile|  799|           2|\n",
            "|Redmi Note|  Mobile|  399|           3|\n",
            "|   OnePlus|  Mobile|  356|           4|\n",
            "|        Mi|  Mobile|  299|           5|\n",
            "|  Micromax|  Mobile|  249|           6|\n",
            "|Samsung TX|  Tablet|  999|           1|\n",
            "|      iPad|  Tablet|  789|           2|\n",
            "|    Lenovo|  Tablet|  499|           3|\n",
            "|        Xu|  Tablet|  267|           4|\n",
            "+----------+--------+-----+------------+\n",
            "\n"
          ],
          "name": "stdout"
        }
      ]
    },
    {
      "cell_type": "code",
      "metadata": {
        "colab": {
          "base_uri": "https://localhost:8080/"
        },
        "id": "zkvTiyzt0Y-0",
        "outputId": "30472ea9-6de5-42b2-a5f2-4656956a3087"
      },
      "source": [
        "# Case2:\n",
        "# partition by category so there would be two partition. e.g. Tablet and Mobile\n",
        "# there is a individual order by in each partition\n",
        "win_func2 = Window.partitionBy(products_df['category'])\\\n",
        "  .orderBy(products_df['price'].desc())\\\n",
        "  .rowsBetween(-1, 0) # specificy the frame specification; -1 is previuse row and 0 is current row\n",
        "# There is a special handing when the cursor is at the first row then -1 is pointing to the currrent row because there is no -1 row.\n",
        "\n",
        " # find a price accoresponding the window specification\n",
        " # add a max price with each row in each individual partition/window\n",
        " # It picks the price from the previous row for the current row.\n",
        "price_max = func.max(products_df['price']).over(win_func2)\n",
        "\n",
        "products_max_df = products_df.select(\n",
        "          products_df['product'], \n",
        "          products_df['category'],\n",
        "          products_df['price'],\n",
        "          price_max.alias('price_max'))\n",
        "\n",
        "products_max_df.show()\n",
        "\n",
        "# Ex. The Micromax range can be 249 to 299. If price goes more than the 299 then the customer will go with the Mi."
      ],
      "execution_count": 6,
      "outputs": [
        {
          "output_type": "stream",
          "text": [
            "+----------+--------+-----+---------+\n",
            "|   product|category|price|price_max|\n",
            "+----------+--------+-----+---------+\n",
            "|    iPhone|  Mobile|  999|      999|\n",
            "|Samsung JX|  Mobile|  799|      999|\n",
            "|Redmi Note|  Mobile|  399|      799|\n",
            "|   OnePlus|  Mobile|  356|      399|\n",
            "|        Mi|  Mobile|  299|      356|\n",
            "|  Micromax|  Mobile|  249|      299|\n",
            "|Samsung TX|  Tablet|  999|      999|\n",
            "|      iPad|  Tablet|  789|      999|\n",
            "|    Lenovo|  Tablet|  499|      789|\n",
            "|        Xu|  Tablet|  267|      499|\n",
            "+----------+--------+-----+---------+\n",
            "\n"
          ],
          "name": "stdout"
        }
      ]
    },
    {
      "cell_type": "code",
      "metadata": {
        "colab": {
          "base_uri": "https://localhost:8080/"
        },
        "id": "IlivFKBx3lWp",
        "outputId": "5e4ae17a-67f6-476d-927c-6817c512b30d"
      },
      "source": [
        "# Case3:\n",
        "win_func3 = Window.partitionBy(products_df['category'])\\\n",
        "                  .orderBy(products_df['price'].desc())\\\n",
        "                  .rangeBetween(-sys.maxsize, sys.maxsize) # the sys.maxsize is all rows (before current row, after current row)\n",
        "\n",
        "price_diff = func.max(products_df['price']).over(win_func3) - products_df['price']\n",
        "\n",
        "products_diff_df = products_df.select(\n",
        "          products_df['product'], \n",
        "          products_df['category'],\n",
        "          products_df['price'],\n",
        "          price_diff.alias('price_diff'))\n",
        "\n",
        "products_diff_df.show()\n",
        "\n",
        "# Ex. Samsung JX price is $799 and differece between the max price product is $200(999-799)\n",
        "# Ex. OnePlus price is $356 and difference between the max price product is $643(999-356)"
      ],
      "execution_count": 7,
      "outputs": [
        {
          "output_type": "stream",
          "text": [
            "+----------+--------+-----+----------+\n",
            "|   product|category|price|price_diff|\n",
            "+----------+--------+-----+----------+\n",
            "|    iPhone|  Mobile|  999|       0.0|\n",
            "|Samsung JX|  Mobile|  799|     200.0|\n",
            "|Redmi Note|  Mobile|  399|     600.0|\n",
            "|   OnePlus|  Mobile|  356|     643.0|\n",
            "|        Mi|  Mobile|  299|     700.0|\n",
            "|  Micromax|  Mobile|  249|     750.0|\n",
            "|Samsung TX|  Tablet|  999|       0.0|\n",
            "|      iPad|  Tablet|  789|     210.0|\n",
            "|    Lenovo|  Tablet|  499|     500.0|\n",
            "|        Xu|  Tablet|  267|     732.0|\n",
            "+----------+--------+-----+----------+\n",
            "\n"
          ],
          "name": "stdout"
        }
      ]
    }
  ]
}