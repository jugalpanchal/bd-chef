{
  "nbformat": 4,
  "nbformat_minor": 0,
  "metadata": {
    "colab": {
      "name": "spark_sql_etl_airline_anlys.ipynb",
      "provenance": [],
      "authorship_tag": "ABX9TyMbRUiLuJ4Rk4mLsz3tuOKv",
      "include_colab_link": true
    },
    "kernelspec": {
      "name": "python3",
      "display_name": "Python 3"
    },
    "language_info": {
      "name": "python"
    }
  },
  "cells": [
    {
      "cell_type": "markdown",
      "metadata": {
        "id": "view-in-github",
        "colab_type": "text"
      },
      "source": [
        "<a href=\"https://colab.research.google.com/github/jugalpanchal/bd-chef/blob/main/spark_sql_etl_airline_anlys.ipynb\" target=\"_parent\"><img src=\"https://colab.research.google.com/assets/colab-badge.svg\" alt=\"Open In Colab\"/></a>"
      ]
    },
    {
      "cell_type": "code",
      "metadata": {
        "id": "vbK2zZqBAOMG"
      },
      "source": [
        "# Follow the steps to install the dependencies:\n",
        "!apt-get install openjdk-8-jdk-headless -qq > /dev/null # install java\n",
        "!wget -q https://downloads.apache.org/spark/spark-3.1.2/spark-3.1.2-bin-hadoop3.2.tgz # spark package download\n",
        "!tar xf spark-3.1.2-bin-hadoop3.2.tgz # unzip spark package\n",
        "!pip install -q findspark # install spark\n",
        "\n",
        "# Set the location of Java and Spark:\n",
        "import os\n",
        "os.environ[\"JAVA_HOME\"] = \"/usr/lib/jvm/java-8-openjdk-amd64\"\n",
        "os.environ[\"SPARK_HOME\"] = \"/content/spark-3.1.2-bin-hadoop3.2\"\n",
        "\n",
        "import findspark\n",
        "findspark.init()"
      ],
      "execution_count": 1,
      "outputs": []
    },
    {
      "cell_type": "code",
      "metadata": {
        "id": "hCCYPpxnAQBe"
      },
      "source": [
        "from pyspark.sql import SparkSession\n",
        "\n",
        "# create or get spark session\n",
        "spark = SparkSession.builder \\\n",
        "        .master(\"local[*]\") \\\n",
        "        .appName(\"Spark_App1\") \\\n",
        "        .getOrCreate()\n",
        "\n",
        "sc = spark.sparkContext # create a SQL context"
      ],
      "execution_count": 2,
      "outputs": []
    },
    {
      "cell_type": "code",
      "metadata": {
        "colab": {
          "base_uri": "https://localhost:8080/"
        },
        "id": "iJWkpe3mARpM",
        "outputId": "ee2ed293-ad63-4f57-ddeb-3fb09345b362"
      },
      "source": [
        "from pyspark.sql import SQLContext\n",
        "from pyspark.sql.types import Row\n",
        "from datetime import datetime\n",
        "\n",
        "sqlc = SQLContext(sc) # create a SQL context\n",
        "sqlc\n",
        "\n",
        "# Alternative to get the sql method is:\n",
        "#spark.sql('')"
      ],
      "execution_count": 25,
      "outputs": [
        {
          "output_type": "execute_result",
          "data": {
            "text/plain": [
              "<pyspark.sql.context.SQLContext at 0x7f1d374aa5d0>"
            ]
          },
          "metadata": {
            "tags": []
          },
          "execution_count": 25
        }
      ]
    },
    {
      "cell_type": "code",
      "metadata": {
        "id": "gBVAWzCxAoZy"
      },
      "source": [
        "airlines_file_path = 'datasets/airlines.csv'\n",
        "flights_file_path = 'datasets/flights.csv'\n",
        "airports_file_path = 'datasets/airports.csv'"
      ],
      "execution_count": 9,
      "outputs": []
    },
    {
      "cell_type": "code",
      "metadata": {
        "colab": {
          "base_uri": "https://localhost:8080/"
        },
        "id": "krJp5_aLDYY0",
        "outputId": "198c9f38-0d63-44aa-8ead-8664936abbf7"
      },
      "source": [
        "airlines_df = spark.read.format('csv')\\\n",
        "  .option('header', 'true')\\\n",
        "  .load(airlines_file_path)\n",
        "\n",
        "flights_df = spark.read.format('csv')\\\n",
        "  .option('header', 'true')\\\n",
        "  .load(flights_file_path)\n",
        "\n",
        "airlines_df.show()\n",
        "flights_df.show()"
      ],
      "execution_count": 14,
      "outputs": [
        {
          "output_type": "stream",
          "text": [
            "+-----+--------------------+\n",
            "| Code|         Description|\n",
            "+-----+--------------------+\n",
            "|19031|Mackey Internatio...|\n",
            "|19032|Munz Northern Air...|\n",
            "|19033|Cochise Airlines ...|\n",
            "|19034|Golden Gate Airli...|\n",
            "|19035|  Aeromech Inc.: RZZ|\n",
            "|19036|Golden West Airli...|\n",
            "|19037|Puerto Rico Intl ...|\n",
            "|19038|Air America Inc.:...|\n",
            "|19039|Swift Aire Lines ...|\n",
            "|19040|American Central ...|\n",
            "|19041|Valdez Airlines: VEZ|\n",
            "|19042|Southeast Alaska ...|\n",
            "|19043|Altair Airlines I...|\n",
            "|19044|Chitina Air Servi...|\n",
            "|19045|Marco Island Airw...|\n",
            "|19046|Caribbean Air Ser...|\n",
            "|19047|Sundance Airlines...|\n",
            "|19048|Seair Alaska Airl...|\n",
            "|19049|Southeast Airline...|\n",
            "|19050|Alaska Aeronautic...|\n",
            "+-----+--------------------+\n",
            "only showing top 20 rows\n",
            "\n",
            "+----------+--------+-------------+------+-----------+---------+---------------+-------+-------------+--------+--------+\n",
            "|      date|airlines|flight_number|origin|destination|departure|departure_delay|arrival|arrival_delay|air_time|distance|\n",
            "+----------+--------+-------------+------+-----------+---------+---------------+-------+-------------+--------+--------+\n",
            "|2014-04-01|   19805|            1|   JFK|        LAX|     0854|          -6.00|   1217|         2.00|  355.00| 2475.00|\n",
            "|2014-04-01|   19805|            2|   LAX|        JFK|     0944|          14.00|   1736|       -29.00|  269.00| 2475.00|\n",
            "|2014-04-01|   19805|            3|   JFK|        LAX|     1224|          -6.00|   1614|        39.00|  371.00| 2475.00|\n",
            "|2014-04-01|   19805|            4|   LAX|        JFK|     1240|          25.00|   2028|       -27.00|  264.00| 2475.00|\n",
            "|2014-04-01|   19805|            5|   DFW|        HNL|     1300|          -5.00|   1650|        15.00|  510.00| 3784.00|\n",
            "|2014-04-01|   19805|            6|   OGG|        DFW|     1901|         126.00|   0640|        95.00|  385.00| 3711.00|\n",
            "|2014-04-01|   19805|            7|   DFW|        OGG|     1410|         125.00|   1743|       138.00|  497.00| 3711.00|\n",
            "|2014-04-01|   19805|            8|   HNL|        DFW|     1659|           4.00|   0458|       -22.00|  398.00| 3784.00|\n",
            "|2014-04-01|   19805|            9|   JFK|        LAX|     0648|          -7.00|   1029|        19.00|  365.00| 2475.00|\n",
            "|2014-04-01|   19805|           10|   LAX|        JFK|     2156|          21.00|   0556|         1.00|  265.00| 2475.00|\n",
            "|2014-04-01|   19805|           12|   LAX|        JFK|     1113|          -2.00|   1910|       -40.00|  267.00| 2475.00|\n",
            "|2014-04-01|   19805|           14|   OGG|        LAX|     2235|           5.00|   0618|       -17.00|  270.00| 2486.00|\n",
            "|2014-04-01|   19805|           15|   BOS|        ORD|     0611|          -9.00|   0756|       -19.00|  129.00|  867.00|\n",
            "|2014-04-01|   19805|           16|   SFO|        JFK|     1312|          17.00|   2107|       -33.00|  268.00| 2586.00|\n",
            "|2014-04-01|   19805|           17|   ATL|        MIA|     0630|          -5.00|   0813|       -17.00|   83.00|  594.00|\n",
            "|2014-04-01|   19805|           18|   SFO|        JFK|     0022|         112.00|   0833|        88.00|  288.00| 2586.00|\n",
            "|2014-04-01|   19805|           19|   JFK|        LAX|     1024|          -6.00|   1353|        18.00|  359.00| 2475.00|\n",
            "|2014-04-01|   19805|           20|   SFO|        JFK|     1715|         135.00|   0130|       120.00|  277.00| 2586.00|\n",
            "|2014-04-01|   19805|           21|   JFK|        LAX|     1906|          -4.00|   2246|        16.00|  359.00| 2475.00|\n",
            "|2014-04-01|   19805|           22|   LAX|        JFK|     1458|          -2.00|   2336|        11.00|  272.00| 2475.00|\n",
            "+----------+--------+-------------+------+-----------+---------+---------------+-------+-------------+--------+--------+\n",
            "only showing top 20 rows\n",
            "\n"
          ],
          "name": "stdout"
        }
      ]
    },
    {
      "cell_type": "code",
      "metadata": {
        "colab": {
          "base_uri": "https://localhost:8080/"
        },
        "id": "0w2oAdfcFnw1",
        "outputId": "cd43314a-ed12-4aec-d929-d6637cb78b8c"
      },
      "source": [
        "airlines_df.createOrReplaceTempView('airlines_tbl')\n",
        "flights_df.createOrReplaceTempView('flights_tbl')\n",
        "\n",
        "airlines_tbl_df = sqlc.sql('select * from airlines_tbl')\n",
        "flights_tbl_df = spark.sql('select * from flights_tbl') # alternative way to call the sql method\n",
        "\n",
        "airlines_tbl_df.show()\n",
        "flights_tbl_df.show()"
      ],
      "execution_count": 34,
      "outputs": [
        {
          "output_type": "stream",
          "text": [
            "+-----+--------------------+\n",
            "| Code|         Description|\n",
            "+-----+--------------------+\n",
            "|19031|Mackey Internatio...|\n",
            "|19032|Munz Northern Air...|\n",
            "|19033|Cochise Airlines ...|\n",
            "|19034|Golden Gate Airli...|\n",
            "|19035|  Aeromech Inc.: RZZ|\n",
            "|19036|Golden West Airli...|\n",
            "|19037|Puerto Rico Intl ...|\n",
            "|19038|Air America Inc.:...|\n",
            "|19039|Swift Aire Lines ...|\n",
            "|19040|American Central ...|\n",
            "|19041|Valdez Airlines: VEZ|\n",
            "|19042|Southeast Alaska ...|\n",
            "|19043|Altair Airlines I...|\n",
            "|19044|Chitina Air Servi...|\n",
            "|19045|Marco Island Airw...|\n",
            "|19046|Caribbean Air Ser...|\n",
            "|19047|Sundance Airlines...|\n",
            "|19048|Seair Alaska Airl...|\n",
            "|19049|Southeast Airline...|\n",
            "|19050|Alaska Aeronautic...|\n",
            "+-----+--------------------+\n",
            "only showing top 20 rows\n",
            "\n",
            "+----------+--------+-------------+------+-----------+---------+---------------+-------+-------------+--------+--------+\n",
            "|      date|airlines|flight_number|origin|destination|departure|departure_delay|arrival|arrival_delay|air_time|distance|\n",
            "+----------+--------+-------------+------+-----------+---------+---------------+-------+-------------+--------+--------+\n",
            "|2014-04-01|   19805|            1|   JFK|        LAX|     0854|          -6.00|   1217|         2.00|  355.00| 2475.00|\n",
            "|2014-04-01|   19805|            2|   LAX|        JFK|     0944|          14.00|   1736|       -29.00|  269.00| 2475.00|\n",
            "|2014-04-01|   19805|            3|   JFK|        LAX|     1224|          -6.00|   1614|        39.00|  371.00| 2475.00|\n",
            "|2014-04-01|   19805|            4|   LAX|        JFK|     1240|          25.00|   2028|       -27.00|  264.00| 2475.00|\n",
            "|2014-04-01|   19805|            5|   DFW|        HNL|     1300|          -5.00|   1650|        15.00|  510.00| 3784.00|\n",
            "|2014-04-01|   19805|            6|   OGG|        DFW|     1901|         126.00|   0640|        95.00|  385.00| 3711.00|\n",
            "|2014-04-01|   19805|            7|   DFW|        OGG|     1410|         125.00|   1743|       138.00|  497.00| 3711.00|\n",
            "|2014-04-01|   19805|            8|   HNL|        DFW|     1659|           4.00|   0458|       -22.00|  398.00| 3784.00|\n",
            "|2014-04-01|   19805|            9|   JFK|        LAX|     0648|          -7.00|   1029|        19.00|  365.00| 2475.00|\n",
            "|2014-04-01|   19805|           10|   LAX|        JFK|     2156|          21.00|   0556|         1.00|  265.00| 2475.00|\n",
            "|2014-04-01|   19805|           12|   LAX|        JFK|     1113|          -2.00|   1910|       -40.00|  267.00| 2475.00|\n",
            "|2014-04-01|   19805|           14|   OGG|        LAX|     2235|           5.00|   0618|       -17.00|  270.00| 2486.00|\n",
            "|2014-04-01|   19805|           15|   BOS|        ORD|     0611|          -9.00|   0756|       -19.00|  129.00|  867.00|\n",
            "|2014-04-01|   19805|           16|   SFO|        JFK|     1312|          17.00|   2107|       -33.00|  268.00| 2586.00|\n",
            "|2014-04-01|   19805|           17|   ATL|        MIA|     0630|          -5.00|   0813|       -17.00|   83.00|  594.00|\n",
            "|2014-04-01|   19805|           18|   SFO|        JFK|     0022|         112.00|   0833|        88.00|  288.00| 2586.00|\n",
            "|2014-04-01|   19805|           19|   JFK|        LAX|     1024|          -6.00|   1353|        18.00|  359.00| 2475.00|\n",
            "|2014-04-01|   19805|           20|   SFO|        JFK|     1715|         135.00|   0130|       120.00|  277.00| 2586.00|\n",
            "|2014-04-01|   19805|           21|   JFK|        LAX|     1906|          -4.00|   2246|        16.00|  359.00| 2475.00|\n",
            "|2014-04-01|   19805|           22|   LAX|        JFK|     1458|          -2.00|   2336|        11.00|  272.00| 2475.00|\n",
            "+----------+--------+-------------+------+-----------+---------+---------------+-------+-------------+--------+--------+\n",
            "only showing top 20 rows\n",
            "\n"
          ],
          "name": "stdout"
        }
      ]
    },
    {
      "cell_type": "code",
      "metadata": {
        "colab": {
          "base_uri": "https://localhost:8080/"
        },
        "id": "TrU4VAcaDhWu",
        "outputId": "01dfbe94-03bb-455a-aab9-5673f22edf7b"
      },
      "source": [
        "airlines_df.count(), flights_df.count()"
      ],
      "execution_count": 15,
      "outputs": [
        {
          "output_type": "execute_result",
          "data": {
            "text/plain": [
              "(1579, 476881)"
            ]
          },
          "metadata": {
            "tags": []
          },
          "execution_count": 15
        }
      ]
    },
    {
      "cell_type": "code",
      "metadata": {
        "colab": {
          "base_uri": "https://localhost:8080/"
        },
        "id": "IFhjd9fiE-Co",
        "outputId": "105ecd63-3972-465f-adbe-1d8f697368f3"
      },
      "source": [
        "airlines_tbl_count_df = sqlc.sql('select count(*) from airlines_tbl')\n",
        "flights_tbl_count_df = spark.sql('select count(*) from flights_tbl') # alternative way to call the sql method\n",
        "\n",
        "airlines_tbl_count_df.show()\n",
        "flights_tbl_count_df.show()\n",
        "\n",
        "airlines_tbl_count_df.collect()[0][0], flights_tbl_count_df.collect()[0][0]"
      ],
      "execution_count": 45,
      "outputs": [
        {
          "output_type": "stream",
          "text": [
            "+--------+\n",
            "|count(1)|\n",
            "+--------+\n",
            "|    1579|\n",
            "+--------+\n",
            "\n",
            "+--------+\n",
            "|count(1)|\n",
            "+--------+\n",
            "|  476881|\n",
            "+--------+\n",
            "\n"
          ],
          "name": "stdout"
        },
        {
          "output_type": "execute_result",
          "data": {
            "text/plain": [
              "(1579, 476881)"
            ]
          },
          "metadata": {
            "tags": []
          },
          "execution_count": 45
        }
      ]
    },
    {
      "cell_type": "code",
      "metadata": {
        "colab": {
          "base_uri": "https://localhost:8080/"
        },
        "id": "efBwM7p1G5Bn",
        "outputId": "c716a18c-935b-428d-826e-6d8cab5e646b"
      },
      "source": [
        "# Distance completed by all filghts\n",
        "total_distance_tbl_df = spark.sql('select distance from flights_tbl')\\\n",
        "  .agg({'distance':'sum'})\\\n",
        "  .withColumnRenamed('sum(distance)', 'total_distance')\n",
        "\n",
        "total_distance_tbl_df.show() # 3.7 Billions miles"
      ],
      "execution_count": 49,
      "outputs": [
        {
          "output_type": "stream",
          "text": [
            "+--------------+\n",
            "|total_distance|\n",
            "+--------------+\n",
            "|  3.79052917E8|\n",
            "+--------------+\n",
            "\n"
          ],
          "name": "stdout"
        }
      ]
    },
    {
      "cell_type": "code",
      "metadata": {
        "colab": {
          "base_uri": "https://localhost:8080/"
        },
        "id": "NBO295imJonf",
        "outputId": "2513fdc8-5302-4e29-ef2a-4238cf23a123"
      },
      "source": [
        "all_delays_2014 = spark.sql(\"SELECT date, airlines, flight_number, departure_delay \" +\n",
        "    \"FROM flights_tbl WHERE departure_delay > 0 and year(date) = 2014\") # the year method extracts a year value from the column(e.g. date) value\n",
        "\n",
        "all_delays_2014.show(5)"
      ],
      "execution_count": 50,
      "outputs": [
        {
          "output_type": "stream",
          "text": [
            "+----------+--------+-------------+---------------+\n",
            "|      date|airlines|flight_number|departure_delay|\n",
            "+----------+--------+-------------+---------------+\n",
            "|2014-04-01|   19805|            2|          14.00|\n",
            "|2014-04-01|   19805|            4|          25.00|\n",
            "|2014-04-01|   19805|            6|         126.00|\n",
            "|2014-04-01|   19805|            7|         125.00|\n",
            "|2014-04-01|   19805|            8|           4.00|\n",
            "+----------+--------+-------------+---------------+\n",
            "only showing top 5 rows\n",
            "\n"
          ],
          "name": "stdout"
        }
      ]
    }
  ]
}