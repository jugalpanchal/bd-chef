{
  "nbformat": 4,
  "nbformat_minor": 0,
  "metadata": {
    "colab": {
      "name": "spark_sql_etl_airline_anlys.ipynb",
      "provenance": [],
      "authorship_tag": "ABX9TyPpjZVjc3HgR6df3DsjyYHd",
      "include_colab_link": true
    },
    "kernelspec": {
      "name": "python3",
      "display_name": "Python 3"
    },
    "language_info": {
      "name": "python"
    }
  },
  "cells": [
    {
      "cell_type": "markdown",
      "metadata": {
        "id": "view-in-github",
        "colab_type": "text"
      },
      "source": [
        "<a href=\"https://colab.research.google.com/github/jugalpanchal/bd-chef/blob/main/spark_sql_etl_airline_anlys.ipynb\" target=\"_parent\"><img src=\"https://colab.research.google.com/assets/colab-badge.svg\" alt=\"Open In Colab\"/></a>"
      ]
    },
    {
      "cell_type": "code",
      "metadata": {
        "id": "vbK2zZqBAOMG"
      },
      "source": [
        "# Follow the steps to install the dependencies:\n",
        "!apt-get install openjdk-8-jdk-headless -qq > /dev/null # install java\n",
        "!wget -q https://downloads.apache.org/spark/spark-3.1.2/spark-3.1.2-bin-hadoop3.2.tgz # spark package download\n",
        "!tar xf spark-3.1.2-bin-hadoop3.2.tgz # unzip spark package\n",
        "!pip install -q findspark # install spark\n",
        "\n",
        "# Set the location of Java and Spark:\n",
        "import os\n",
        "os.environ[\"JAVA_HOME\"] = \"/usr/lib/jvm/java-8-openjdk-amd64\"\n",
        "os.environ[\"SPARK_HOME\"] = \"/content/spark-3.1.2-bin-hadoop3.2\"\n",
        "\n",
        "import findspark\n",
        "findspark.init()"
      ],
      "execution_count": 1,
      "outputs": []
    },
    {
      "cell_type": "code",
      "metadata": {
        "id": "hCCYPpxnAQBe"
      },
      "source": [
        "from pyspark.sql import SparkSession\n",
        "\n",
        "# create or get spark session\n",
        "spark = SparkSession.builder \\\n",
        "        .master(\"local[*]\") \\\n",
        "        .appName(\"Spark_App1\") \\\n",
        "        .getOrCreate()\n",
        "\n",
        "sc = spark.sparkContext # create a SQL context"
      ],
      "execution_count": 2,
      "outputs": []
    },
    {
      "cell_type": "code",
      "metadata": {
        "colab": {
          "base_uri": "https://localhost:8080/"
        },
        "id": "iJWkpe3mARpM",
        "outputId": "c5679069-5cf4-4c53-b4c5-2b4810986f9e"
      },
      "source": [
        "from pyspark.sql import SQLContext\n",
        "from pyspark.sql.types import Row\n",
        "from datetime import datetime\n",
        "\n",
        "sqlc = SQLContext(sc) # create a SQL context\n",
        "sqlc\n",
        "\n",
        "# Alternative to get the sql method is:\n",
        "#spark.sql('')"
      ],
      "execution_count": 3,
      "outputs": [
        {
          "output_type": "execute_result",
          "data": {
            "text/plain": [
              "<pyspark.sql.context.SQLContext at 0x7f1a7deb4790>"
            ]
          },
          "metadata": {
            "tags": []
          },
          "execution_count": 3
        }
      ]
    },
    {
      "cell_type": "code",
      "metadata": {
        "id": "gBVAWzCxAoZy"
      },
      "source": [
        "airlines_file_path = 'datasets/airlines.csv'\n",
        "flights_file_path = 'datasets/flights.csv'\n",
        "airports_file_path = 'datasets/airports.csv'"
      ],
      "execution_count": 4,
      "outputs": []
    },
    {
      "cell_type": "code",
      "metadata": {
        "colab": {
          "base_uri": "https://localhost:8080/"
        },
        "id": "krJp5_aLDYY0",
        "outputId": "a4ef78e1-64a8-4d45-afa0-f188657bb282"
      },
      "source": [
        "airlines_df = spark.read.format('csv')\\\n",
        "  .option('header', 'true')\\\n",
        "  .load(airlines_file_path)\n",
        "\n",
        "flights_df = spark.read.format('csv')\\\n",
        "  .option('header', 'true')\\\n",
        "  .load(flights_file_path)\n",
        "\n",
        "airlines_df.show()\n",
        "flights_df.show()"
      ],
      "execution_count": 5,
      "outputs": [
        {
          "output_type": "stream",
          "text": [
            "+-----+--------------------+\n",
            "| Code|         Description|\n",
            "+-----+--------------------+\n",
            "|19031|Mackey Internatio...|\n",
            "|19032|Munz Northern Air...|\n",
            "|19033|Cochise Airlines ...|\n",
            "|19034|Golden Gate Airli...|\n",
            "|19035|  Aeromech Inc.: RZZ|\n",
            "|19036|Golden West Airli...|\n",
            "|19037|Puerto Rico Intl ...|\n",
            "|19038|Air America Inc.:...|\n",
            "|19039|Swift Aire Lines ...|\n",
            "|19040|American Central ...|\n",
            "|19041|Valdez Airlines: VEZ|\n",
            "|19042|Southeast Alaska ...|\n",
            "|19043|Altair Airlines I...|\n",
            "|19044|Chitina Air Servi...|\n",
            "|19045|Marco Island Airw...|\n",
            "|19046|Caribbean Air Ser...|\n",
            "|19047|Sundance Airlines...|\n",
            "|19048|Seair Alaska Airl...|\n",
            "|19049|Southeast Airline...|\n",
            "|19050|Alaska Aeronautic...|\n",
            "+-----+--------------------+\n",
            "only showing top 20 rows\n",
            "\n",
            "+----------+--------+-------------+------+-----------+---------+---------------+-------+-------------+--------+--------+\n",
            "|      date|airlines|flight_number|origin|destination|departure|departure_delay|arrival|arrival_delay|air_time|distance|\n",
            "+----------+--------+-------------+------+-----------+---------+---------------+-------+-------------+--------+--------+\n",
            "|2014-04-01|   19805|            1|   JFK|        LAX|     0854|          -6.00|   1217|         2.00|  355.00| 2475.00|\n",
            "|2014-04-01|   19805|            2|   LAX|        JFK|     0944|          14.00|   1736|       -29.00|  269.00| 2475.00|\n",
            "|2014-04-01|   19805|            3|   JFK|        LAX|     1224|          -6.00|   1614|        39.00|  371.00| 2475.00|\n",
            "|2014-04-01|   19805|            4|   LAX|        JFK|     1240|          25.00|   2028|       -27.00|  264.00| 2475.00|\n",
            "|2014-04-01|   19805|            5|   DFW|        HNL|     1300|          -5.00|   1650|        15.00|  510.00| 3784.00|\n",
            "|2014-04-01|   19805|            6|   OGG|        DFW|     1901|         126.00|   0640|        95.00|  385.00| 3711.00|\n",
            "|2014-04-01|   19805|            7|   DFW|        OGG|     1410|         125.00|   1743|       138.00|  497.00| 3711.00|\n",
            "|2014-04-01|   19805|            8|   HNL|        DFW|     1659|           4.00|   0458|       -22.00|  398.00| 3784.00|\n",
            "|2014-04-01|   19805|            9|   JFK|        LAX|     0648|          -7.00|   1029|        19.00|  365.00| 2475.00|\n",
            "|2014-04-01|   19805|           10|   LAX|        JFK|     2156|          21.00|   0556|         1.00|  265.00| 2475.00|\n",
            "|2014-04-01|   19805|           12|   LAX|        JFK|     1113|          -2.00|   1910|       -40.00|  267.00| 2475.00|\n",
            "|2014-04-01|   19805|           14|   OGG|        LAX|     2235|           5.00|   0618|       -17.00|  270.00| 2486.00|\n",
            "|2014-04-01|   19805|           15|   BOS|        ORD|     0611|          -9.00|   0756|       -19.00|  129.00|  867.00|\n",
            "|2014-04-01|   19805|           16|   SFO|        JFK|     1312|          17.00|   2107|       -33.00|  268.00| 2586.00|\n",
            "|2014-04-01|   19805|           17|   ATL|        MIA|     0630|          -5.00|   0813|       -17.00|   83.00|  594.00|\n",
            "|2014-04-01|   19805|           18|   SFO|        JFK|     0022|         112.00|   0833|        88.00|  288.00| 2586.00|\n",
            "|2014-04-01|   19805|           19|   JFK|        LAX|     1024|          -6.00|   1353|        18.00|  359.00| 2475.00|\n",
            "|2014-04-01|   19805|           20|   SFO|        JFK|     1715|         135.00|   0130|       120.00|  277.00| 2586.00|\n",
            "|2014-04-01|   19805|           21|   JFK|        LAX|     1906|          -4.00|   2246|        16.00|  359.00| 2475.00|\n",
            "|2014-04-01|   19805|           22|   LAX|        JFK|     1458|          -2.00|   2336|        11.00|  272.00| 2475.00|\n",
            "+----------+--------+-------------+------+-----------+---------+---------------+-------+-------------+--------+--------+\n",
            "only showing top 20 rows\n",
            "\n"
          ],
          "name": "stdout"
        }
      ]
    },
    {
      "cell_type": "code",
      "metadata": {
        "colab": {
          "base_uri": "https://localhost:8080/"
        },
        "id": "0w2oAdfcFnw1",
        "outputId": "4b46d123-dbc4-48ce-d80f-0ca6a387d20c"
      },
      "source": [
        "airlines_df.createOrReplaceTempView('airlines_tbl')\n",
        "flights_df.createOrReplaceTempView('flights_tbl')\n",
        "\n",
        "airlines_tbl_df = sqlc.sql('select * from airlines_tbl')\n",
        "flights_tbl_df = spark.sql('select * from flights_tbl') # alternative way to call the sql method\n",
        "\n",
        "airlines_tbl_df.show()\n",
        "flights_tbl_df.show()"
      ],
      "execution_count": 6,
      "outputs": [
        {
          "output_type": "stream",
          "text": [
            "+-----+--------------------+\n",
            "| Code|         Description|\n",
            "+-----+--------------------+\n",
            "|19031|Mackey Internatio...|\n",
            "|19032|Munz Northern Air...|\n",
            "|19033|Cochise Airlines ...|\n",
            "|19034|Golden Gate Airli...|\n",
            "|19035|  Aeromech Inc.: RZZ|\n",
            "|19036|Golden West Airli...|\n",
            "|19037|Puerto Rico Intl ...|\n",
            "|19038|Air America Inc.:...|\n",
            "|19039|Swift Aire Lines ...|\n",
            "|19040|American Central ...|\n",
            "|19041|Valdez Airlines: VEZ|\n",
            "|19042|Southeast Alaska ...|\n",
            "|19043|Altair Airlines I...|\n",
            "|19044|Chitina Air Servi...|\n",
            "|19045|Marco Island Airw...|\n",
            "|19046|Caribbean Air Ser...|\n",
            "|19047|Sundance Airlines...|\n",
            "|19048|Seair Alaska Airl...|\n",
            "|19049|Southeast Airline...|\n",
            "|19050|Alaska Aeronautic...|\n",
            "+-----+--------------------+\n",
            "only showing top 20 rows\n",
            "\n",
            "+----------+--------+-------------+------+-----------+---------+---------------+-------+-------------+--------+--------+\n",
            "|      date|airlines|flight_number|origin|destination|departure|departure_delay|arrival|arrival_delay|air_time|distance|\n",
            "+----------+--------+-------------+------+-----------+---------+---------------+-------+-------------+--------+--------+\n",
            "|2014-04-01|   19805|            1|   JFK|        LAX|     0854|          -6.00|   1217|         2.00|  355.00| 2475.00|\n",
            "|2014-04-01|   19805|            2|   LAX|        JFK|     0944|          14.00|   1736|       -29.00|  269.00| 2475.00|\n",
            "|2014-04-01|   19805|            3|   JFK|        LAX|     1224|          -6.00|   1614|        39.00|  371.00| 2475.00|\n",
            "|2014-04-01|   19805|            4|   LAX|        JFK|     1240|          25.00|   2028|       -27.00|  264.00| 2475.00|\n",
            "|2014-04-01|   19805|            5|   DFW|        HNL|     1300|          -5.00|   1650|        15.00|  510.00| 3784.00|\n",
            "|2014-04-01|   19805|            6|   OGG|        DFW|     1901|         126.00|   0640|        95.00|  385.00| 3711.00|\n",
            "|2014-04-01|   19805|            7|   DFW|        OGG|     1410|         125.00|   1743|       138.00|  497.00| 3711.00|\n",
            "|2014-04-01|   19805|            8|   HNL|        DFW|     1659|           4.00|   0458|       -22.00|  398.00| 3784.00|\n",
            "|2014-04-01|   19805|            9|   JFK|        LAX|     0648|          -7.00|   1029|        19.00|  365.00| 2475.00|\n",
            "|2014-04-01|   19805|           10|   LAX|        JFK|     2156|          21.00|   0556|         1.00|  265.00| 2475.00|\n",
            "|2014-04-01|   19805|           12|   LAX|        JFK|     1113|          -2.00|   1910|       -40.00|  267.00| 2475.00|\n",
            "|2014-04-01|   19805|           14|   OGG|        LAX|     2235|           5.00|   0618|       -17.00|  270.00| 2486.00|\n",
            "|2014-04-01|   19805|           15|   BOS|        ORD|     0611|          -9.00|   0756|       -19.00|  129.00|  867.00|\n",
            "|2014-04-01|   19805|           16|   SFO|        JFK|     1312|          17.00|   2107|       -33.00|  268.00| 2586.00|\n",
            "|2014-04-01|   19805|           17|   ATL|        MIA|     0630|          -5.00|   0813|       -17.00|   83.00|  594.00|\n",
            "|2014-04-01|   19805|           18|   SFO|        JFK|     0022|         112.00|   0833|        88.00|  288.00| 2586.00|\n",
            "|2014-04-01|   19805|           19|   JFK|        LAX|     1024|          -6.00|   1353|        18.00|  359.00| 2475.00|\n",
            "|2014-04-01|   19805|           20|   SFO|        JFK|     1715|         135.00|   0130|       120.00|  277.00| 2586.00|\n",
            "|2014-04-01|   19805|           21|   JFK|        LAX|     1906|          -4.00|   2246|        16.00|  359.00| 2475.00|\n",
            "|2014-04-01|   19805|           22|   LAX|        JFK|     1458|          -2.00|   2336|        11.00|  272.00| 2475.00|\n",
            "+----------+--------+-------------+------+-----------+---------+---------------+-------+-------------+--------+--------+\n",
            "only showing top 20 rows\n",
            "\n"
          ],
          "name": "stdout"
        }
      ]
    },
    {
      "cell_type": "code",
      "metadata": {
        "colab": {
          "base_uri": "https://localhost:8080/"
        },
        "id": "TrU4VAcaDhWu",
        "outputId": "26452c0c-692d-4844-e597-289ebacdbfde"
      },
      "source": [
        "airlines_df.count(), flights_df.count()"
      ],
      "execution_count": 7,
      "outputs": [
        {
          "output_type": "execute_result",
          "data": {
            "text/plain": [
              "(1579, 476881)"
            ]
          },
          "metadata": {
            "tags": []
          },
          "execution_count": 7
        }
      ]
    },
    {
      "cell_type": "code",
      "metadata": {
        "colab": {
          "base_uri": "https://localhost:8080/"
        },
        "id": "IFhjd9fiE-Co",
        "outputId": "6b01fc42-67a9-466d-9b7b-5369db3a1d62"
      },
      "source": [
        "airlines_tbl_count_df = sqlc.sql('select count(*) from airlines_tbl')\n",
        "flights_tbl_count_df = spark.sql('select count(*) from flights_tbl') # alternative way to call the sql method\n",
        "\n",
        "airlines_tbl_count_df.show()\n",
        "flights_tbl_count_df.show()\n",
        "\n",
        "airlines_tbl_count_df.collect()[0][0], flights_tbl_count_df.collect()[0][0]"
      ],
      "execution_count": 8,
      "outputs": [
        {
          "output_type": "stream",
          "text": [
            "+--------+\n",
            "|count(1)|\n",
            "+--------+\n",
            "|    1579|\n",
            "+--------+\n",
            "\n",
            "+--------+\n",
            "|count(1)|\n",
            "+--------+\n",
            "|  476881|\n",
            "+--------+\n",
            "\n"
          ],
          "name": "stdout"
        },
        {
          "output_type": "execute_result",
          "data": {
            "text/plain": [
              "(1579, 476881)"
            ]
          },
          "metadata": {
            "tags": []
          },
          "execution_count": 8
        }
      ]
    },
    {
      "cell_type": "code",
      "metadata": {
        "colab": {
          "base_uri": "https://localhost:8080/"
        },
        "id": "efBwM7p1G5Bn",
        "outputId": "de498787-05fa-4d7e-e14a-8bdc531dd12f"
      },
      "source": [
        "# Distance completed by all filghts\n",
        "total_distance_tbl_df = spark.sql('select distance from flights_tbl')\\\n",
        "  .agg({'distance':'sum'})\\\n",
        "  .withColumnRenamed('sum(distance)', 'total_distance')\n",
        "\n",
        "total_distance_tbl_df.show() # 3.7 Billions miles"
      ],
      "execution_count": 9,
      "outputs": [
        {
          "output_type": "stream",
          "text": [
            "+--------------+\n",
            "|total_distance|\n",
            "+--------------+\n",
            "|  3.79052917E8|\n",
            "+--------------+\n",
            "\n"
          ],
          "name": "stdout"
        }
      ]
    },
    {
      "cell_type": "code",
      "metadata": {
        "colab": {
          "base_uri": "https://localhost:8080/"
        },
        "id": "NBO295imJonf",
        "outputId": "634c07aa-5d4b-4ca0-e95d-05a5484de0bf"
      },
      "source": [
        "all_delays_2014 = spark.sql(\"SELECT date, airlines, flight_number, departure_delay \" +\n",
        "    \"FROM flights_tbl WHERE departure_delay > 0 and year(date) = 2014\") # the year method extracts a year value from the column(e.g. date) value\n",
        "\n",
        "all_delays_2014.show(5)"
      ],
      "execution_count": 10,
      "outputs": [
        {
          "output_type": "stream",
          "text": [
            "+----------+--------+-------------+---------------+\n",
            "|      date|airlines|flight_number|departure_delay|\n",
            "+----------+--------+-------------+---------------+\n",
            "|2014-04-01|   19805|            2|          14.00|\n",
            "|2014-04-01|   19805|            4|          25.00|\n",
            "|2014-04-01|   19805|            6|         126.00|\n",
            "|2014-04-01|   19805|            7|         125.00|\n",
            "|2014-04-01|   19805|            8|           4.00|\n",
            "+----------+--------+-------------+---------------+\n",
            "only showing top 5 rows\n",
            "\n"
          ],
          "name": "stdout"
        }
      ]
    },
    {
      "cell_type": "code",
      "metadata": {
        "colab": {
          "base_uri": "https://localhost:8080/"
        },
        "id": "9dkn2DsBK9MD",
        "outputId": "8e725020-a2a4-449a-e6d8-a6311158d17a"
      },
      "source": [
        "delay_per_airline = spark.sql(\"SELECT airlines, departure_delay FROM flights_tbl\")\\\n",
        "                         .groupBy(\"airlines\")\\\n",
        "                         .agg({\"departure_delay\":\"avg\"})\\\n",
        "                         .withColumnRenamed(\"avg(departure_delay)\", \"departure_delay\")\n",
        "\n",
        "delay_per_airline.orderBy(delay_per_airline.departure_delay.desc()).show(5) # even we can add the orderby in the query."
      ],
      "execution_count": 11,
      "outputs": [
        {
          "output_type": "stream",
          "text": [
            "+--------+------------------+\n",
            "|airlines|   departure_delay|\n",
            "+--------+------------------+\n",
            "|   19393|13.429567657134724|\n",
            "|   20366|12.296210112379818|\n",
            "|   19977| 8.818392620527979|\n",
            "|   20436| 8.716275167785234|\n",
            "|   20409|  8.31110357194785|\n",
            "+--------+------------------+\n",
            "only showing top 5 rows\n",
            "\n"
          ],
          "name": "stdout"
        }
      ]
    },
    {
      "cell_type": "code",
      "metadata": {
        "colab": {
          "base_uri": "https://localhost:8080/"
        },
        "id": "UqwWhhP1Lt_n",
        "outputId": "81625ad7-bcb7-43c8-cf6f-c650941c494c"
      },
      "source": [
        "# Hightest average departure delay\n",
        "delay_per_airline = spark.sql(\"SELECT flights_tbl.airlines, airlines_tbl.description, avg(flights_tbl.departure_delay) as avg_delay \" + \n",
        "                              \"FROM airlines_tbl \" +\n",
        "                              \"JOIN flights_tbl \" + \n",
        "                              \"ON airlines_tbl.code = flights_tbl.airlines \" + \n",
        "                              \"WHERE flights_tbl.departure_delay > 0 \" +\n",
        "                              \"GROUP BY flights_tbl.airlines, airlines_tbl.description \" + \n",
        "                              \"HAVING avg_delay > 5 \" +\n",
        "                              \"ORDER BY avg_delay DESC\")\n",
        "\n",
        "delay_per_airline.show(20)"
      ],
      "execution_count": 12,
      "outputs": [
        {
          "output_type": "stream",
          "text": [
            "+--------+--------------------+------------------+\n",
            "|airlines|         description|         avg_delay|\n",
            "+--------+--------------------+------------------+\n",
            "|   20366|ExpressJet Airlin...| 43.62689565130059|\n",
            "|   20409| JetBlue Airways: B6|36.383284457478005|\n",
            "|   20304|SkyWest Airlines ...| 34.71599972258825|\n",
            "|   20398|       Envoy Air: MQ|34.388925950633755|\n",
            "|   21171|  Virgin America: VX| 33.46314325452017|\n",
            "|   19805|American Airlines...|32.126479289940825|\n",
            "|   20436|Frontier Airlines...| 32.11989459815547|\n",
            "|   20355| US Airways Inc.: US|26.050868486352357|\n",
            "|   19790|Delta Air Lines I...|25.936406295825595|\n",
            "|   19393|Southwest Airline...|25.670224669212327|\n",
            "|   19977|United Air Lines ...| 25.07559880239521|\n",
            "|   19930|Alaska Airlines I...|25.070856178827498|\n",
            "|   20437|AirTran Airways C...| 21.01605651894669|\n",
            "|   19690|Hawaiian Airlines...| 19.98108747044917|\n",
            "+--------+--------------------+------------------+\n",
            "\n"
          ],
          "name": "stdout"
        }
      ]
    }
  ]
}