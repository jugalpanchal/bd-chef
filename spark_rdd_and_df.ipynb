{
  "nbformat": 4,
  "nbformat_minor": 0,
  "metadata": {
    "colab": {
      "name": "spark_rdd_and_df.ipynb",
      "provenance": [],
      "authorship_tag": "ABX9TyPUVnZ5OjI0vg80MAj72H/7",
      "include_colab_link": true
    },
    "kernelspec": {
      "name": "python3",
      "display_name": "Python 3"
    },
    "language_info": {
      "name": "python"
    }
  },
  "cells": [
    {
      "cell_type": "markdown",
      "metadata": {
        "id": "view-in-github",
        "colab_type": "text"
      },
      "source": [
        "<a href=\"https://colab.research.google.com/github/jugalpanchal/bd-chef/blob/main/spark_rdd_and_df.ipynb\" target=\"_parent\"><img src=\"https://colab.research.google.com/assets/colab-badge.svg\" alt=\"Open In Colab\"/></a>"
      ]
    },
    {
      "cell_type": "code",
      "metadata": {
        "id": "C5-JcY1SaVHd"
      },
      "source": [
        "# Follow the steps to install the dependencies:\n",
        "!apt-get install openjdk-8-jdk-headless -qq > /dev/null # install java\n",
        "!wget -q https://downloads.apache.org/spark/spark-3.1.2/spark-3.1.2-bin-hadoop3.2.tgz # spark package download\n",
        "!tar xf spark-3.1.2-bin-hadoop3.2.tgz # unzip spark package\n",
        "!pip install -q findspark # install spark\n",
        "\n",
        "# Set the location of Java and Spark:\n",
        "import os\n",
        "os.environ[\"JAVA_HOME\"] = \"/usr/lib/jvm/java-8-openjdk-amd64\"\n",
        "os.environ[\"SPARK_HOME\"] = \"/content/spark-3.1.2-bin-hadoop3.2\"\n",
        "\n",
        "import findspark\n",
        "findspark.init()"
      ],
      "execution_count": null,
      "outputs": []
    },
    {
      "cell_type": "code",
      "metadata": {
        "id": "UUbmGLQVaeel"
      },
      "source": [
        "from pyspark.sql import SparkSession\n",
        "from pyspark.sql.types import Row\n",
        "\n",
        "# create or get spark session\n",
        "spark = SparkSession.builder \\\n",
        "        .master(\"local[*]\") \\\n",
        "        .appName(\"Spark_App1\") \\\n",
        "        .getOrCreate()\n",
        "\n",
        "# Spark 2.x does not give direct sparkcontext so we need to get it from SparkSession\n",
        "sc = spark.sparkContext\n",
        "#sc.appName #Spark_App1\n",
        "#sc.uiWebUrl # WebUI\n",
        "#sc.applicationId # application_xxxxxxxxxx_xxxx\n",
        "\n",
        "\n",
        "#sc: SparkContext\n",
        "  #1. play with RDD.\n",
        "  #2. It comes from the Spark-Core\n",
        "  #3. One only per application\n",
        "#spark: SparkSession\n",
        "  #1. play with DataFrame. \n",
        "  #2. It comes from the Spark-SQL.\n",
        "  #3. It merges SQLContext and HiveContext into one object.\n",
        "  #4. We can have multiple spark session objects in single application\n",
        "  #5. It allows us to access the SparkContext\n"
      ],
      "execution_count": 120,
      "outputs": []
    },
    {
      "cell_type": "markdown",
      "metadata": {
        "id": "RwtAMd19usN4"
      },
      "source": [
        "### RDD"
      ]
    },
    {
      "cell_type": "code",
      "metadata": {
        "colab": {
          "base_uri": "https://localhost:8080/"
        },
        "id": "c_37d7reah0a",
        "outputId": "f5a48044-3be1-4207-9099-f5cfe853d8d7"
      },
      "source": [
        "# There are three way we can create a RDD. 1. Using the parallelize method 2. Reading a file 3. From the another RDD\n",
        "# Read a file and create a RDD - RDD Started in Spark 1.x\n",
        "collection_rdd = sc.textFile(\"sample_data/anscombe.json\")\n",
        "#collection_rdd = sc.textFile(\"sample_data/*.json\") # multiple files\n",
        "\n",
        "# collection_rdd # sample_data/anscombe.json MapPartitionsRDD[260] at textFile at NativeMethodAccessorImpl.java:0\n",
        "collection_rdd.setName(\"anscombe_rdd\") # The Spark gives a internal name but we can specify the way we want. Even it helps in the SparkUI to identify specific RDD.\n",
        "collection_rdd"
      ],
      "execution_count": 121,
      "outputs": [
        {
          "output_type": "execute_result",
          "data": {
            "text/plain": [
              "anscombe_rdd MapPartitionsRDD[326] at textFile at NativeMethodAccessorImpl.java:0"
            ]
          },
          "metadata": {
            "tags": []
          },
          "execution_count": 121
        }
      ]
    },
    {
      "cell_type": "code",
      "metadata": {
        "id": "yUEvTm7itzMO"
      },
      "source": [
        "#collection_rdd.count() #49\n",
        "#collection_rdd.take(5) # top 5 entities"
      ],
      "execution_count": null,
      "outputs": []
    },
    {
      "cell_type": "code",
      "metadata": {
        "colab": {
          "base_uri": "https://localhost:8080/"
        },
        "id": "_d_B3TMMbZ3M",
        "outputId": "94ef2e75-1250-4a3d-9a4d-a3451742dfcc"
      },
      "source": [
        "collection_rdd.collect() # this is like a collection"
      ],
      "execution_count": null,
      "outputs": [
        {
          "output_type": "execute_result",
          "data": {
            "text/plain": [
              "['[',\n",
              " '  {\"Series\":\"I\", \"X\":10.0, \"Y\":8.04},',\n",
              " '  {\"Series\":\"I\", \"X\":8.0, \"Y\":6.95},',\n",
              " '  {\"Series\":\"I\", \"X\":13.0, \"Y\":7.58},',\n",
              " '  {\"Series\":\"I\", \"X\":9.0, \"Y\":8.81},',\n",
              " '  {\"Series\":\"I\", \"X\":11.0, \"Y\":8.33},',\n",
              " '  {\"Series\":\"I\", \"X\":14.0, \"Y\":9.96},',\n",
              " '  {\"Series\":\"I\", \"X\":6.0, \"Y\":7.24},',\n",
              " '  {\"Series\":\"I\", \"X\":4.0, \"Y\":4.26},',\n",
              " '  {\"Series\":\"I\", \"X\":12.0, \"Y\":10.84},',\n",
              " '  {\"Series\":\"I\", \"X\":7.0, \"Y\":4.81},',\n",
              " '  {\"Series\":\"I\", \"X\":5.0, \"Y\":5.68},',\n",
              " '',\n",
              " '  {\"Series\":\"II\", \"X\":10.0, \"Y\":9.14},',\n",
              " '  {\"Series\":\"II\", \"X\":8.0, \"Y\":8.14},',\n",
              " '  {\"Series\":\"II\", \"X\":13.0, \"Y\":8.74},',\n",
              " '  {\"Series\":\"II\", \"X\":9.0, \"Y\":8.77},',\n",
              " '  {\"Series\":\"II\", \"X\":11.0, \"Y\":9.26},',\n",
              " '  {\"Series\":\"II\", \"X\":14.0, \"Y\":8.10},',\n",
              " '  {\"Series\":\"II\", \"X\":6.0, \"Y\":6.13},',\n",
              " '  {\"Series\":\"II\", \"X\":4.0, \"Y\":3.10},',\n",
              " '  {\"Series\":\"II\", \"X\":12.0, \"Y\":9.13},',\n",
              " '  {\"Series\":\"II\", \"X\":7.0, \"Y\":7.26},',\n",
              " '  {\"Series\":\"II\", \"X\":5.0, \"Y\":4.74},',\n",
              " '',\n",
              " '  {\"Series\":\"III\", \"X\":10.0, \"Y\":7.46},',\n",
              " '  {\"Series\":\"III\", \"X\":8.0, \"Y\":6.77},',\n",
              " '  {\"Series\":\"III\", \"X\":13.0, \"Y\":12.74},',\n",
              " '  {\"Series\":\"III\", \"X\":9.0, \"Y\":7.11},',\n",
              " '  {\"Series\":\"III\", \"X\":11.0, \"Y\":7.81},',\n",
              " '  {\"Series\":\"III\", \"X\":14.0, \"Y\":8.84},',\n",
              " '  {\"Series\":\"III\", \"X\":6.0, \"Y\":6.08},',\n",
              " '  {\"Series\":\"III\", \"X\":4.0, \"Y\":5.39},',\n",
              " '  {\"Series\":\"III\", \"X\":12.0, \"Y\":8.15},',\n",
              " '  {\"Series\":\"III\", \"X\":7.0, \"Y\":6.42},',\n",
              " '  {\"Series\":\"III\", \"X\":5.0, \"Y\":5.73},',\n",
              " '',\n",
              " '  {\"Series\":\"IV\", \"X\":8.0, \"Y\":6.58},',\n",
              " '  {\"Series\":\"IV\", \"X\":8.0, \"Y\":5.76},',\n",
              " '  {\"Series\":\"IV\", \"X\":8.0, \"Y\":7.71},',\n",
              " '  {\"Series\":\"IV\", \"X\":8.0, \"Y\":8.84},',\n",
              " '  {\"Series\":\"IV\", \"X\":8.0, \"Y\":8.47},',\n",
              " '  {\"Series\":\"IV\", \"X\":8.0, \"Y\":7.04},',\n",
              " '  {\"Series\":\"IV\", \"X\":8.0, \"Y\":5.25},',\n",
              " '  {\"Series\":\"IV\", \"X\":19.0, \"Y\":12.50},',\n",
              " '  {\"Series\":\"IV\", \"X\":8.0, \"Y\":5.56},',\n",
              " '  {\"Series\":\"IV\", \"X\":8.0, \"Y\":7.91},',\n",
              " '  {\"Series\":\"IV\", \"X\":8.0, \"Y\":6.89}',\n",
              " ']']"
            ]
          },
          "metadata": {
            "tags": []
          },
          "execution_count": 41
        }
      ]
    },
    {
      "cell_type": "markdown",
      "metadata": {
        "id": "YQVAnEWsuvX2"
      },
      "source": [
        "### DataFrame"
      ]
    },
    {
      "cell_type": "code",
      "metadata": {
        "colab": {
          "base_uri": "https://localhost:8080/"
        },
        "id": "DsOowOUJak8W",
        "outputId": "97e9d2bf-1168-4afc-c40a-58c21e52ab67"
      },
      "source": [
        "# Read a file and create a DataFrame - DataFrame Started in Spark 2.x but on top of the RDD.\n",
        "json_df = spark.read.json('sample_data/anscombe.json') # first row is always a columns row.\n",
        "json_df"
      ],
      "execution_count": null,
      "outputs": [
        {
          "output_type": "execute_result",
          "data": {
            "text/plain": [
              "DataFrame[Series: string, X: double, Y: double, _corrupt_record: string]"
            ]
          },
          "metadata": {
            "tags": []
          },
          "execution_count": 42
        }
      ]
    },
    {
      "cell_type": "code",
      "metadata": {
        "colab": {
          "base_uri": "https://localhost:8080/"
        },
        "id": "PkNpX4Uxbpyc",
        "outputId": "6f5920f0-732a-4fdf-c790-f1efff8d25eb"
      },
      "source": [
        "json_df.printSchema()"
      ],
      "execution_count": null,
      "outputs": [
        {
          "output_type": "stream",
          "text": [
            "root\n",
            " |-- Series: string (nullable = true)\n",
            " |-- X: double (nullable = true)\n",
            " |-- Y: double (nullable = true)\n",
            " |-- _corrupt_record: string (nullable = true)\n",
            "\n"
          ],
          "name": "stdout"
        }
      ]
    },
    {
      "cell_type": "code",
      "metadata": {
        "colab": {
          "base_uri": "https://localhost:8080/"
        },
        "id": "Sa0oFO4hbf1e",
        "outputId": "23a9aaed-8ce6-4a91-c4b7-71abfe406aa0"
      },
      "source": [
        "json_df.collect()"
      ],
      "execution_count": null,
      "outputs": [
        {
          "output_type": "execute_result",
          "data": {
            "text/plain": [
              "[Row(Series=None, X=None, Y=None, _corrupt_record='['),\n",
              " Row(Series='I', X=10.0, Y=8.04, _corrupt_record=None),\n",
              " Row(Series='I', X=8.0, Y=6.95, _corrupt_record=None),\n",
              " Row(Series='I', X=13.0, Y=7.58, _corrupt_record=None),\n",
              " Row(Series='I', X=9.0, Y=8.81, _corrupt_record=None),\n",
              " Row(Series='I', X=11.0, Y=8.33, _corrupt_record=None),\n",
              " Row(Series='I', X=14.0, Y=9.96, _corrupt_record=None),\n",
              " Row(Series='I', X=6.0, Y=7.24, _corrupt_record=None),\n",
              " Row(Series='I', X=4.0, Y=4.26, _corrupt_record=None),\n",
              " Row(Series='I', X=12.0, Y=10.84, _corrupt_record=None),\n",
              " Row(Series='I', X=7.0, Y=4.81, _corrupt_record=None),\n",
              " Row(Series='I', X=5.0, Y=5.68, _corrupt_record=None),\n",
              " Row(Series='II', X=10.0, Y=9.14, _corrupt_record=None),\n",
              " Row(Series='II', X=8.0, Y=8.14, _corrupt_record=None),\n",
              " Row(Series='II', X=13.0, Y=8.74, _corrupt_record=None),\n",
              " Row(Series='II', X=9.0, Y=8.77, _corrupt_record=None),\n",
              " Row(Series='II', X=11.0, Y=9.26, _corrupt_record=None),\n",
              " Row(Series='II', X=14.0, Y=8.1, _corrupt_record=None),\n",
              " Row(Series='II', X=6.0, Y=6.13, _corrupt_record=None),\n",
              " Row(Series='II', X=4.0, Y=3.1, _corrupt_record=None),\n",
              " Row(Series='II', X=12.0, Y=9.13, _corrupt_record=None),\n",
              " Row(Series='II', X=7.0, Y=7.26, _corrupt_record=None),\n",
              " Row(Series='II', X=5.0, Y=4.74, _corrupt_record=None),\n",
              " Row(Series='III', X=10.0, Y=7.46, _corrupt_record=None),\n",
              " Row(Series='III', X=8.0, Y=6.77, _corrupt_record=None),\n",
              " Row(Series='III', X=13.0, Y=12.74, _corrupt_record=None),\n",
              " Row(Series='III', X=9.0, Y=7.11, _corrupt_record=None),\n",
              " Row(Series='III', X=11.0, Y=7.81, _corrupt_record=None),\n",
              " Row(Series='III', X=14.0, Y=8.84, _corrupt_record=None),\n",
              " Row(Series='III', X=6.0, Y=6.08, _corrupt_record=None),\n",
              " Row(Series='III', X=4.0, Y=5.39, _corrupt_record=None),\n",
              " Row(Series='III', X=12.0, Y=8.15, _corrupt_record=None),\n",
              " Row(Series='III', X=7.0, Y=6.42, _corrupt_record=None),\n",
              " Row(Series='III', X=5.0, Y=5.73, _corrupt_record=None),\n",
              " Row(Series='IV', X=8.0, Y=6.58, _corrupt_record=None),\n",
              " Row(Series='IV', X=8.0, Y=5.76, _corrupt_record=None),\n",
              " Row(Series='IV', X=8.0, Y=7.71, _corrupt_record=None),\n",
              " Row(Series='IV', X=8.0, Y=8.84, _corrupt_record=None),\n",
              " Row(Series='IV', X=8.0, Y=8.47, _corrupt_record=None),\n",
              " Row(Series='IV', X=8.0, Y=7.04, _corrupt_record=None),\n",
              " Row(Series='IV', X=8.0, Y=5.25, _corrupt_record=None),\n",
              " Row(Series='IV', X=19.0, Y=12.5, _corrupt_record=None),\n",
              " Row(Series='IV', X=8.0, Y=5.56, _corrupt_record=None),\n",
              " Row(Series='IV', X=8.0, Y=7.91, _corrupt_record=None),\n",
              " Row(Series='IV', X=8.0, Y=6.89, _corrupt_record=None),\n",
              " Row(Series=None, X=None, Y=None, _corrupt_record=']')]"
            ]
          },
          "metadata": {
            "tags": []
          },
          "execution_count": 44
        }
      ]
    },
    {
      "cell_type": "markdown",
      "metadata": {
        "id": "4vpVtYVAu5PE"
      },
      "source": [
        "### RDD to DataFrame and vice versa"
      ]
    },
    {
      "cell_type": "code",
      "metadata": {
        "id": "VkY73YXpu8BO"
      },
      "source": [
        "generic_data = sc.parallelize([1, 'Alice', 50, 'Bob', 'Canton']) # RDD collection supports different type of items even in a nested colletion.\n",
        "#generic_data.toDF() # It does not work because it contains object with differnt types."
      ],
      "execution_count": null,
      "outputs": []
    },
    {
      "cell_type": "code",
      "metadata": {
        "id": "ezAapIlKwzMi",
        "colab": {
          "base_uri": "https://localhost:8080/"
        },
        "outputId": "360a76f8-2279-41fb-8039-6edd5b773fe8"
      },
      "source": [
        "people_list = [('Alice', 25), ('Bob', 20), ('Charly', 30), ('Don', 15)]\n",
        "people_rdd_pair = sc.parallelize(people_list) # create a RDD but with Tuple/Pair objects\n",
        "#people_rdd_pair # ParallelCollectionRDD[2] at readRDDFromFile\n",
        "\n",
        "people_rdd_pair.collect()"
      ],
      "execution_count": null,
      "outputs": [
        {
          "output_type": "execute_result",
          "data": {
            "text/plain": [
              "[('Alice', 25), ('Bob', 20), ('Charly', 30), ('Don', 15)]"
            ]
          },
          "metadata": {
            "tags": []
          },
          "execution_count": 46
        }
      ]
    },
    {
      "cell_type": "code",
      "metadata": {
        "id": "-G26PuH0xzoj",
        "colab": {
          "base_uri": "https://localhost:8080/"
        },
        "outputId": "d59c8f76-640c-4803-cb56-d61c275cf530"
      },
      "source": [
        "people_df = people_rdd_pair.toDF() # Column names have been automatically generated and assigned. It infers data types too.\n",
        "#people_df # DataFrame[_1: string, _2: bigint]\n",
        "people_df.collect() # shows data with its class"
      ],
      "execution_count": null,
      "outputs": [
        {
          "output_type": "execute_result",
          "data": {
            "text/plain": [
              "[Row(_1='Alice', _2=25),\n",
              " Row(_1='Bob', _2=20),\n",
              " Row(_1='Charly', _2=30),\n",
              " Row(_1='Don', _2=15)]"
            ]
          },
          "metadata": {
            "tags": []
          },
          "execution_count": 47
        }
      ]
    },
    {
      "cell_type": "code",
      "metadata": {
        "id": "dyTXqJ63zQmI",
        "colab": {
          "base_uri": "https://localhost:8080/"
        },
        "outputId": "3a686096-8f41-4ea0-ffdf-e98732e374bc"
      },
      "source": [
        "people_df.show() # shows in tabular format"
      ],
      "execution_count": null,
      "outputs": [
        {
          "output_type": "stream",
          "text": [
            "+------+---+\n",
            "|    _1| _2|\n",
            "+------+---+\n",
            "| Alice| 25|\n",
            "|   Bob| 20|\n",
            "|Charly| 30|\n",
            "|   Don| 15|\n",
            "+------+---+\n",
            "\n"
          ],
          "name": "stdout"
        }
      ]
    },
    {
      "cell_type": "code",
      "metadata": {
        "id": "XrXYm9SLyXup",
        "colab": {
          "base_uri": "https://localhost:8080/"
        },
        "outputId": "66aab0e4-79bc-4498-bde1-a59534931c5e"
      },
      "source": [
        "from pyspark import Row\n",
        "# There are two way to get custom column names.\n",
        "# 1. Create the row class object while creating a RDD\n",
        "data_rdd_row = sc.parallelize([Row(name='Alice', age=50), \n",
        "                               Row(name='Bob', age=20)])\n",
        "data_rdd_row.collect() # [Row(name='Alice', age=50), Row(name='Bob', age=20)]"
      ],
      "execution_count": null,
      "outputs": [
        {
          "output_type": "execute_result",
          "data": {
            "text/plain": [
              "[Row(name='Alice', age=50), Row(name='Bob', age=20)]"
            ]
          },
          "metadata": {
            "tags": []
          },
          "execution_count": 49
        }
      ]
    },
    {
      "cell_type": "code",
      "metadata": {
        "id": "4E_xlfUK1fDn",
        "colab": {
          "base_uri": "https://localhost:8080/"
        },
        "outputId": "4c9d4a79-cec2-4b99-f609-0846073d428e"
      },
      "source": [
        "# 2. Transform existing RDD to new RDD\n",
        "people_rdd_row = people_rdd_pair.map(lambda x: Row(name=x[0], age=int(x[1]))) # create a RDD with Row objects\n",
        "people_rdd_row # PythonRDD[63] at RDD\n",
        "people_rdd_row.collect()"
      ],
      "execution_count": null,
      "outputs": [
        {
          "output_type": "execute_result",
          "data": {
            "text/plain": [
              "[Row(name='Alice', age=25),\n",
              " Row(name='Bob', age=20),\n",
              " Row(name='Charly', age=30),\n",
              " Row(name='Don', age=15)]"
            ]
          },
          "metadata": {
            "tags": []
          },
          "execution_count": 50
        }
      ]
    },
    {
      "cell_type": "code",
      "metadata": {
        "id": "9ZpnYejtx8Ly",
        "colab": {
          "base_uri": "https://localhost:8080/"
        },
        "outputId": "d92ad22f-9c48-449c-ff8d-98afc5946dcf"
      },
      "source": [
        "data_rdd_row.toDF().show()\n",
        "people_rdd_row.toDF().show()"
      ],
      "execution_count": null,
      "outputs": [
        {
          "output_type": "stream",
          "text": [
            "+-----+---+\n",
            "| name|age|\n",
            "+-----+---+\n",
            "|Alice| 50|\n",
            "|  Bob| 20|\n",
            "+-----+---+\n",
            "\n",
            "+------+---+\n",
            "|  name|age|\n",
            "+------+---+\n",
            "| Alice| 25|\n",
            "|   Bob| 20|\n",
            "|Charly| 30|\n",
            "|   Don| 15|\n",
            "+------+---+\n",
            "\n"
          ],
          "name": "stdout"
        }
      ]
    },
    {
      "cell_type": "code",
      "metadata": {
        "id": "mXbgAOjI3hdv",
        "colab": {
          "base_uri": "https://localhost:8080/"
        },
        "outputId": "4ee8ccfd-c0fc-401d-a17a-97ff243d51d7"
      },
      "source": [
        "people_df.rdd # Every DataFrame contains a RDD and we can get the dataframe's RDD easily."
      ],
      "execution_count": null,
      "outputs": [
        {
          "output_type": "execute_result",
          "data": {
            "text/plain": [
              "MapPartitionsRDD[127] at javaToPython at NativeMethodAccessorImpl.java:0"
            ]
          },
          "metadata": {
            "tags": []
          },
          "execution_count": 52
        }
      ]
    },
    {
      "cell_type": "code",
      "metadata": {
        "id": "QKBZpCu8-lrV"
      },
      "source": [
        "people_df = data_rdd_row.toDF()"
      ],
      "execution_count": null,
      "outputs": []
    },
    {
      "cell_type": "markdown",
      "metadata": {
        "id": "Uf63F5uN2NEB"
      },
      "source": [
        "### Transformation on DataFrame\n",
        "####FlatMap, Map, ReduceByKey"
      ]
    },
    {
      "cell_type": "code",
      "metadata": {
        "id": "hymbpY6m2hh1",
        "colab": {
          "base_uri": "https://localhost:8080/"
        },
        "outputId": "3aa9cb3b-7011-4e59-ef6d-94184bac6dbc"
      },
      "source": [
        "# map operation on RDD\n",
        "people_rdd = people_df.rdd.map(lambda x: (x.name, x.age + 5))\n",
        "#people_rdd # PythonRDD[78] at RDD\n",
        "people_rdd.collect()"
      ],
      "execution_count": null,
      "outputs": [
        {
          "output_type": "execute_result",
          "data": {
            "text/plain": [
              "[('Alice', 55), ('Bob', 25)]"
            ]
          },
          "metadata": {
            "tags": []
          },
          "execution_count": 54
        }
      ]
    },
    {
      "cell_type": "code",
      "metadata": {
        "id": "B07N6Uvi5N6B",
        "colab": {
          "base_uri": "https://localhost:8080/"
        },
        "outputId": "4a3333b1-ee68-4521-cc93-0224aed66524"
      },
      "source": [
        "# Map: the map operation performs a transformation on every element in the RDD. \n",
        "# Similar kind of method is not available for the DataFrame, \n",
        "# so we compute and assign computed value in new column within the DataFrame. \n",
        "\n",
        "people_df_new_age = people_df.select('name', 'age').withColumn('new_age', people_df.age + 10) # we can type people_df.age to mention column name.\n",
        "people_df_new_age.show()\n",
        "\n",
        "people_df_new_age = people_df_new_age.withColumnRenamed('new_age', 'after_ten_years')\n",
        "people_df_new_age = people_df_new_age.drop('age')\n",
        "people_df_new_age.show()"
      ],
      "execution_count": null,
      "outputs": [
        {
          "output_type": "stream",
          "text": [
            "+-----+---+-------+\n",
            "| name|age|new_age|\n",
            "+-----+---+-------+\n",
            "|Alice| 50|     60|\n",
            "|  Bob| 20|     30|\n",
            "+-----+---+-------+\n",
            "\n",
            "+-----+---------------+\n",
            "| name|after_ten_years|\n",
            "+-----+---------------+\n",
            "|Alice|             60|\n",
            "|  Bob|             30|\n",
            "+-----+---------------+\n",
            "\n"
          ],
          "name": "stdout"
        }
      ]
    },
    {
      "cell_type": "code",
      "metadata": {
        "id": "kEfggXez5GNz",
        "colab": {
          "base_uri": "https://localhost:8080/"
        },
        "outputId": "009c0af9-f569-4e57-8b50-f96c5cea7c7d"
      },
      "source": [
        "people_df.first()"
      ],
      "execution_count": null,
      "outputs": [
        {
          "output_type": "execute_result",
          "data": {
            "text/plain": [
              "Row(name='Alice', age=50)"
            ]
          },
          "metadata": {
            "tags": []
          },
          "execution_count": 56
        }
      ]
    },
    {
      "cell_type": "code",
      "metadata": {
        "id": "ecH5aObO2hqE",
        "colab": {
          "base_uri": "https://localhost:8080/"
        },
        "outputId": "50d74a11-8fdd-4b2c-bd50-e67ba432c9a4"
      },
      "source": [
        "people_df.take(2)"
      ],
      "execution_count": null,
      "outputs": [
        {
          "output_type": "execute_result",
          "data": {
            "text/plain": [
              "[Row(name='Alice', age=50), Row(name='Bob', age=20)]"
            ]
          },
          "metadata": {
            "tags": []
          },
          "execution_count": 57
        }
      ]
    },
    {
      "cell_type": "code",
      "metadata": {
        "id": "61qXp_Ja2uZM",
        "colab": {
          "base_uri": "https://localhost:8080/",
          "height": 35
        },
        "outputId": "d13fb024-ddb8-4a4e-bb68-7b2eda950ecf"
      },
      "source": [
        "people_df.collect()[1][0] # It is a tabular format so can access specific cell.\n",
        "# It always creates a clone then return so if the cell has any class type and we modify then it won't change in the dataframe."
      ],
      "execution_count": null,
      "outputs": [
        {
          "output_type": "execute_result",
          "data": {
            "application/vnd.google.colaboratory.intrinsic+json": {
              "type": "string"
            },
            "text/plain": [
              "'Bob'"
            ]
          },
          "metadata": {
            "tags": []
          },
          "execution_count": 58
        }
      ]
    },
    {
      "cell_type": "code",
      "metadata": {
        "colab": {
          "base_uri": "https://localhost:8080/"
        },
        "id": "s4W9Y2c3_Maq",
        "outputId": "3b5d09dc-9168-4613-a2f2-9c889b321497"
      },
      "source": [
        "\"\"\"\n",
        "Text in the datasets/simple_titles.txt:\n",
        "How can I use DataFrames in 2.0\n",
        "What is an RDD and Schema RDD\n",
        "How do I group by a field\n",
        "Can I use Hive from HUE\n",
        "\"\"\"\n",
        "\n",
        "# read lines\n",
        "lines_rdd = sc.textFile(\"datasets/simple_titles.txt\")\n",
        "print('lines', lines_rdd.collect())\n",
        "\n",
        "# flat all words\n",
        "words_rdd = lines_rdd.flatMap(lambda line: line.split(' '))\n",
        "print('words', words_rdd.collect())\n",
        "\n",
        "# map each word with 1 value\n",
        "word_and_count_rdd = words_rdd.map(lambda x: (x,1))\n",
        "print('word_for_count', word_and_count_rdd.collect())\n",
        "\n",
        "# count each word by key\n",
        "word_with_count_rdd = word_and_count_rdd.reduceByKey(lambda x,y: x + y)\n",
        "print('word_with_count_rdd', word_with_count_rdd.collect())"
      ],
      "execution_count": null,
      "outputs": [
        {
          "output_type": "stream",
          "text": [
            "lines ['How can I use DataFrames in 2.0', 'What is an RDD and Schema RDD', 'How do I group by a field', 'Can I use Hive from HUE']\n",
            "words ['How', 'can', 'I', 'use', 'DataFrames', 'in', '2.0', 'What', 'is', 'an', 'RDD', 'and', 'Schema', 'RDD', 'How', 'do', 'I', 'group', 'by', 'a', 'field', 'Can', 'I', 'use', 'Hive', 'from', 'HUE']\n",
            "word_for_count [('How', 1), ('can', 1), ('I', 1), ('use', 1), ('DataFrames', 1), ('in', 1), ('2.0', 1), ('What', 1), ('is', 1), ('an', 1), ('RDD', 1), ('and', 1), ('Schema', 1), ('RDD', 1), ('How', 1), ('do', 1), ('I', 1), ('group', 1), ('by', 1), ('a', 1), ('field', 1), ('Can', 1), ('I', 1), ('use', 1), ('Hive', 1), ('from', 1), ('HUE', 1)]\n",
            "word_with_count_rdd [('use', 2), ('DataFrames', 1), ('in', 1), ('2.0', 1), ('What', 1), ('is', 1), ('an', 1), ('do', 1), ('group', 1), ('field', 1), ('Hive', 1), ('How', 2), ('can', 1), ('I', 3), ('RDD', 2), ('and', 1), ('Schema', 1), ('by', 1), ('a', 1), ('Can', 1), ('from', 1), ('HUE', 1)]\n"
          ],
          "name": "stdout"
        }
      ]
    },
    {
      "cell_type": "code",
      "metadata": {
        "id": "3_-2qtG4g6x7",
        "colab": {
          "base_uri": "https://localhost:8080/"
        },
        "outputId": "562c0bc8-1800-449d-99b9-931d6392d10c"
      },
      "source": [
        "dir(people_df) # check all the methods which can be used with the RDD."
      ],
      "execution_count": null,
      "outputs": [
        {
          "output_type": "execute_result",
          "data": {
            "text/plain": [
              "['__class__',\n",
              " '__delattr__',\n",
              " '__dict__',\n",
              " '__dir__',\n",
              " '__doc__',\n",
              " '__eq__',\n",
              " '__format__',\n",
              " '__ge__',\n",
              " '__getattr__',\n",
              " '__getattribute__',\n",
              " '__getitem__',\n",
              " '__gt__',\n",
              " '__hash__',\n",
              " '__init__',\n",
              " '__init_subclass__',\n",
              " '__le__',\n",
              " '__lt__',\n",
              " '__module__',\n",
              " '__ne__',\n",
              " '__new__',\n",
              " '__reduce__',\n",
              " '__reduce_ex__',\n",
              " '__repr__',\n",
              " '__setattr__',\n",
              " '__sizeof__',\n",
              " '__str__',\n",
              " '__subclasshook__',\n",
              " '__weakref__',\n",
              " '_collect_as_arrow',\n",
              " '_jcols',\n",
              " '_jdf',\n",
              " '_jmap',\n",
              " '_jseq',\n",
              " '_lazy_rdd',\n",
              " '_repr_html_',\n",
              " '_sc',\n",
              " '_schema',\n",
              " '_sort_cols',\n",
              " '_support_repr_html',\n",
              " '_to_corrected_pandas_type',\n",
              " 'agg',\n",
              " 'alias',\n",
              " 'approxQuantile',\n",
              " 'cache',\n",
              " 'checkpoint',\n",
              " 'coalesce',\n",
              " 'colRegex',\n",
              " 'collect',\n",
              " 'columns',\n",
              " 'corr',\n",
              " 'count',\n",
              " 'cov',\n",
              " 'createGlobalTempView',\n",
              " 'createOrReplaceGlobalTempView',\n",
              " 'createOrReplaceTempView',\n",
              " 'createTempView',\n",
              " 'crossJoin',\n",
              " 'crosstab',\n",
              " 'cube',\n",
              " 'describe',\n",
              " 'distinct',\n",
              " 'drop',\n",
              " 'dropDuplicates',\n",
              " 'drop_duplicates',\n",
              " 'dropna',\n",
              " 'dtypes',\n",
              " 'exceptAll',\n",
              " 'explain',\n",
              " 'fillna',\n",
              " 'filter',\n",
              " 'first',\n",
              " 'foreach',\n",
              " 'foreachPartition',\n",
              " 'freqItems',\n",
              " 'groupBy',\n",
              " 'groupby',\n",
              " 'head',\n",
              " 'hint',\n",
              " 'inputFiles',\n",
              " 'intersect',\n",
              " 'intersectAll',\n",
              " 'isLocal',\n",
              " 'isStreaming',\n",
              " 'is_cached',\n",
              " 'join',\n",
              " 'limit',\n",
              " 'localCheckpoint',\n",
              " 'mapInPandas',\n",
              " 'na',\n",
              " 'orderBy',\n",
              " 'persist',\n",
              " 'printSchema',\n",
              " 'randomSplit',\n",
              " 'rdd',\n",
              " 'registerTempTable',\n",
              " 'repartition',\n",
              " 'repartitionByRange',\n",
              " 'replace',\n",
              " 'rollup',\n",
              " 'sameSemantics',\n",
              " 'sample',\n",
              " 'sampleBy',\n",
              " 'schema',\n",
              " 'select',\n",
              " 'selectExpr',\n",
              " 'semanticHash',\n",
              " 'show',\n",
              " 'sort',\n",
              " 'sortWithinPartitions',\n",
              " 'sql_ctx',\n",
              " 'stat',\n",
              " 'storageLevel',\n",
              " 'subtract',\n",
              " 'summary',\n",
              " 'tail',\n",
              " 'take',\n",
              " 'toDF',\n",
              " 'toJSON',\n",
              " 'toLocalIterator',\n",
              " 'toPandas',\n",
              " 'transform',\n",
              " 'union',\n",
              " 'unionAll',\n",
              " 'unionByName',\n",
              " 'unpersist',\n",
              " 'where',\n",
              " 'withColumn',\n",
              " 'withColumnRenamed',\n",
              " 'withWatermark',\n",
              " 'write',\n",
              " 'writeStream',\n",
              " 'writeTo']"
            ]
          },
          "metadata": {
            "tags": []
          },
          "execution_count": 60
        }
      ]
    },
    {
      "cell_type": "code",
      "metadata": {
        "id": "A_jOgc3Bi5ez",
        "colab": {
          "base_uri": "https://localhost:8080/"
        },
        "outputId": "fd86e460-0d0c-4736-c472-60437d95780e"
      },
      "source": [
        "#help(people_df) # even better with example but it gives details about all the methods.\n",
        "help(people_df.collect) # for specific method"
      ],
      "execution_count": null,
      "outputs": [
        {
          "output_type": "stream",
          "text": [
            "Help on method collect in module pyspark.sql.dataframe:\n",
            "\n",
            "collect() method of pyspark.sql.dataframe.DataFrame instance\n",
            "    Returns all the records as a list of :class:`Row`.\n",
            "    \n",
            "    .. versionadded:: 1.3.0\n",
            "    \n",
            "    Examples\n",
            "    --------\n",
            "    >>> df.collect()\n",
            "    [Row(age=2, name='Alice'), Row(age=5, name='Bob')]\n",
            "\n"
          ],
          "name": "stdout"
        }
      ]
    },
    {
      "cell_type": "markdown",
      "metadata": {
        "id": "k_vZ3WzLdKdV"
      },
      "source": [
        "###Partition"
      ]
    },
    {
      "cell_type": "code",
      "metadata": {
        "id": "UQtZZ1uNdMYy",
        "colab": {
          "base_uri": "https://localhost:8080/"
        },
        "outputId": "824f1aec-8f9a-4ae4-a361-8c1cae496a12"
      },
      "source": [
        "list1_rdd = sc.parallelize([1, 2, 3, 4, 5, 6, 7, 8, 9])\n",
        "#list1_rdd # ParallelCollectionRDD[1] at readRDDFromFile at PythonRDD.scala:274\n",
        "#list1_rdd.collect() # [1, 2, 3, 4, 5, 6, 7, 8, 9]\n",
        "#list1_rdd.getNumPartitions() # 2 - even though it is small data it has created 2 partition.\n",
        "partitions_array = list1_rdd.glom() # gluam method bring all the partition as individual partition. don't try with big valume data.\n",
        "partitions_array.collect()"
      ],
      "execution_count": null,
      "outputs": [
        {
          "output_type": "execute_result",
          "data": {
            "text/plain": [
              "[[1, 2, 3, 4], [5, 6, 7, 8, 9]]"
            ]
          },
          "metadata": {
            "tags": []
          },
          "execution_count": 116
        }
      ]
    },
    {
      "cell_type": "code",
      "metadata": {
        "id": "fHtdeIFufMYa",
        "colab": {
          "base_uri": "https://localhost:8080/"
        },
        "outputId": "d48cd070-5847-4951-e0fa-ff7312456448"
      },
      "source": [
        "list2_rdd = sc.parallelize([1, 2, 3, 4, 5, 6, 7, 8, 9], 3) # specify partition explicitly\n",
        "list2_rdd.getNumPartitions() # 3\n",
        "partitions_array = list2_rdd.glom()\n",
        "partitions_array.collect()"
      ],
      "execution_count": null,
      "outputs": [
        {
          "output_type": "execute_result",
          "data": {
            "text/plain": [
              "[[1, 2, 3], [4, 5, 6], [7, 8, 9]]"
            ]
          },
          "metadata": {
            "tags": []
          },
          "execution_count": 117
        }
      ]
    },
    {
      "cell_type": "code",
      "metadata": {
        "id": "AUebOIFU-hFl",
        "colab": {
          "base_uri": "https://localhost:8080/"
        },
        "outputId": "6532ee68-015d-4bcc-a97e-34a2b57b9dfb"
      },
      "source": [
        "list3_rdd = list2_rdd.repartition(2) # specifies new partition, up or down but there would be shuffling.\n",
        "#partitions_array.getNumPartitions() # 2\n",
        "#list2_rdd.glom().collect() # this is still having 2 only.\n",
        "list3_rdd.glom().collect()"
      ],
      "execution_count": null,
      "outputs": [
        {
          "output_type": "execute_result",
          "data": {
            "text/plain": [
              "[[1, 2, 3, 7, 8, 9], [4, 5, 6]]"
            ]
          },
          "metadata": {
            "tags": []
          },
          "execution_count": 118
        }
      ]
    },
    {
      "cell_type": "code",
      "metadata": {
        "id": "t1ZoRb3__UOt",
        "colab": {
          "base_uri": "https://localhost:8080/"
        },
        "outputId": "bb357c9a-2347-4b3c-9572-a0aec9de9e5d"
      },
      "source": [
        "partitions_array = list3_rdd.coalesce(2) # only decreases and it doesnot have shuffling.\n",
        "# Note: If the existing partation is x then the coalesce value cannot be more than the x. Even we pass more than the x but it does not change the number of partition.\n",
        "partitions_array.glom().collect()"
      ],
      "execution_count": null,
      "outputs": [
        {
          "output_type": "execute_result",
          "data": {
            "text/plain": [
              "[[1, 2, 3, 7, 8, 9], [4, 5, 6]]"
            ]
          },
          "metadata": {
            "tags": []
          },
          "execution_count": 119
        }
      ]
    },
    {
      "cell_type": "markdown",
      "metadata": {
        "id": "Q3YRw__BgF-g"
      },
      "source": [
        "###Inferred Schemas"
      ]
    },
    {
      "cell_type": "code",
      "metadata": {
        "id": "aQBriNDSgLWY",
        "colab": {
          "base_uri": "https://localhost:8080/"
        },
        "outputId": "fd7d90f3-e88f-4d6c-e1ba-ddd503cc1dc7"
      },
      "source": [
        "lines_rdd = sc.textFile(\"datasets/students.txt\")\n",
        "lines_rdd.collect()"
      ],
      "execution_count": null,
      "outputs": [
        {
          "output_type": "execute_result",
          "data": {
            "text/plain": [
              "['Emily,44,55,78', 'Andy,47,34,89', 'Rick,55,78,55', 'Aaron,66,34,98']"
            ]
          },
          "metadata": {
            "tags": []
          },
          "execution_count": 64
        }
      ]
    },
    {
      "cell_type": "code",
      "metadata": {
        "id": "1-ozpuHug5FA",
        "colab": {
          "base_uri": "https://localhost:8080/"
        },
        "outputId": "d5d2c646-56ba-4f93-a15d-ab2695d1145d"
      },
      "source": [
        "parts_rdd = lines_rdd.map(lambda l: l.split(\",\"))\n",
        "parts_rdd.collect()"
      ],
      "execution_count": null,
      "outputs": [
        {
          "output_type": "execute_result",
          "data": {
            "text/plain": [
              "[['Emily', '44', '55', '78'],\n",
              " ['Andy', '47', '34', '89'],\n",
              " ['Rick', '55', '78', '55'],\n",
              " ['Aaron', '66', '34', '98']]"
            ]
          },
          "metadata": {
            "tags": []
          },
          "execution_count": 65
        }
      ]
    },
    {
      "cell_type": "code",
      "metadata": {
        "id": "dxxDpGA1hAgS",
        "colab": {
          "base_uri": "https://localhost:8080/"
        },
        "outputId": "bdf22bbd-b446-4048-b30f-de1f2538287c"
      },
      "source": [
        "students_rdd = parts_rdd.map(lambda p: Row(name=p[0], math=int(p[1]), english=int(p[2]), science=int(p[3])))\n",
        "students_rdd.collect()"
      ],
      "execution_count": null,
      "outputs": [
        {
          "output_type": "execute_result",
          "data": {
            "text/plain": [
              "[Row(name='Emily', math=44, english=55, science=78),\n",
              " Row(name='Andy', math=47, english=34, science=89),\n",
              " Row(name='Rick', math=55, english=78, science=55),\n",
              " Row(name='Aaron', math=66, english=34, science=98)]"
            ]
          },
          "metadata": {
            "tags": []
          },
          "execution_count": 66
        }
      ]
    },
    {
      "cell_type": "code",
      "metadata": {
        "id": "ZRX6tudJhpsJ",
        "colab": {
          "base_uri": "https://localhost:8080/"
        },
        "outputId": "f6184643-001d-4e17-b9b4-1e69e5a917da"
      },
      "source": [
        "students_df = spark.createDataFrame(students_rdd)\n",
        "students_df.createOrReplaceTempView(\"students_tbl\")\n",
        "students_df.columns"
      ],
      "execution_count": null,
      "outputs": [
        {
          "output_type": "execute_result",
          "data": {
            "text/plain": [
              "['name', 'math', 'english', 'science']"
            ]
          },
          "metadata": {
            "tags": []
          },
          "execution_count": 67
        }
      ]
    },
    {
      "cell_type": "code",
      "metadata": {
        "id": "yCMxRSVzibe6",
        "colab": {
          "base_uri": "https://localhost:8080/"
        },
        "outputId": "a0b77426-dd68-4898-bfa1-0ce568ed9920"
      },
      "source": [
        "students_df.schema # Spark generates schema automatically."
      ],
      "execution_count": null,
      "outputs": [
        {
          "output_type": "execute_result",
          "data": {
            "text/plain": [
              "StructType(List(StructField(name,StringType,true),StructField(math,LongType,true),StructField(english,LongType,true),StructField(science,LongType,true)))"
            ]
          },
          "metadata": {
            "tags": []
          },
          "execution_count": 68
        }
      ]
    },
    {
      "cell_type": "code",
      "metadata": {
        "id": "nWLKei5IifSC",
        "colab": {
          "base_uri": "https://localhost:8080/"
        },
        "outputId": "92183c89-28d8-4fbe-ae31-7f588e6552d5"
      },
      "source": [
        "spark.sql(\"SELECT * FROM students_tbl\").show()"
      ],
      "execution_count": null,
      "outputs": [
        {
          "output_type": "stream",
          "text": [
            "+-----+----+-------+-------+\n",
            "| name|math|english|science|\n",
            "+-----+----+-------+-------+\n",
            "|Emily|  44|     55|     78|\n",
            "| Andy|  47|     34|     89|\n",
            "| Rick|  55|     78|     55|\n",
            "|Aaron|  66|     34|     98|\n",
            "+-----+----+-------+-------+\n",
            "\n"
          ],
          "name": "stdout"
        }
      ]
    },
    {
      "cell_type": "markdown",
      "metadata": {
        "id": "7fiaqAX4iom2"
      },
      "source": [
        " ### Explicit Schemas"
      ]
    },
    {
      "cell_type": "code",
      "metadata": {
        "id": "uS7JFmtYivqk",
        "colab": {
          "base_uri": "https://localhost:8080/"
        },
        "outputId": "626dbbef-c169-4ee0-eaa0-989c6b7433a2"
      },
      "source": [
        "parts_rdd.collect()"
      ],
      "execution_count": null,
      "outputs": [
        {
          "output_type": "execute_result",
          "data": {
            "text/plain": [
              "[['Emily', '44', '55', '78'],\n",
              " ['Andy', '47', '34', '89'],\n",
              " ['Rick', '55', '78', '55'],\n",
              " ['Aaron', '66', '34', '98']]"
            ]
          },
          "metadata": {
            "tags": []
          },
          "execution_count": 70
        }
      ]
    },
    {
      "cell_type": "code",
      "metadata": {
        "id": "U-40CQDRi3Br",
        "colab": {
          "base_uri": "https://localhost:8080/"
        },
        "outputId": "eaec53b9-edb9-4b29-8edc-15bd36893742"
      },
      "source": [
        "from pyspark.sql.types import StructType, StructField, StringType, LongType\n",
        "\n",
        "fields = [StructField('name', StringType(), True),\n",
        "          StructField('math', LongType(), True),\n",
        "          StructField('english', LongType(), True),\n",
        "          StructField('science', LongType(), True),\n",
        "]\n",
        "student_schema = StructType(fields)\n",
        "\n",
        "students_explicit_df = spark.createDataFrame(parts_rdd, student_schema)\n",
        "students_explicit_df.columns"
      ],
      "execution_count": null,
      "outputs": [
        {
          "output_type": "execute_result",
          "data": {
            "text/plain": [
              "['name', 'math', 'english', 'science']"
            ]
          },
          "metadata": {
            "tags": []
          },
          "execution_count": 71
        }
      ]
    },
    {
      "cell_type": "code",
      "metadata": {
        "id": "XhgR7hFcjobz",
        "colab": {
          "base_uri": "https://localhost:8080/"
        },
        "outputId": "16b5ed4d-286c-4703-992f-ff1cc3a7bf21"
      },
      "source": [
        "students_explicit_df.schema"
      ],
      "execution_count": null,
      "outputs": [
        {
          "output_type": "execute_result",
          "data": {
            "text/plain": [
              "StructType(List(StructField(name,StringType,true),StructField(math,LongType,true),StructField(english,LongType,true),StructField(science,LongType,true)))"
            ]
          },
          "metadata": {
            "tags": []
          },
          "execution_count": 72
        }
      ]
    },
    {
      "cell_type": "markdown",
      "metadata": {
        "id": "LuUpqahufB8D"
      },
      "source": [
        "### RDD Lineage(Operator/Dependency Graph)\n",
        "Graph of transformation operations required to execute when an action is called."
      ]
    },
    {
      "cell_type": "code",
      "metadata": {
        "id": "Aq8n72wIfpfp",
        "outputId": "034c31c1-3eb7-475b-e07f-eef572223de5",
        "colab": {
          "base_uri": "https://localhost:8080/"
        }
      },
      "source": [
        "parts_rdd.toDebugString()"
      ],
      "execution_count": 129,
      "outputs": [
        {
          "output_type": "execute_result",
          "data": {
            "text/plain": [
              "b'(2) PythonRDD[163] at collect at <ipython-input-65-1c3a6166eca7>:2 []\\n |  datasets/students.txt MapPartitionsRDD[162] at textFile at NativeMethodAccessorImpl.java:0 []\\n |  datasets/students.txt HadoopRDD[161] at textFile at NativeMethodAccessorImpl.java:0 []'"
            ]
          },
          "metadata": {
            "tags": []
          },
          "execution_count": 129
        }
      ]
    }
  ]
}