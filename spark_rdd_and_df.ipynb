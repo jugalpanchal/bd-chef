{
  "nbformat": 4,
  "nbformat_minor": 0,
  "metadata": {
    "colab": {
      "name": "spark_rdd_and_df.ipynb",
      "provenance": [],
      "authorship_tag": "ABX9TyNK1HGYIyQKzj/vLm2jDjeR",
      "include_colab_link": true
    },
    "kernelspec": {
      "name": "python3",
      "display_name": "Python 3"
    },
    "language_info": {
      "name": "python"
    }
  },
  "cells": [
    {
      "cell_type": "markdown",
      "metadata": {
        "id": "view-in-github",
        "colab_type": "text"
      },
      "source": [
        "<a href=\"https://colab.research.google.com/github/jugalpanchal/bd-chef/blob/main/spark_rdd_and_df.ipynb\" target=\"_parent\"><img src=\"https://colab.research.google.com/assets/colab-badge.svg\" alt=\"Open In Colab\"/></a>"
      ]
    },
    {
      "cell_type": "code",
      "metadata": {
        "id": "C5-JcY1SaVHd"
      },
      "source": [
        "# Follow the steps to install the dependencies:\n",
        "!apt-get install openjdk-8-jdk-headless -qq > /dev/null # install java\n",
        "!wget -q https://downloads.apache.org/spark/spark-3.1.2/spark-3.1.2-bin-hadoop3.2.tgz # spark package download\n",
        "!tar xf spark-3.1.2-bin-hadoop3.2.tgz # unzip spark package\n",
        "!pip install -q findspark # install spark\n",
        "\n",
        "# Set the location of Java and Spark:\n",
        "import os\n",
        "os.environ[\"JAVA_HOME\"] = \"/usr/lib/jvm/java-8-openjdk-amd64\"\n",
        "os.environ[\"SPARK_HOME\"] = \"/content/spark-3.1.2-bin-hadoop3.2\"\n",
        "\n",
        "import findspark\n",
        "findspark.init()"
      ],
      "execution_count": 1,
      "outputs": []
    },
    {
      "cell_type": "code",
      "metadata": {
        "id": "UUbmGLQVaeel"
      },
      "source": [
        "from pyspark.sql import SparkSession\n",
        "from pyspark.sql.types import Row\n",
        "\n",
        "# create or get spark session\n",
        "spark = SparkSession.builder \\\n",
        "        .master(\"local[*]\") \\\n",
        "        .appName(\"Spark_App1\") \\\n",
        "        .getOrCreate()\n",
        "\n",
        "# Spark 2.x does not give direct sparkcontext so we need to get it from SparkSession\n",
        "sc = spark.sparkContext"
      ],
      "execution_count": 2,
      "outputs": []
    },
    {
      "cell_type": "markdown",
      "metadata": {
        "id": "RwtAMd19usN4"
      },
      "source": [
        "### RDD"
      ]
    },
    {
      "cell_type": "code",
      "metadata": {
        "colab": {
          "base_uri": "https://localhost:8080/"
        },
        "id": "c_37d7reah0a",
        "outputId": "18517afa-8c05-4635-a9af-8fcc0dc166c2"
      },
      "source": [
        "# Read a file and create a RDD - RDD Started in Spark 1.x\n",
        "collection_rdd = sc.textFile(\"sample_data/anscombe.json\")\n",
        "#collection_rdd = sc.textFile(\"sample_data/*.json\") # multiple files\n",
        "\n",
        "collection_rdd"
      ],
      "execution_count": 3,
      "outputs": [
        {
          "output_type": "execute_result",
          "data": {
            "text/plain": [
              "sample_data/anscombe.json MapPartitionsRDD[1] at textFile at NativeMethodAccessorImpl.java:0"
            ]
          },
          "metadata": {
            "tags": []
          },
          "execution_count": 3
        }
      ]
    },
    {
      "cell_type": "code",
      "metadata": {
        "id": "yUEvTm7itzMO"
      },
      "source": [
        "#collection_rdd.count() #49\n",
        "#collection_rdd.take(5) # top 5 entities"
      ],
      "execution_count": 4,
      "outputs": []
    },
    {
      "cell_type": "code",
      "metadata": {
        "colab": {
          "base_uri": "https://localhost:8080/"
        },
        "id": "_d_B3TMMbZ3M",
        "outputId": "0e0de824-b6b0-42a7-a17f-7563b54970fa"
      },
      "source": [
        "collection_rdd.collect() # this is like a collection"
      ],
      "execution_count": 5,
      "outputs": [
        {
          "output_type": "execute_result",
          "data": {
            "text/plain": [
              "['[',\n",
              " '  {\"Series\":\"I\", \"X\":10.0, \"Y\":8.04},',\n",
              " '  {\"Series\":\"I\", \"X\":8.0, \"Y\":6.95},',\n",
              " '  {\"Series\":\"I\", \"X\":13.0, \"Y\":7.58},',\n",
              " '  {\"Series\":\"I\", \"X\":9.0, \"Y\":8.81},',\n",
              " '  {\"Series\":\"I\", \"X\":11.0, \"Y\":8.33},',\n",
              " '  {\"Series\":\"I\", \"X\":14.0, \"Y\":9.96},',\n",
              " '  {\"Series\":\"I\", \"X\":6.0, \"Y\":7.24},',\n",
              " '  {\"Series\":\"I\", \"X\":4.0, \"Y\":4.26},',\n",
              " '  {\"Series\":\"I\", \"X\":12.0, \"Y\":10.84},',\n",
              " '  {\"Series\":\"I\", \"X\":7.0, \"Y\":4.81},',\n",
              " '  {\"Series\":\"I\", \"X\":5.0, \"Y\":5.68},',\n",
              " '',\n",
              " '  {\"Series\":\"II\", \"X\":10.0, \"Y\":9.14},',\n",
              " '  {\"Series\":\"II\", \"X\":8.0, \"Y\":8.14},',\n",
              " '  {\"Series\":\"II\", \"X\":13.0, \"Y\":8.74},',\n",
              " '  {\"Series\":\"II\", \"X\":9.0, \"Y\":8.77},',\n",
              " '  {\"Series\":\"II\", \"X\":11.0, \"Y\":9.26},',\n",
              " '  {\"Series\":\"II\", \"X\":14.0, \"Y\":8.10},',\n",
              " '  {\"Series\":\"II\", \"X\":6.0, \"Y\":6.13},',\n",
              " '  {\"Series\":\"II\", \"X\":4.0, \"Y\":3.10},',\n",
              " '  {\"Series\":\"II\", \"X\":12.0, \"Y\":9.13},',\n",
              " '  {\"Series\":\"II\", \"X\":7.0, \"Y\":7.26},',\n",
              " '  {\"Series\":\"II\", \"X\":5.0, \"Y\":4.74},',\n",
              " '',\n",
              " '  {\"Series\":\"III\", \"X\":10.0, \"Y\":7.46},',\n",
              " '  {\"Series\":\"III\", \"X\":8.0, \"Y\":6.77},',\n",
              " '  {\"Series\":\"III\", \"X\":13.0, \"Y\":12.74},',\n",
              " '  {\"Series\":\"III\", \"X\":9.0, \"Y\":7.11},',\n",
              " '  {\"Series\":\"III\", \"X\":11.0, \"Y\":7.81},',\n",
              " '  {\"Series\":\"III\", \"X\":14.0, \"Y\":8.84},',\n",
              " '  {\"Series\":\"III\", \"X\":6.0, \"Y\":6.08},',\n",
              " '  {\"Series\":\"III\", \"X\":4.0, \"Y\":5.39},',\n",
              " '  {\"Series\":\"III\", \"X\":12.0, \"Y\":8.15},',\n",
              " '  {\"Series\":\"III\", \"X\":7.0, \"Y\":6.42},',\n",
              " '  {\"Series\":\"III\", \"X\":5.0, \"Y\":5.73},',\n",
              " '',\n",
              " '  {\"Series\":\"IV\", \"X\":8.0, \"Y\":6.58},',\n",
              " '  {\"Series\":\"IV\", \"X\":8.0, \"Y\":5.76},',\n",
              " '  {\"Series\":\"IV\", \"X\":8.0, \"Y\":7.71},',\n",
              " '  {\"Series\":\"IV\", \"X\":8.0, \"Y\":8.84},',\n",
              " '  {\"Series\":\"IV\", \"X\":8.0, \"Y\":8.47},',\n",
              " '  {\"Series\":\"IV\", \"X\":8.0, \"Y\":7.04},',\n",
              " '  {\"Series\":\"IV\", \"X\":8.0, \"Y\":5.25},',\n",
              " '  {\"Series\":\"IV\", \"X\":19.0, \"Y\":12.50},',\n",
              " '  {\"Series\":\"IV\", \"X\":8.0, \"Y\":5.56},',\n",
              " '  {\"Series\":\"IV\", \"X\":8.0, \"Y\":7.91},',\n",
              " '  {\"Series\":\"IV\", \"X\":8.0, \"Y\":6.89}',\n",
              " ']']"
            ]
          },
          "metadata": {
            "tags": []
          },
          "execution_count": 5
        }
      ]
    },
    {
      "cell_type": "markdown",
      "metadata": {
        "id": "YQVAnEWsuvX2"
      },
      "source": [
        "### DataFrame"
      ]
    },
    {
      "cell_type": "code",
      "metadata": {
        "colab": {
          "base_uri": "https://localhost:8080/"
        },
        "id": "DsOowOUJak8W",
        "outputId": "4a48e111-38f8-4b80-ab45-dc1912b773c5"
      },
      "source": [
        "# Read a file and create a DataFrame - DataFrame Started in Spark 2.x but on top of the RDD.\n",
        "json_df = spark.read.json('sample_data/anscombe.json') # first row is always a columns row.\n",
        "json_df"
      ],
      "execution_count": 6,
      "outputs": [
        {
          "output_type": "execute_result",
          "data": {
            "text/plain": [
              "DataFrame[Series: string, X: double, Y: double, _corrupt_record: string]"
            ]
          },
          "metadata": {
            "tags": []
          },
          "execution_count": 6
        }
      ]
    },
    {
      "cell_type": "code",
      "metadata": {
        "colab": {
          "base_uri": "https://localhost:8080/"
        },
        "id": "PkNpX4Uxbpyc",
        "outputId": "5f2bd298-5f1b-4a64-d904-758a101c7129"
      },
      "source": [
        "json_df.printSchema()"
      ],
      "execution_count": 7,
      "outputs": [
        {
          "output_type": "stream",
          "text": [
            "root\n",
            " |-- Series: string (nullable = true)\n",
            " |-- X: double (nullable = true)\n",
            " |-- Y: double (nullable = true)\n",
            " |-- _corrupt_record: string (nullable = true)\n",
            "\n"
          ],
          "name": "stdout"
        }
      ]
    },
    {
      "cell_type": "code",
      "metadata": {
        "colab": {
          "base_uri": "https://localhost:8080/"
        },
        "id": "Sa0oFO4hbf1e",
        "outputId": "bd414ecd-cba5-4873-fd0d-8326eccb3072"
      },
      "source": [
        "json_df.collect()"
      ],
      "execution_count": 8,
      "outputs": [
        {
          "output_type": "execute_result",
          "data": {
            "text/plain": [
              "[Row(Series=None, X=None, Y=None, _corrupt_record='['),\n",
              " Row(Series='I', X=10.0, Y=8.04, _corrupt_record=None),\n",
              " Row(Series='I', X=8.0, Y=6.95, _corrupt_record=None),\n",
              " Row(Series='I', X=13.0, Y=7.58, _corrupt_record=None),\n",
              " Row(Series='I', X=9.0, Y=8.81, _corrupt_record=None),\n",
              " Row(Series='I', X=11.0, Y=8.33, _corrupt_record=None),\n",
              " Row(Series='I', X=14.0, Y=9.96, _corrupt_record=None),\n",
              " Row(Series='I', X=6.0, Y=7.24, _corrupt_record=None),\n",
              " Row(Series='I', X=4.0, Y=4.26, _corrupt_record=None),\n",
              " Row(Series='I', X=12.0, Y=10.84, _corrupt_record=None),\n",
              " Row(Series='I', X=7.0, Y=4.81, _corrupt_record=None),\n",
              " Row(Series='I', X=5.0, Y=5.68, _corrupt_record=None),\n",
              " Row(Series='II', X=10.0, Y=9.14, _corrupt_record=None),\n",
              " Row(Series='II', X=8.0, Y=8.14, _corrupt_record=None),\n",
              " Row(Series='II', X=13.0, Y=8.74, _corrupt_record=None),\n",
              " Row(Series='II', X=9.0, Y=8.77, _corrupt_record=None),\n",
              " Row(Series='II', X=11.0, Y=9.26, _corrupt_record=None),\n",
              " Row(Series='II', X=14.0, Y=8.1, _corrupt_record=None),\n",
              " Row(Series='II', X=6.0, Y=6.13, _corrupt_record=None),\n",
              " Row(Series='II', X=4.0, Y=3.1, _corrupt_record=None),\n",
              " Row(Series='II', X=12.0, Y=9.13, _corrupt_record=None),\n",
              " Row(Series='II', X=7.0, Y=7.26, _corrupt_record=None),\n",
              " Row(Series='II', X=5.0, Y=4.74, _corrupt_record=None),\n",
              " Row(Series='III', X=10.0, Y=7.46, _corrupt_record=None),\n",
              " Row(Series='III', X=8.0, Y=6.77, _corrupt_record=None),\n",
              " Row(Series='III', X=13.0, Y=12.74, _corrupt_record=None),\n",
              " Row(Series='III', X=9.0, Y=7.11, _corrupt_record=None),\n",
              " Row(Series='III', X=11.0, Y=7.81, _corrupt_record=None),\n",
              " Row(Series='III', X=14.0, Y=8.84, _corrupt_record=None),\n",
              " Row(Series='III', X=6.0, Y=6.08, _corrupt_record=None),\n",
              " Row(Series='III', X=4.0, Y=5.39, _corrupt_record=None),\n",
              " Row(Series='III', X=12.0, Y=8.15, _corrupt_record=None),\n",
              " Row(Series='III', X=7.0, Y=6.42, _corrupt_record=None),\n",
              " Row(Series='III', X=5.0, Y=5.73, _corrupt_record=None),\n",
              " Row(Series='IV', X=8.0, Y=6.58, _corrupt_record=None),\n",
              " Row(Series='IV', X=8.0, Y=5.76, _corrupt_record=None),\n",
              " Row(Series='IV', X=8.0, Y=7.71, _corrupt_record=None),\n",
              " Row(Series='IV', X=8.0, Y=8.84, _corrupt_record=None),\n",
              " Row(Series='IV', X=8.0, Y=8.47, _corrupt_record=None),\n",
              " Row(Series='IV', X=8.0, Y=7.04, _corrupt_record=None),\n",
              " Row(Series='IV', X=8.0, Y=5.25, _corrupt_record=None),\n",
              " Row(Series='IV', X=19.0, Y=12.5, _corrupt_record=None),\n",
              " Row(Series='IV', X=8.0, Y=5.56, _corrupt_record=None),\n",
              " Row(Series='IV', X=8.0, Y=7.91, _corrupt_record=None),\n",
              " Row(Series='IV', X=8.0, Y=6.89, _corrupt_record=None),\n",
              " Row(Series=None, X=None, Y=None, _corrupt_record=']')]"
            ]
          },
          "metadata": {
            "tags": []
          },
          "execution_count": 8
        }
      ]
    },
    {
      "cell_type": "markdown",
      "metadata": {
        "id": "4vpVtYVAu5PE"
      },
      "source": [
        "### RDD to DataFrame and vice versa"
      ]
    },
    {
      "cell_type": "code",
      "metadata": {
        "id": "VkY73YXpu8BO"
      },
      "source": [
        "generic_data = sc.parallelize([1, 'Alice', 50, 'Bob', 'Canton'])\n",
        "#generic_data.toDF() # It does not work because it contains object with differnt types."
      ],
      "execution_count": 9,
      "outputs": []
    },
    {
      "cell_type": "code",
      "metadata": {
        "id": "ezAapIlKwzMi",
        "colab": {
          "base_uri": "https://localhost:8080/"
        },
        "outputId": "2f9363f8-8da4-4000-a469-39ad70c4265c"
      },
      "source": [
        "people_list = [('Alice', 25), ('Bob', 20), ('Charly', 30), ('Don', 15)]\n",
        "people_rdd_pair = sc.parallelize(people_list) # create a RDD but with Tuple/Pair objects\n",
        "#people_rdd_pair # ParallelCollectionRDD[2] at readRDDFromFile\n",
        "\n",
        "people_rdd_pair.collect()"
      ],
      "execution_count": 10,
      "outputs": [
        {
          "output_type": "execute_result",
          "data": {
            "text/plain": [
              "[('Alice', 25), ('Bob', 20), ('Charly', 30), ('Don', 15)]"
            ]
          },
          "metadata": {
            "tags": []
          },
          "execution_count": 10
        }
      ]
    },
    {
      "cell_type": "code",
      "metadata": {
        "id": "-G26PuH0xzoj",
        "colab": {
          "base_uri": "https://localhost:8080/"
        },
        "outputId": "6826cf8e-a98a-418c-b6dc-984c7d4d2b39"
      },
      "source": [
        "people_df = people_rdd_pair.toDF() # Column names have been automatically generated and assigned. It infers data types too.\n",
        "#people_df # DataFrame[_1: string, _2: bigint]\n",
        "people_df.collect() # shows data with its class"
      ],
      "execution_count": 11,
      "outputs": [
        {
          "output_type": "execute_result",
          "data": {
            "text/plain": [
              "[Row(_1='Alice', _2=25),\n",
              " Row(_1='Bob', _2=20),\n",
              " Row(_1='Charly', _2=30),\n",
              " Row(_1='Don', _2=15)]"
            ]
          },
          "metadata": {
            "tags": []
          },
          "execution_count": 11
        }
      ]
    },
    {
      "cell_type": "code",
      "metadata": {
        "id": "dyTXqJ63zQmI",
        "colab": {
          "base_uri": "https://localhost:8080/"
        },
        "outputId": "3e55f2a1-1d60-4ca8-9191-0903436faa76"
      },
      "source": [
        "people_df.show() # shows in tabular format"
      ],
      "execution_count": 12,
      "outputs": [
        {
          "output_type": "stream",
          "text": [
            "+------+---+\n",
            "|    _1| _2|\n",
            "+------+---+\n",
            "| Alice| 25|\n",
            "|   Bob| 20|\n",
            "|Charly| 30|\n",
            "|   Don| 15|\n",
            "+------+---+\n",
            "\n"
          ],
          "name": "stdout"
        }
      ]
    },
    {
      "cell_type": "code",
      "metadata": {
        "id": "XrXYm9SLyXup",
        "colab": {
          "base_uri": "https://localhost:8080/"
        },
        "outputId": "3dba988d-b414-453c-b552-714bade2b920"
      },
      "source": [
        "from pyspark import Row\n",
        "# There are two way to get custom column names.\n",
        "# 1. Create the row class object while creating a RDD\n",
        "data_rdd_row = sc.parallelize([Row(name='Alice', age=50), \n",
        "                               Row(name='Bob', age=20)])\n",
        "data_rdd_row.collect() # [Row(name='Alice', age=50), Row(name='Bob', age=20)]"
      ],
      "execution_count": 13,
      "outputs": [
        {
          "output_type": "execute_result",
          "data": {
            "text/plain": [
              "[Row(name='Alice', age=50), Row(name='Bob', age=20)]"
            ]
          },
          "metadata": {
            "tags": []
          },
          "execution_count": 13
        }
      ]
    },
    {
      "cell_type": "code",
      "metadata": {
        "id": "4E_xlfUK1fDn",
        "colab": {
          "base_uri": "https://localhost:8080/"
        },
        "outputId": "b834db8e-0fa8-48f8-aa54-9789bd295066"
      },
      "source": [
        "# 2. Transform existing RDD to new RDD\n",
        "people_rdd_row = people_rdd_pair.map(lambda x: Row(name=x[0], age=int(x[1]))) # create a RDD with Row objects\n",
        "people_rdd_row # PythonRDD[63] at RDD\n",
        "people_rdd_row.collect()"
      ],
      "execution_count": 14,
      "outputs": [
        {
          "output_type": "execute_result",
          "data": {
            "text/plain": [
              "[Row(name='Alice', age=25),\n",
              " Row(name='Bob', age=20),\n",
              " Row(name='Charly', age=30),\n",
              " Row(name='Don', age=15)]"
            ]
          },
          "metadata": {
            "tags": []
          },
          "execution_count": 14
        }
      ]
    },
    {
      "cell_type": "code",
      "metadata": {
        "id": "9ZpnYejtx8Ly",
        "colab": {
          "base_uri": "https://localhost:8080/"
        },
        "outputId": "79b1ad14-eae5-4cb9-c29f-fce46ec66947"
      },
      "source": [
        "data_rdd_row.toDF().show()\n",
        "people_rdd_row.toDF().show()"
      ],
      "execution_count": 15,
      "outputs": [
        {
          "output_type": "stream",
          "text": [
            "+-----+---+\n",
            "| name|age|\n",
            "+-----+---+\n",
            "|Alice| 50|\n",
            "|  Bob| 20|\n",
            "+-----+---+\n",
            "\n",
            "+------+---+\n",
            "|  name|age|\n",
            "+------+---+\n",
            "| Alice| 25|\n",
            "|   Bob| 20|\n",
            "|Charly| 30|\n",
            "|   Don| 15|\n",
            "+------+---+\n",
            "\n"
          ],
          "name": "stdout"
        }
      ]
    },
    {
      "cell_type": "code",
      "metadata": {
        "id": "mXbgAOjI3hdv",
        "colab": {
          "base_uri": "https://localhost:8080/"
        },
        "outputId": "798db1cb-d5ee-46bb-adc2-c9b88ae4d07c"
      },
      "source": [
        "people_df.rdd # Every DataFrame contains a RDD and we can get the dataframe's RDD easily."
      ],
      "execution_count": 16,
      "outputs": [
        {
          "output_type": "execute_result",
          "data": {
            "text/plain": [
              "MapPartitionsRDD[39] at javaToPython at NativeMethodAccessorImpl.java:0"
            ]
          },
          "metadata": {
            "tags": []
          },
          "execution_count": 16
        }
      ]
    },
    {
      "cell_type": "code",
      "metadata": {
        "id": "QKBZpCu8-lrV"
      },
      "source": [
        "people_df = data_rdd_row.toDF()"
      ],
      "execution_count": 17,
      "outputs": []
    },
    {
      "cell_type": "markdown",
      "metadata": {
        "id": "Uf63F5uN2NEB"
      },
      "source": [
        "### Operation on DataFrame"
      ]
    },
    {
      "cell_type": "code",
      "metadata": {
        "id": "hymbpY6m2hh1",
        "colab": {
          "base_uri": "https://localhost:8080/"
        },
        "outputId": "9f80266f-7f4e-4301-af3c-72ee75c333f0"
      },
      "source": [
        "# map operation on RDD\n",
        "people_rdd = people_df.rdd.map(lambda x: (x.name, x.age + 5))\n",
        "#people_rdd # PythonRDD[78] at RDD\n",
        "people_rdd.collect()"
      ],
      "execution_count": 18,
      "outputs": [
        {
          "output_type": "execute_result",
          "data": {
            "text/plain": [
              "[('Alice', 55), ('Bob', 25)]"
            ]
          },
          "metadata": {
            "tags": []
          },
          "execution_count": 18
        }
      ]
    },
    {
      "cell_type": "code",
      "metadata": {
        "id": "B07N6Uvi5N6B",
        "colab": {
          "base_uri": "https://localhost:8080/"
        },
        "outputId": "c9bd2f22-e764-4535-e128-94875b2dfd44"
      },
      "source": [
        "# Map: the map operation performs a transformation on every element in the RDD. \n",
        "# Similar kind of method is not available for the DataFrame, \n",
        "# so we compute and assign computed value in new column within the DataFrame. \n",
        "\n",
        "people_df_new_age = people_df.select('name', 'age').withColumn('new_age', people_df.age + 10) # we can type people_df.age to mention column name.\n",
        "people_df_new_age.show()\n",
        "\n",
        "people_df_new_age = people_df_new_age.withColumnRenamed('new_age', 'after_ten_years')\n",
        "people_df_new_age = people_df_new_age.drop('age')\n",
        "people_df_new_age.show()"
      ],
      "execution_count": 19,
      "outputs": [
        {
          "output_type": "stream",
          "text": [
            "+-----+---+-------+\n",
            "| name|age|new_age|\n",
            "+-----+---+-------+\n",
            "|Alice| 50|     60|\n",
            "|  Bob| 20|     30|\n",
            "+-----+---+-------+\n",
            "\n",
            "+-----+---------------+\n",
            "| name|after_ten_years|\n",
            "+-----+---------------+\n",
            "|Alice|             60|\n",
            "|  Bob|             30|\n",
            "+-----+---------------+\n",
            "\n"
          ],
          "name": "stdout"
        }
      ]
    },
    {
      "cell_type": "code",
      "metadata": {
        "id": "kEfggXez5GNz",
        "colab": {
          "base_uri": "https://localhost:8080/"
        },
        "outputId": "a819c551-d8cb-490b-93c7-a7617b89c926"
      },
      "source": [
        "people_df.first()"
      ],
      "execution_count": 20,
      "outputs": [
        {
          "output_type": "execute_result",
          "data": {
            "text/plain": [
              "Row(name='Alice', age=50)"
            ]
          },
          "metadata": {
            "tags": []
          },
          "execution_count": 20
        }
      ]
    },
    {
      "cell_type": "code",
      "metadata": {
        "id": "ecH5aObO2hqE",
        "colab": {
          "base_uri": "https://localhost:8080/"
        },
        "outputId": "a3ca76f4-2d14-4256-d4b0-5bc189f68875"
      },
      "source": [
        "people_df.take(2)"
      ],
      "execution_count": 21,
      "outputs": [
        {
          "output_type": "execute_result",
          "data": {
            "text/plain": [
              "[Row(name='Alice', age=50), Row(name='Bob', age=20)]"
            ]
          },
          "metadata": {
            "tags": []
          },
          "execution_count": 21
        }
      ]
    },
    {
      "cell_type": "code",
      "metadata": {
        "id": "61qXp_Ja2uZM",
        "colab": {
          "base_uri": "https://localhost:8080/",
          "height": 35
        },
        "outputId": "83c8d14d-87a3-4e31-e64e-0dcc363f3d47"
      },
      "source": [
        "people_df.collect()[1][0] # It is a tabular format so can access specific cell.\n",
        "# It always creates a clone then return so if the cell has any class type and we modify then it won't change in the dataframe."
      ],
      "execution_count": 22,
      "outputs": [
        {
          "output_type": "execute_result",
          "data": {
            "application/vnd.google.colaboratory.intrinsic+json": {
              "type": "string"
            },
            "text/plain": [
              "'Bob'"
            ]
          },
          "metadata": {
            "tags": []
          },
          "execution_count": 22
        }
      ]
    },
    {
      "cell_type": "markdown",
      "metadata": {
        "id": "Q3YRw__BgF-g"
      },
      "source": [
        "###Inferred Schemas"
      ]
    },
    {
      "cell_type": "code",
      "metadata": {
        "id": "aQBriNDSgLWY",
        "outputId": "740bdd16-a560-44fb-a190-2b6322a0a10a",
        "colab": {
          "base_uri": "https://localhost:8080/"
        }
      },
      "source": [
        "lines_rdd = sc.textFile(\"datasets/students.txt\")\n",
        "lines_rdd.collect()"
      ],
      "execution_count": 23,
      "outputs": [
        {
          "output_type": "execute_result",
          "data": {
            "text/plain": [
              "['Emily,44,55,78', 'Andy,47,34,89', 'Rick,55,78,55', 'Aaron,66,34,98']"
            ]
          },
          "metadata": {
            "tags": []
          },
          "execution_count": 23
        }
      ]
    },
    {
      "cell_type": "code",
      "metadata": {
        "id": "1-ozpuHug5FA",
        "outputId": "b031d50e-26d9-46e2-c4b9-b62341bc24c5",
        "colab": {
          "base_uri": "https://localhost:8080/"
        }
      },
      "source": [
        "parts_rdd = lines_rdd.map(lambda l: l.split(\",\"))\n",
        "parts_rdd.collect()"
      ],
      "execution_count": 24,
      "outputs": [
        {
          "output_type": "execute_result",
          "data": {
            "text/plain": [
              "[['Emily', '44', '55', '78'],\n",
              " ['Andy', '47', '34', '89'],\n",
              " ['Rick', '55', '78', '55'],\n",
              " ['Aaron', '66', '34', '98']]"
            ]
          },
          "metadata": {
            "tags": []
          },
          "execution_count": 24
        }
      ]
    },
    {
      "cell_type": "code",
      "metadata": {
        "id": "dxxDpGA1hAgS",
        "outputId": "4d143723-fa4b-4da7-8f9a-e685dbabe92e",
        "colab": {
          "base_uri": "https://localhost:8080/"
        }
      },
      "source": [
        "students_rdd = parts_rdd.map(lambda p: Row(name=p[0], math=int(p[1]), english=int(p[2]), science=int(p[3])))\n",
        "students_rdd.collect()"
      ],
      "execution_count": 25,
      "outputs": [
        {
          "output_type": "execute_result",
          "data": {
            "text/plain": [
              "[Row(name='Emily', math=44, english=55, science=78),\n",
              " Row(name='Andy', math=47, english=34, science=89),\n",
              " Row(name='Rick', math=55, english=78, science=55),\n",
              " Row(name='Aaron', math=66, english=34, science=98)]"
            ]
          },
          "metadata": {
            "tags": []
          },
          "execution_count": 25
        }
      ]
    },
    {
      "cell_type": "code",
      "metadata": {
        "id": "ZRX6tudJhpsJ",
        "outputId": "594384e1-7a01-4fa2-ef91-c5c203a93d27",
        "colab": {
          "base_uri": "https://localhost:8080/"
        }
      },
      "source": [
        "students_df = spark.createDataFrame(students_rdd)\n",
        "students_df.createOrReplaceTempView(\"students_tbl\")\n",
        "students_df.columns"
      ],
      "execution_count": 26,
      "outputs": [
        {
          "output_type": "execute_result",
          "data": {
            "text/plain": [
              "['name', 'math', 'english', 'science']"
            ]
          },
          "metadata": {
            "tags": []
          },
          "execution_count": 26
        }
      ]
    },
    {
      "cell_type": "code",
      "metadata": {
        "id": "yCMxRSVzibe6",
        "outputId": "179681bb-a34c-49a8-8935-9268ed44b919",
        "colab": {
          "base_uri": "https://localhost:8080/"
        }
      },
      "source": [
        "students_df.schema # Spark generates schema automatically."
      ],
      "execution_count": 27,
      "outputs": [
        {
          "output_type": "execute_result",
          "data": {
            "text/plain": [
              "StructType(List(StructField(name,StringType,true),StructField(math,LongType,true),StructField(english,LongType,true),StructField(science,LongType,true)))"
            ]
          },
          "metadata": {
            "tags": []
          },
          "execution_count": 27
        }
      ]
    },
    {
      "cell_type": "code",
      "metadata": {
        "id": "nWLKei5IifSC",
        "outputId": "183fd4b1-d75b-4aca-d9f9-8e965ca5be08",
        "colab": {
          "base_uri": "https://localhost:8080/"
        }
      },
      "source": [
        "spark.sql(\"SELECT * FROM students_tbl\").show()"
      ],
      "execution_count": 28,
      "outputs": [
        {
          "output_type": "stream",
          "text": [
            "+-----+----+-------+-------+\n",
            "| name|math|english|science|\n",
            "+-----+----+-------+-------+\n",
            "|Emily|  44|     55|     78|\n",
            "| Andy|  47|     34|     89|\n",
            "| Rick|  55|     78|     55|\n",
            "|Aaron|  66|     34|     98|\n",
            "+-----+----+-------+-------+\n",
            "\n"
          ],
          "name": "stdout"
        }
      ]
    },
    {
      "cell_type": "markdown",
      "metadata": {
        "id": "7fiaqAX4iom2"
      },
      "source": [
        " ### Explicit Schemas"
      ]
    },
    {
      "cell_type": "code",
      "metadata": {
        "id": "uS7JFmtYivqk",
        "outputId": "b27034b8-94b2-4ab3-fa06-0f810a632749",
        "colab": {
          "base_uri": "https://localhost:8080/"
        }
      },
      "source": [
        "parts_rdd.collect()"
      ],
      "execution_count": 29,
      "outputs": [
        {
          "output_type": "execute_result",
          "data": {
            "text/plain": [
              "[['Emily', '44', '55', '78'],\n",
              " ['Andy', '47', '34', '89'],\n",
              " ['Rick', '55', '78', '55'],\n",
              " ['Aaron', '66', '34', '98']]"
            ]
          },
          "metadata": {
            "tags": []
          },
          "execution_count": 29
        }
      ]
    },
    {
      "cell_type": "code",
      "metadata": {
        "id": "U-40CQDRi3Br",
        "outputId": "a1424eea-7a0b-497a-e3c8-892193a290f9",
        "colab": {
          "base_uri": "https://localhost:8080/"
        }
      },
      "source": [
        "from pyspark.sql.types import StructType, StructField, StringType, LongType\n",
        "\n",
        "fields = [StructField('name', StringType(), True),\n",
        "          StructField('math', LongType(), True),\n",
        "          StructField('english', LongType(), True),\n",
        "          StructField('science', LongType(), True),\n",
        "]\n",
        "student_schema = StructType(fields)\n",
        "\n",
        "students_explicit_df = spark.createDataFrame(parts_rdd, student_schema)\n",
        "students_explicit_df.columns"
      ],
      "execution_count": 30,
      "outputs": [
        {
          "output_type": "execute_result",
          "data": {
            "text/plain": [
              "['name', 'math', 'english', 'science']"
            ]
          },
          "metadata": {
            "tags": []
          },
          "execution_count": 30
        }
      ]
    },
    {
      "cell_type": "code",
      "metadata": {
        "id": "XhgR7hFcjobz",
        "outputId": "1a611158-addd-410e-f353-9957c86e6d37",
        "colab": {
          "base_uri": "https://localhost:8080/"
        }
      },
      "source": [
        "students_explicit_df.schema"
      ],
      "execution_count": 31,
      "outputs": [
        {
          "output_type": "execute_result",
          "data": {
            "text/plain": [
              "StructType(List(StructField(name,StringType,true),StructField(math,LongType,true),StructField(english,LongType,true),StructField(science,LongType,true)))"
            ]
          },
          "metadata": {
            "tags": []
          },
          "execution_count": 31
        }
      ]
    }
  ]
}