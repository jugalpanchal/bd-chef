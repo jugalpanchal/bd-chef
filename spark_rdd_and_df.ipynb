{
  "nbformat": 4,
  "nbformat_minor": 0,
  "metadata": {
    "colab": {
      "name": "spark_rdd_and_df.ipynb",
      "provenance": [],
      "authorship_tag": "ABX9TyNnQao3a92TJiH8qdDRHse+",
      "include_colab_link": true
    },
    "kernelspec": {
      "name": "python3",
      "display_name": "Python 3"
    },
    "language_info": {
      "name": "python"
    }
  },
  "cells": [
    {
      "cell_type": "markdown",
      "metadata": {
        "id": "view-in-github",
        "colab_type": "text"
      },
      "source": [
        "<a href=\"https://colab.research.google.com/github/jugalpanchal/bd-chef/blob/main/spark_rdd_and_df.ipynb\" target=\"_parent\"><img src=\"https://colab.research.google.com/assets/colab-badge.svg\" alt=\"Open In Colab\"/></a>"
      ]
    },
    {
      "cell_type": "code",
      "metadata": {
        "id": "C5-JcY1SaVHd"
      },
      "source": [
        "# Follow the steps to install the dependencies:\n",
        "!apt-get install openjdk-8-jdk-headless -qq > /dev/null # install java\n",
        "!wget -q https://downloads.apache.org/spark/spark-3.1.2/spark-3.1.2-bin-hadoop3.2.tgz # spark package download\n",
        "!tar xf spark-3.1.2-bin-hadoop3.2.tgz # unzip spark package\n",
        "!pip install -q findspark # install spark\n",
        "\n",
        "# Set the location of Java and Spark:\n",
        "import os\n",
        "os.environ[\"JAVA_HOME\"] = \"/usr/lib/jvm/java-8-openjdk-amd64\"\n",
        "os.environ[\"SPARK_HOME\"] = \"/content/spark-3.1.2-bin-hadoop3.2\"\n",
        "\n",
        "import findspark\n",
        "findspark.init()"
      ],
      "execution_count": 1,
      "outputs": []
    },
    {
      "cell_type": "code",
      "metadata": {
        "id": "UUbmGLQVaeel"
      },
      "source": [
        "from pyspark.sql import SparkSession\n",
        "from pyspark.sql.types import Row\n",
        "\n",
        "# create or get spark session\n",
        "spark = SparkSession.builder \\\n",
        "        .master(\"local[*]\") \\\n",
        "        .appName(\"Spark_App1\") \\\n",
        "        .getOrCreate()\n",
        "\n",
        "# Spark 2.x does not give direct sparkcontext so we need to get it from SparkSession\n",
        "sc = spark.sparkContext\n",
        "#sc.appName #Spark_App1\n",
        "#sc.uiWebUrl # WebUI\n",
        "#sc.applicationId # application_xxxxxxxxxx_xxxx\n",
        "\n",
        "\n",
        "#sc: SparkContext\n",
        "  #1. play with RDD.\n",
        "  #2. It comes from the Spark-Core\n",
        "  #3. One only per application\n",
        "#spark: SparkSession\n",
        "  #1. play with DataFrame. \n",
        "  #2. It comes from the Spark-SQL.\n",
        "  #3. It merges SQLContext and HiveContext into one object.\n",
        "  #4. We can have multiple spark session objects in single application\n",
        "  #5. It allows us to access the SparkContext\n"
      ],
      "execution_count": 2,
      "outputs": []
    },
    {
      "cell_type": "markdown",
      "metadata": {
        "id": "RwtAMd19usN4"
      },
      "source": [
        "### RDD"
      ]
    },
    {
      "cell_type": "code",
      "metadata": {
        "colab": {
          "base_uri": "https://localhost:8080/"
        },
        "id": "c_37d7reah0a",
        "outputId": "b1892f00-d470-43b6-eb06-8c645c3de6af"
      },
      "source": [
        "# A RDD is a collection of object of any type. It's schemaless.\n",
        "# There are three way we can create a RDD. 1. Using the parallelize method 2. Reading a file 3. From the another RDD\n",
        "# Read a file and create a RDD - RDD Started in Spark 1.x\n",
        "collection_rdd = sc.textFile(\"sample_data/anscombe.json\")\n",
        "#collection_rdd = sc.textFile(\"sample_data/*.json\") # multiple files\n",
        "\n",
        "# collection_rdd # sample_data/anscombe.json MapPartitionsRDD[260] at textFile at NativeMethodAccessorImpl.java:0\n",
        "collection_rdd.setName(\"anscombe_rdd\") # The Spark gives a internal name but we can specify the way we want. Even it helps in the SparkUI to identify specific RDD.\n",
        "collection_rdd"
      ],
      "execution_count": 3,
      "outputs": [
        {
          "output_type": "execute_result",
          "data": {
            "text/plain": [
              "anscombe_rdd MapPartitionsRDD[1] at textFile at NativeMethodAccessorImpl.java:0"
            ]
          },
          "metadata": {
            "tags": []
          },
          "execution_count": 3
        }
      ]
    },
    {
      "cell_type": "code",
      "metadata": {
        "id": "yUEvTm7itzMO"
      },
      "source": [
        "#collection_rdd.count() #49\n",
        "#collection_rdd.take(5) # top 5 entities"
      ],
      "execution_count": 4,
      "outputs": []
    },
    {
      "cell_type": "code",
      "metadata": {
        "colab": {
          "base_uri": "https://localhost:8080/"
        },
        "id": "_d_B3TMMbZ3M",
        "outputId": "77c4a6e7-9092-4f72-c536-42f2d57a47f2"
      },
      "source": [
        "collection_rdd.collect() # this is like a collection"
      ],
      "execution_count": 5,
      "outputs": [
        {
          "output_type": "execute_result",
          "data": {
            "text/plain": [
              "['[',\n",
              " '  {\"Series\":\"I\", \"X\":10.0, \"Y\":8.04},',\n",
              " '  {\"Series\":\"I\", \"X\":8.0, \"Y\":6.95},',\n",
              " '  {\"Series\":\"I\", \"X\":13.0, \"Y\":7.58},',\n",
              " '  {\"Series\":\"I\", \"X\":9.0, \"Y\":8.81},',\n",
              " '  {\"Series\":\"I\", \"X\":11.0, \"Y\":8.33},',\n",
              " '  {\"Series\":\"I\", \"X\":14.0, \"Y\":9.96},',\n",
              " '  {\"Series\":\"I\", \"X\":6.0, \"Y\":7.24},',\n",
              " '  {\"Series\":\"I\", \"X\":4.0, \"Y\":4.26},',\n",
              " '  {\"Series\":\"I\", \"X\":12.0, \"Y\":10.84},',\n",
              " '  {\"Series\":\"I\", \"X\":7.0, \"Y\":4.81},',\n",
              " '  {\"Series\":\"I\", \"X\":5.0, \"Y\":5.68},',\n",
              " '',\n",
              " '  {\"Series\":\"II\", \"X\":10.0, \"Y\":9.14},',\n",
              " '  {\"Series\":\"II\", \"X\":8.0, \"Y\":8.14},',\n",
              " '  {\"Series\":\"II\", \"X\":13.0, \"Y\":8.74},',\n",
              " '  {\"Series\":\"II\", \"X\":9.0, \"Y\":8.77},',\n",
              " '  {\"Series\":\"II\", \"X\":11.0, \"Y\":9.26},',\n",
              " '  {\"Series\":\"II\", \"X\":14.0, \"Y\":8.10},',\n",
              " '  {\"Series\":\"II\", \"X\":6.0, \"Y\":6.13},',\n",
              " '  {\"Series\":\"II\", \"X\":4.0, \"Y\":3.10},',\n",
              " '  {\"Series\":\"II\", \"X\":12.0, \"Y\":9.13},',\n",
              " '  {\"Series\":\"II\", \"X\":7.0, \"Y\":7.26},',\n",
              " '  {\"Series\":\"II\", \"X\":5.0, \"Y\":4.74},',\n",
              " '',\n",
              " '  {\"Series\":\"III\", \"X\":10.0, \"Y\":7.46},',\n",
              " '  {\"Series\":\"III\", \"X\":8.0, \"Y\":6.77},',\n",
              " '  {\"Series\":\"III\", \"X\":13.0, \"Y\":12.74},',\n",
              " '  {\"Series\":\"III\", \"X\":9.0, \"Y\":7.11},',\n",
              " '  {\"Series\":\"III\", \"X\":11.0, \"Y\":7.81},',\n",
              " '  {\"Series\":\"III\", \"X\":14.0, \"Y\":8.84},',\n",
              " '  {\"Series\":\"III\", \"X\":6.0, \"Y\":6.08},',\n",
              " '  {\"Series\":\"III\", \"X\":4.0, \"Y\":5.39},',\n",
              " '  {\"Series\":\"III\", \"X\":12.0, \"Y\":8.15},',\n",
              " '  {\"Series\":\"III\", \"X\":7.0, \"Y\":6.42},',\n",
              " '  {\"Series\":\"III\", \"X\":5.0, \"Y\":5.73},',\n",
              " '',\n",
              " '  {\"Series\":\"IV\", \"X\":8.0, \"Y\":6.58},',\n",
              " '  {\"Series\":\"IV\", \"X\":8.0, \"Y\":5.76},',\n",
              " '  {\"Series\":\"IV\", \"X\":8.0, \"Y\":7.71},',\n",
              " '  {\"Series\":\"IV\", \"X\":8.0, \"Y\":8.84},',\n",
              " '  {\"Series\":\"IV\", \"X\":8.0, \"Y\":8.47},',\n",
              " '  {\"Series\":\"IV\", \"X\":8.0, \"Y\":7.04},',\n",
              " '  {\"Series\":\"IV\", \"X\":8.0, \"Y\":5.25},',\n",
              " '  {\"Series\":\"IV\", \"X\":19.0, \"Y\":12.50},',\n",
              " '  {\"Series\":\"IV\", \"X\":8.0, \"Y\":5.56},',\n",
              " '  {\"Series\":\"IV\", \"X\":8.0, \"Y\":7.91},',\n",
              " '  {\"Series\":\"IV\", \"X\":8.0, \"Y\":6.89}',\n",
              " ']']"
            ]
          },
          "metadata": {
            "tags": []
          },
          "execution_count": 5
        }
      ]
    },
    {
      "cell_type": "markdown",
      "metadata": {
        "id": "YQVAnEWsuvX2"
      },
      "source": [
        "### DataFrame"
      ]
    },
    {
      "cell_type": "code",
      "metadata": {
        "colab": {
          "base_uri": "https://localhost:8080/"
        },
        "id": "DsOowOUJak8W",
        "outputId": "fe3a983e-43f1-43e2-e037-5a29b692f33a"
      },
      "source": [
        "# Read a file and create a DataFrame - DataFrame Started in Spark 2.x but on top of the RDD.\n",
        "# Note: The loading(spark.read.json) the file into the dataframe is not lazy-loading like other transformation.\n",
        "# But the RDD has lazy-loading. The dataframe inferes the schema so it needs to have eager loading.\n",
        "json_df = spark.read.json('sample_data/anscombe.json') # first row is always a columns row.\n",
        "json_df"
      ],
      "execution_count": 6,
      "outputs": [
        {
          "output_type": "execute_result",
          "data": {
            "text/plain": [
              "DataFrame[Series: string, X: double, Y: double, _corrupt_record: string]"
            ]
          },
          "metadata": {
            "tags": []
          },
          "execution_count": 6
        }
      ]
    },
    {
      "cell_type": "code",
      "metadata": {
        "colab": {
          "base_uri": "https://localhost:8080/"
        },
        "id": "PkNpX4Uxbpyc",
        "outputId": "23cdefad-2a91-4853-9f06-3ca7430e33ce"
      },
      "source": [
        "json_df.printSchema()"
      ],
      "execution_count": 7,
      "outputs": [
        {
          "output_type": "stream",
          "text": [
            "root\n",
            " |-- Series: string (nullable = true)\n",
            " |-- X: double (nullable = true)\n",
            " |-- Y: double (nullable = true)\n",
            " |-- _corrupt_record: string (nullable = true)\n",
            "\n"
          ],
          "name": "stdout"
        }
      ]
    },
    {
      "cell_type": "code",
      "metadata": {
        "colab": {
          "base_uri": "https://localhost:8080/"
        },
        "id": "Sa0oFO4hbf1e",
        "outputId": "673086da-c2ca-4aaa-b9e3-ac8472ffe99b"
      },
      "source": [
        "json_df.collect()"
      ],
      "execution_count": 8,
      "outputs": [
        {
          "output_type": "execute_result",
          "data": {
            "text/plain": [
              "[Row(Series=None, X=None, Y=None, _corrupt_record='['),\n",
              " Row(Series='I', X=10.0, Y=8.04, _corrupt_record=None),\n",
              " Row(Series='I', X=8.0, Y=6.95, _corrupt_record=None),\n",
              " Row(Series='I', X=13.0, Y=7.58, _corrupt_record=None),\n",
              " Row(Series='I', X=9.0, Y=8.81, _corrupt_record=None),\n",
              " Row(Series='I', X=11.0, Y=8.33, _corrupt_record=None),\n",
              " Row(Series='I', X=14.0, Y=9.96, _corrupt_record=None),\n",
              " Row(Series='I', X=6.0, Y=7.24, _corrupt_record=None),\n",
              " Row(Series='I', X=4.0, Y=4.26, _corrupt_record=None),\n",
              " Row(Series='I', X=12.0, Y=10.84, _corrupt_record=None),\n",
              " Row(Series='I', X=7.0, Y=4.81, _corrupt_record=None),\n",
              " Row(Series='I', X=5.0, Y=5.68, _corrupt_record=None),\n",
              " Row(Series='II', X=10.0, Y=9.14, _corrupt_record=None),\n",
              " Row(Series='II', X=8.0, Y=8.14, _corrupt_record=None),\n",
              " Row(Series='II', X=13.0, Y=8.74, _corrupt_record=None),\n",
              " Row(Series='II', X=9.0, Y=8.77, _corrupt_record=None),\n",
              " Row(Series='II', X=11.0, Y=9.26, _corrupt_record=None),\n",
              " Row(Series='II', X=14.0, Y=8.1, _corrupt_record=None),\n",
              " Row(Series='II', X=6.0, Y=6.13, _corrupt_record=None),\n",
              " Row(Series='II', X=4.0, Y=3.1, _corrupt_record=None),\n",
              " Row(Series='II', X=12.0, Y=9.13, _corrupt_record=None),\n",
              " Row(Series='II', X=7.0, Y=7.26, _corrupt_record=None),\n",
              " Row(Series='II', X=5.0, Y=4.74, _corrupt_record=None),\n",
              " Row(Series='III', X=10.0, Y=7.46, _corrupt_record=None),\n",
              " Row(Series='III', X=8.0, Y=6.77, _corrupt_record=None),\n",
              " Row(Series='III', X=13.0, Y=12.74, _corrupt_record=None),\n",
              " Row(Series='III', X=9.0, Y=7.11, _corrupt_record=None),\n",
              " Row(Series='III', X=11.0, Y=7.81, _corrupt_record=None),\n",
              " Row(Series='III', X=14.0, Y=8.84, _corrupt_record=None),\n",
              " Row(Series='III', X=6.0, Y=6.08, _corrupt_record=None),\n",
              " Row(Series='III', X=4.0, Y=5.39, _corrupt_record=None),\n",
              " Row(Series='III', X=12.0, Y=8.15, _corrupt_record=None),\n",
              " Row(Series='III', X=7.0, Y=6.42, _corrupt_record=None),\n",
              " Row(Series='III', X=5.0, Y=5.73, _corrupt_record=None),\n",
              " Row(Series='IV', X=8.0, Y=6.58, _corrupt_record=None),\n",
              " Row(Series='IV', X=8.0, Y=5.76, _corrupt_record=None),\n",
              " Row(Series='IV', X=8.0, Y=7.71, _corrupt_record=None),\n",
              " Row(Series='IV', X=8.0, Y=8.84, _corrupt_record=None),\n",
              " Row(Series='IV', X=8.0, Y=8.47, _corrupt_record=None),\n",
              " Row(Series='IV', X=8.0, Y=7.04, _corrupt_record=None),\n",
              " Row(Series='IV', X=8.0, Y=5.25, _corrupt_record=None),\n",
              " Row(Series='IV', X=19.0, Y=12.5, _corrupt_record=None),\n",
              " Row(Series='IV', X=8.0, Y=5.56, _corrupt_record=None),\n",
              " Row(Series='IV', X=8.0, Y=7.91, _corrupt_record=None),\n",
              " Row(Series='IV', X=8.0, Y=6.89, _corrupt_record=None),\n",
              " Row(Series=None, X=None, Y=None, _corrupt_record=']')]"
            ]
          },
          "metadata": {
            "tags": []
          },
          "execution_count": 8
        }
      ]
    },
    {
      "cell_type": "markdown",
      "metadata": {
        "id": "4vpVtYVAu5PE"
      },
      "source": [
        "### RDD to DataFrame and vice versa"
      ]
    },
    {
      "cell_type": "code",
      "metadata": {
        "id": "VkY73YXpu8BO"
      },
      "source": [
        "generic_data_rdd = sc.parallelize([1, 'Alice', 50, 'Bob', 'Canton']) # RDD collection supports different type of items even in a nested colletion.\n",
        "#generic_data_rdd.toDF() # It does not work because it contains object with differnt types."
      ],
      "execution_count": 9,
      "outputs": []
    },
    {
      "cell_type": "code",
      "metadata": {
        "id": "ezAapIlKwzMi",
        "colab": {
          "base_uri": "https://localhost:8080/"
        },
        "outputId": "1890b655-d527-45b7-b54c-92195cdb6297"
      },
      "source": [
        "people_list = [('Alice', 25, 1500, 15), ('Bob', 20, 1000, 10), ('Charly', 30, 2000, 20), ('Don', 15, 500, 5), ('Eric', 20, 1500, 15)]\n",
        "people_rdd_pair = sc.parallelize(people_list) # create a RDD but with Tuple/Pair objects\n",
        "#people_rdd_pair # ParallelCollectionRDD[2] at readRDDFromFile\n",
        "\n",
        "people_rdd_pair.collect()"
      ],
      "execution_count": 10,
      "outputs": [
        {
          "output_type": "execute_result",
          "data": {
            "text/plain": [
              "[('Alice', 25, 1500, 15),\n",
              " ('Bob', 20, 1000, 10),\n",
              " ('Charly', 30, 2000, 20),\n",
              " ('Don', 15, 500, 5),\n",
              " ('Eric', 20, 1500, 15)]"
            ]
          },
          "metadata": {
            "tags": []
          },
          "execution_count": 10
        }
      ]
    },
    {
      "cell_type": "code",
      "metadata": {
        "id": "-G26PuH0xzoj",
        "colab": {
          "base_uri": "https://localhost:8080/"
        },
        "outputId": "33b6efe3-baac-47c0-e014-de08cd66503b"
      },
      "source": [
        "people_df = people_rdd_pair.toDF() # Column names have been automatically generated and assigned. It infers data types too.\n",
        "#people_df # DataFrame[_1: string, _2: bigint]\n",
        "people_df.collect() # shows data with its class"
      ],
      "execution_count": 11,
      "outputs": [
        {
          "output_type": "execute_result",
          "data": {
            "text/plain": [
              "[Row(_1='Alice', _2=25, _3=1500, _4=15),\n",
              " Row(_1='Bob', _2=20, _3=1000, _4=10),\n",
              " Row(_1='Charly', _2=30, _3=2000, _4=20),\n",
              " Row(_1='Don', _2=15, _3=500, _4=5),\n",
              " Row(_1='Eric', _2=20, _3=1500, _4=15)]"
            ]
          },
          "metadata": {
            "tags": []
          },
          "execution_count": 11
        }
      ]
    },
    {
      "cell_type": "code",
      "metadata": {
        "id": "dyTXqJ63zQmI",
        "colab": {
          "base_uri": "https://localhost:8080/"
        },
        "outputId": "0b8f5e54-a1eb-4532-8552-40884001ddfc"
      },
      "source": [
        "people_df.show() # shows in tabular format"
      ],
      "execution_count": 12,
      "outputs": [
        {
          "output_type": "stream",
          "text": [
            "+------+---+----+---+\n",
            "|    _1| _2|  _3| _4|\n",
            "+------+---+----+---+\n",
            "| Alice| 25|1500| 15|\n",
            "|   Bob| 20|1000| 10|\n",
            "|Charly| 30|2000| 20|\n",
            "|   Don| 15| 500|  5|\n",
            "|  Eric| 20|1500| 15|\n",
            "+------+---+----+---+\n",
            "\n"
          ],
          "name": "stdout"
        }
      ]
    },
    {
      "cell_type": "code",
      "metadata": {
        "id": "XrXYm9SLyXup",
        "colab": {
          "base_uri": "https://localhost:8080/"
        },
        "outputId": "aa495fd1-7ed6-4cfd-e1df-e5b7e7be14c7"
      },
      "source": [
        "from pyspark import Row\n",
        "# There are two way to get custom column names.\n",
        "# 1. Create the row class object while creating a RDD\n",
        "data_rdd_row = sc.parallelize([Row(name='Alice', age=50), \n",
        "                               Row(name='Bob', age=20)])\n",
        "data_rdd_row.collect() # [Row(name='Alice', age=50), Row(name='Bob', age=20)]"
      ],
      "execution_count": 13,
      "outputs": [
        {
          "output_type": "execute_result",
          "data": {
            "text/plain": [
              "[Row(name='Alice', age=50), Row(name='Bob', age=20)]"
            ]
          },
          "metadata": {
            "tags": []
          },
          "execution_count": 13
        }
      ]
    },
    {
      "cell_type": "code",
      "metadata": {
        "id": "4E_xlfUK1fDn",
        "colab": {
          "base_uri": "https://localhost:8080/"
        },
        "outputId": "a74c7a7e-06b6-483f-8207-a2c45d37d9ee"
      },
      "source": [
        "# 2. Transform existing RDD to new RDD\n",
        "people_rdd_row = people_rdd_pair.map(lambda x: \n",
        "                                      Row(\n",
        "                                          name=x[0], \n",
        "                                          age=int(x[1]), \n",
        "                                          salary=int(x[2]),\n",
        "                                          tax=int(x[3])\n",
        "                                          )\n",
        "                                     ) # create a RDD with Row objects\n",
        "people_rdd_row # PythonRDD[63] at RDD\n",
        "people_rdd_row.collect()"
      ],
      "execution_count": 14,
      "outputs": [
        {
          "output_type": "execute_result",
          "data": {
            "text/plain": [
              "[Row(name='Alice', age=25, salary=1500, tax=15),\n",
              " Row(name='Bob', age=20, salary=1000, tax=10),\n",
              " Row(name='Charly', age=30, salary=2000, tax=20),\n",
              " Row(name='Don', age=15, salary=500, tax=5),\n",
              " Row(name='Eric', age=20, salary=1500, tax=15)]"
            ]
          },
          "metadata": {
            "tags": []
          },
          "execution_count": 14
        }
      ]
    },
    {
      "cell_type": "code",
      "metadata": {
        "id": "9ZpnYejtx8Ly",
        "colab": {
          "base_uri": "https://localhost:8080/"
        },
        "outputId": "3e4a051d-6dbd-4f15-fdf0-0e4005d307b4"
      },
      "source": [
        "data_rdd_row.toDF().show()\n",
        "people_rdd_row.toDF().show()"
      ],
      "execution_count": 15,
      "outputs": [
        {
          "output_type": "stream",
          "text": [
            "+-----+---+\n",
            "| name|age|\n",
            "+-----+---+\n",
            "|Alice| 50|\n",
            "|  Bob| 20|\n",
            "+-----+---+\n",
            "\n",
            "+------+---+------+---+\n",
            "|  name|age|salary|tax|\n",
            "+------+---+------+---+\n",
            "| Alice| 25|  1500| 15|\n",
            "|   Bob| 20|  1000| 10|\n",
            "|Charly| 30|  2000| 20|\n",
            "|   Don| 15|   500|  5|\n",
            "|  Eric| 20|  1500| 15|\n",
            "+------+---+------+---+\n",
            "\n"
          ],
          "name": "stdout"
        }
      ]
    },
    {
      "cell_type": "code",
      "metadata": {
        "id": "mXbgAOjI3hdv",
        "colab": {
          "base_uri": "https://localhost:8080/"
        },
        "outputId": "e36495e3-575d-4b5c-e2f9-c88772401262"
      },
      "source": [
        "people_df.rdd # Every DataFrame contains a RDD and we can get the dataframe's RDD easily."
      ],
      "execution_count": 16,
      "outputs": [
        {
          "output_type": "execute_result",
          "data": {
            "text/plain": [
              "MapPartitionsRDD[39] at javaToPython at NativeMethodAccessorImpl.java:0"
            ]
          },
          "metadata": {
            "tags": []
          },
          "execution_count": 16
        }
      ]
    },
    {
      "cell_type": "code",
      "metadata": {
        "id": "QKBZpCu8-lrV",
        "colab": {
          "base_uri": "https://localhost:8080/"
        },
        "outputId": "8bcee761-7004-4271-a6fb-5115b0f1f7cb"
      },
      "source": [
        "people_df = people_rdd_row.toDF()\n",
        "people_df.show()"
      ],
      "execution_count": 17,
      "outputs": [
        {
          "output_type": "stream",
          "text": [
            "+------+---+------+---+\n",
            "|  name|age|salary|tax|\n",
            "+------+---+------+---+\n",
            "| Alice| 25|  1500| 15|\n",
            "|   Bob| 20|  1000| 10|\n",
            "|Charly| 30|  2000| 20|\n",
            "|   Don| 15|   500|  5|\n",
            "|  Eric| 20|  1500| 15|\n",
            "+------+---+------+---+\n",
            "\n"
          ],
          "name": "stdout"
        }
      ]
    },
    {
      "cell_type": "code",
      "metadata": {
        "colab": {
          "base_uri": "https://localhost:8080/"
        },
        "id": "mjqGQ82VerD3",
        "outputId": "747c25a1-f4c4-41a6-e5c2-06b54ce7761c"
      },
      "source": [
        "# Create a dataframe\n",
        "names_df = spark.createDataFrame([(1, 'Jugal'), (2, 'Garvik')])\n",
        "#names_df # DataFrame[_1: bigint, _2: string]\n",
        "\n",
        "#names_df.collect()\n",
        "# [Row(_1=1, _2='Jugal'), Row(_1=2, _2='Garvik')]\n",
        "\n",
        "#names_df.take(1) # only 1 rows\n",
        "# [Row(_1=1, _2='Jugal')]\n",
        "\n",
        "#names_df.show()\n",
        "#+---+------+\n",
        "#| _1|    _2|\n",
        "#+---+------+\n",
        "#|  1| Jugal|\n",
        "#|  2|Garvik|\n",
        "#+---+------+\n",
        "\n",
        "#names_df.limit(1).show()\n",
        "#+---+-----+\n",
        "#| _1|   _2|\n",
        "#+---+-----+\n",
        "#|  1|Jugal|\n",
        "#+---+-----+\n",
        "\n",
        "# Note: _1 and _2 are two column names.\n",
        "\n",
        "#names_with_schema_df = names_df.toDF(\"Id\", \"Name\") # the toDF() is also avaiable with the dataframe to specify the schema.\n",
        "#names_with_schema_df.show()\n",
        "#+---+------+\n",
        "#| Id|  Name|\n",
        "#+---+------+\n",
        "#|  1| Jugal|\n",
        "#|  2|Garvik|\n",
        "#+---+------+\n",
        "\n",
        "#names_df.printSchema()\n",
        "#root\n",
        "# |-- _1: long (nullable = true)\n",
        "# |-- _2: string (nullable = true)\n",
        "\n",
        "#names_with_schema_df.printSchema()\n",
        "#root\n",
        "# |-- Id: long (nullable = true)\n",
        "# |-- Name: string (nullable = true)\n",
        "\n",
        "names_rdd = names_df.rdd\n",
        "names_rdd.collect() # It contains the row objects."
      ],
      "execution_count": 18,
      "outputs": [
        {
          "output_type": "execute_result",
          "data": {
            "text/plain": [
              "[Row(_1=1, _2='Jugal'), Row(_1=2, _2='Garvik')]"
            ]
          },
          "metadata": {
            "tags": []
          },
          "execution_count": 18
        }
      ]
    },
    {
      "cell_type": "markdown",
      "metadata": {
        "id": "Uf63F5uN2NEB"
      },
      "source": [
        "### Transformation on DataFrame\n",
        "####FlatMap, Map, ReduceByKey"
      ]
    },
    {
      "cell_type": "code",
      "metadata": {
        "id": "hymbpY6m2hh1",
        "colab": {
          "base_uri": "https://localhost:8080/"
        },
        "outputId": "b90638ad-7191-46f2-b344-e384b4533e75"
      },
      "source": [
        "# combining - within partition\n",
        "# merging - across partition\n",
        "\n",
        "# map operation on RDD\n",
        "people_rdd = people_df.rdd.map(lambda x: (x.age, x.age + 5))\n",
        "#people_rdd # PythonRDD[78] at RDD\n",
        "people_rdd.collect()"
      ],
      "execution_count": 19,
      "outputs": [
        {
          "output_type": "execute_result",
          "data": {
            "text/plain": [
              "[(25, 30), (20, 25), (30, 35), (15, 20), (20, 25)]"
            ]
          },
          "metadata": {
            "tags": []
          },
          "execution_count": 19
        }
      ]
    },
    {
      "cell_type": "code",
      "metadata": {
        "id": "B07N6Uvi5N6B",
        "colab": {
          "base_uri": "https://localhost:8080/"
        },
        "outputId": "ae8329a5-8617-4389-dfc5-d41b0792962a"
      },
      "source": [
        "# Map: the map operation performs a transformation on every element in the RDD. \n",
        "# Similar kind of method is not available for the DataFrame, \n",
        "# so we compute and assign computed value in new column within the DataFrame. \n",
        "\n",
        "people_df_new_age = people_df.select('name', 'age').withColumn('new_age', people_df.age + 10) # we can type people_df.age to mention column name.\n",
        "people_df_new_age.show()\n",
        "\n",
        "people_df_new_age = people_df_new_age.withColumnRenamed('new_age', 'after_ten_years')\n",
        "people_df_new_age = people_df_new_age.drop('age')\n",
        "people_df_new_age.show()"
      ],
      "execution_count": 20,
      "outputs": [
        {
          "output_type": "stream",
          "text": [
            "+------+---+-------+\n",
            "|  name|age|new_age|\n",
            "+------+---+-------+\n",
            "| Alice| 25|     35|\n",
            "|   Bob| 20|     30|\n",
            "|Charly| 30|     40|\n",
            "|   Don| 15|     25|\n",
            "|  Eric| 20|     30|\n",
            "+------+---+-------+\n",
            "\n",
            "+------+---------------+\n",
            "|  name|after_ten_years|\n",
            "+------+---------------+\n",
            "| Alice|             35|\n",
            "|   Bob|             30|\n",
            "|Charly|             40|\n",
            "|   Don|             25|\n",
            "|  Eric|             30|\n",
            "+------+---------------+\n",
            "\n"
          ],
          "name": "stdout"
        }
      ]
    },
    {
      "cell_type": "code",
      "metadata": {
        "id": "kEfggXez5GNz",
        "colab": {
          "base_uri": "https://localhost:8080/"
        },
        "outputId": "0138fce9-5375-4211-fac0-b3e5596f01d4"
      },
      "source": [
        "people_df.first()"
      ],
      "execution_count": 21,
      "outputs": [
        {
          "output_type": "execute_result",
          "data": {
            "text/plain": [
              "Row(name='Alice', age=25, salary=1500, tax=15)"
            ]
          },
          "metadata": {
            "tags": []
          },
          "execution_count": 21
        }
      ]
    },
    {
      "cell_type": "code",
      "metadata": {
        "id": "ecH5aObO2hqE",
        "colab": {
          "base_uri": "https://localhost:8080/"
        },
        "outputId": "3db30e54-8492-4e1c-e260-572a9dee178a"
      },
      "source": [
        "people_df.take(2)"
      ],
      "execution_count": 22,
      "outputs": [
        {
          "output_type": "execute_result",
          "data": {
            "text/plain": [
              "[Row(name='Alice', age=25, salary=1500, tax=15),\n",
              " Row(name='Bob', age=20, salary=1000, tax=10)]"
            ]
          },
          "metadata": {
            "tags": []
          },
          "execution_count": 22
        }
      ]
    },
    {
      "cell_type": "code",
      "metadata": {
        "id": "61qXp_Ja2uZM",
        "colab": {
          "base_uri": "https://localhost:8080/",
          "height": 35
        },
        "outputId": "39c4ddb7-502e-4143-e97b-b38cae9dfdee"
      },
      "source": [
        "people_df.collect()[1][0] # It is a tabular format so can access specific cell.\n",
        "# It always creates a clone then return so if the cell has any class type and we modify then it won't change in the dataframe."
      ],
      "execution_count": 23,
      "outputs": [
        {
          "output_type": "execute_result",
          "data": {
            "application/vnd.google.colaboratory.intrinsic+json": {
              "type": "string"
            },
            "text/plain": [
              "'Bob'"
            ]
          },
          "metadata": {
            "tags": []
          },
          "execution_count": 23
        }
      ]
    },
    {
      "cell_type": "code",
      "metadata": {
        "colab": {
          "base_uri": "https://localhost:8080/"
        },
        "id": "s4W9Y2c3_Maq",
        "outputId": "e44622fa-7380-4077-bb78-daf43ed76d65"
      },
      "source": [
        "\"\"\"\n",
        "Text in the datasets/simple_titles.txt:\n",
        "How can I use DataFrames in 2.0\n",
        "What is an RDD and Schema RDD\n",
        "How do I group by a field\n",
        "Can I use Hive from HUE\n",
        "\"\"\"\n",
        "\n",
        "# read lines\n",
        "lines_rdd = sc.textFile(\"datasets/simple_titles.txt\")\n",
        "print('lines', lines_rdd.collect())\n",
        "\n",
        "# flat all words\n",
        "words_rdd = lines_rdd.flatMap(lambda line: line.split(' '))\n",
        "print('words', words_rdd.collect())\n",
        "\n",
        "# map each word with 1 value\n",
        "word_and_count_rdd = words_rdd.map(lambda x: (x,1))\n",
        "print('word_for_count', word_and_count_rdd.collect())\n",
        "\n",
        "# count each word by key\n",
        "word_with_count_rdd = word_and_count_rdd.reduceByKey(lambda x,y: x + y)\n",
        "print('word_with_count_rdd', word_with_count_rdd.collect())"
      ],
      "execution_count": 26,
      "outputs": [
        {
          "output_type": "stream",
          "text": [
            "lines ['How can I use DataFrames in 2.0', 'What is an RDD and Schema RDD', 'How do I group by a field', 'Can I use Hive from HUE']\n",
            "words ['How', 'can', 'I', 'use', 'DataFrames', 'in', '2.0', 'What', 'is', 'an', 'RDD', 'and', 'Schema', 'RDD', 'How', 'do', 'I', 'group', 'by', 'a', 'field', 'Can', 'I', 'use', 'Hive', 'from', 'HUE']\n",
            "word_for_count [('How', 1), ('can', 1), ('I', 1), ('use', 1), ('DataFrames', 1), ('in', 1), ('2.0', 1), ('What', 1), ('is', 1), ('an', 1), ('RDD', 1), ('and', 1), ('Schema', 1), ('RDD', 1), ('How', 1), ('do', 1), ('I', 1), ('group', 1), ('by', 1), ('a', 1), ('field', 1), ('Can', 1), ('I', 1), ('use', 1), ('Hive', 1), ('from', 1), ('HUE', 1)]\n",
            "word_with_count_rdd [('use', 2), ('DataFrames', 1), ('in', 1), ('2.0', 1), ('What', 1), ('is', 1), ('an', 1), ('do', 1), ('group', 1), ('field', 1), ('Hive', 1), ('How', 2), ('can', 1), ('I', 3), ('RDD', 2), ('and', 1), ('Schema', 1), ('by', 1), ('a', 1), ('Can', 1), ('from', 1), ('HUE', 1)]\n"
          ],
          "name": "stdout"
        }
      ]
    },
    {
      "cell_type": "code",
      "metadata": {
        "id": "3_-2qtG4g6x7",
        "colab": {
          "base_uri": "https://localhost:8080/"
        },
        "outputId": "491ad499-a8a2-4840-a916-98e8d623d271"
      },
      "source": [
        "dir(people_df) # check all the methods which can be used with the RDD."
      ],
      "execution_count": 27,
      "outputs": [
        {
          "output_type": "execute_result",
          "data": {
            "text/plain": [
              "['__class__',\n",
              " '__delattr__',\n",
              " '__dict__',\n",
              " '__dir__',\n",
              " '__doc__',\n",
              " '__eq__',\n",
              " '__format__',\n",
              " '__ge__',\n",
              " '__getattr__',\n",
              " '__getattribute__',\n",
              " '__getitem__',\n",
              " '__gt__',\n",
              " '__hash__',\n",
              " '__init__',\n",
              " '__init_subclass__',\n",
              " '__le__',\n",
              " '__lt__',\n",
              " '__module__',\n",
              " '__ne__',\n",
              " '__new__',\n",
              " '__reduce__',\n",
              " '__reduce_ex__',\n",
              " '__repr__',\n",
              " '__setattr__',\n",
              " '__sizeof__',\n",
              " '__str__',\n",
              " '__subclasshook__',\n",
              " '__weakref__',\n",
              " '_collect_as_arrow',\n",
              " '_jcols',\n",
              " '_jdf',\n",
              " '_jmap',\n",
              " '_jseq',\n",
              " '_lazy_rdd',\n",
              " '_repr_html_',\n",
              " '_sc',\n",
              " '_schema',\n",
              " '_sort_cols',\n",
              " '_support_repr_html',\n",
              " '_to_corrected_pandas_type',\n",
              " 'agg',\n",
              " 'alias',\n",
              " 'approxQuantile',\n",
              " 'cache',\n",
              " 'checkpoint',\n",
              " 'coalesce',\n",
              " 'colRegex',\n",
              " 'collect',\n",
              " 'columns',\n",
              " 'corr',\n",
              " 'count',\n",
              " 'cov',\n",
              " 'createGlobalTempView',\n",
              " 'createOrReplaceGlobalTempView',\n",
              " 'createOrReplaceTempView',\n",
              " 'createTempView',\n",
              " 'crossJoin',\n",
              " 'crosstab',\n",
              " 'cube',\n",
              " 'describe',\n",
              " 'distinct',\n",
              " 'drop',\n",
              " 'dropDuplicates',\n",
              " 'drop_duplicates',\n",
              " 'dropna',\n",
              " 'dtypes',\n",
              " 'exceptAll',\n",
              " 'explain',\n",
              " 'fillna',\n",
              " 'filter',\n",
              " 'first',\n",
              " 'foreach',\n",
              " 'foreachPartition',\n",
              " 'freqItems',\n",
              " 'groupBy',\n",
              " 'groupby',\n",
              " 'head',\n",
              " 'hint',\n",
              " 'inputFiles',\n",
              " 'intersect',\n",
              " 'intersectAll',\n",
              " 'isLocal',\n",
              " 'isStreaming',\n",
              " 'is_cached',\n",
              " 'join',\n",
              " 'limit',\n",
              " 'localCheckpoint',\n",
              " 'mapInPandas',\n",
              " 'na',\n",
              " 'orderBy',\n",
              " 'persist',\n",
              " 'printSchema',\n",
              " 'randomSplit',\n",
              " 'rdd',\n",
              " 'registerTempTable',\n",
              " 'repartition',\n",
              " 'repartitionByRange',\n",
              " 'replace',\n",
              " 'rollup',\n",
              " 'sameSemantics',\n",
              " 'sample',\n",
              " 'sampleBy',\n",
              " 'schema',\n",
              " 'select',\n",
              " 'selectExpr',\n",
              " 'semanticHash',\n",
              " 'show',\n",
              " 'sort',\n",
              " 'sortWithinPartitions',\n",
              " 'sql_ctx',\n",
              " 'stat',\n",
              " 'storageLevel',\n",
              " 'subtract',\n",
              " 'summary',\n",
              " 'tail',\n",
              " 'take',\n",
              " 'toDF',\n",
              " 'toJSON',\n",
              " 'toLocalIterator',\n",
              " 'toPandas',\n",
              " 'transform',\n",
              " 'union',\n",
              " 'unionAll',\n",
              " 'unionByName',\n",
              " 'unpersist',\n",
              " 'where',\n",
              " 'withColumn',\n",
              " 'withColumnRenamed',\n",
              " 'withWatermark',\n",
              " 'write',\n",
              " 'writeStream',\n",
              " 'writeTo']"
            ]
          },
          "metadata": {
            "tags": []
          },
          "execution_count": 27
        }
      ]
    },
    {
      "cell_type": "code",
      "metadata": {
        "id": "A_jOgc3Bi5ez",
        "colab": {
          "base_uri": "https://localhost:8080/"
        },
        "outputId": "cb76816b-847e-4afd-f71d-86168a928156"
      },
      "source": [
        "#help(people_df) # even better with example but it gives details about all the methods.\n",
        "help(people_df.collect) # for specific method"
      ],
      "execution_count": 28,
      "outputs": [
        {
          "output_type": "stream",
          "text": [
            "Help on method collect in module pyspark.sql.dataframe:\n",
            "\n",
            "collect() method of pyspark.sql.dataframe.DataFrame instance\n",
            "    Returns all the records as a list of :class:`Row`.\n",
            "    \n",
            "    .. versionadded:: 1.3.0\n",
            "    \n",
            "    Examples\n",
            "    --------\n",
            "    >>> df.collect()\n",
            "    [Row(age=2, name='Alice'), Row(age=5, name='Bob')]\n",
            "\n"
          ],
          "name": "stdout"
        }
      ]
    },
    {
      "cell_type": "markdown",
      "metadata": {
        "id": "PsTXb38aLxI6"
      },
      "source": [
        "### Filter, Select, When\n",
        "\n",
        "#### The where is the Filter alias."
      ]
    },
    {
      "cell_type": "code",
      "metadata": {
        "id": "-STLJOgsMj5M",
        "colab": {
          "base_uri": "https://localhost:8080/"
        },
        "outputId": "f948cf6d-25ef-4677-d399-a0b1bcc772ba"
      },
      "source": [
        "from pyspark.sql.functions import col, lit, concat\n",
        "from pyspark.sql.functions import when\n",
        "std_df = people_df\n",
        "std_df.show()\n",
        "\n",
        "# 1. Canonical Notation\n",
        "std_df['name']\n",
        "std_df['Name']\n",
        "\n",
        "# 2. Dot(.) Notation\n",
        "std_df.name\n",
        "#std_df.Name #AttributeError: 'DataFrame' object has no attribute 'Name'\n",
        "\n",
        "# 3. Col Notation\n",
        "#std_df[col['name']]\n",
        "\n",
        "# 4. SQL Notation\n",
        "#'name'\n",
        "\n",
        "# Specify a constant with the lit(literal) otherwise it is considered as a column name.\n",
        "std_df.select(std_df['Name'], std_df.name, col('name'), 'name', concat(lit('Std '), col('name')) , std_df.age + 10).show()\n",
        "#std_df.select(col['name']).show()\n",
        "\n",
        "std_df.select('name', when(col('age') > 30, 'Adult').otherwise('Young')).show()"
      ],
      "execution_count": 29,
      "outputs": [
        {
          "output_type": "stream",
          "text": [
            "+------+---+------+---+\n",
            "|  name|age|salary|tax|\n",
            "+------+---+------+---+\n",
            "| Alice| 25|  1500| 15|\n",
            "|   Bob| 20|  1000| 10|\n",
            "|Charly| 30|  2000| 20|\n",
            "|   Don| 15|   500|  5|\n",
            "|  Eric| 20|  1500| 15|\n",
            "+------+---+------+---+\n",
            "\n",
            "+------+------+------+------+------------------+----------+\n",
            "|  Name|  name|  name|  name|concat(Std , name)|(age + 10)|\n",
            "+------+------+------+------+------------------+----------+\n",
            "| Alice| Alice| Alice| Alice|         Std Alice|        35|\n",
            "|   Bob|   Bob|   Bob|   Bob|           Std Bob|        30|\n",
            "|Charly|Charly|Charly|Charly|        Std Charly|        40|\n",
            "|   Don|   Don|   Don|   Don|           Std Don|        25|\n",
            "|  Eric|  Eric|  Eric|  Eric|          Std Eric|        30|\n",
            "+------+------+------+------+------------------+----------+\n",
            "\n",
            "+------+----------------------------------------------+\n",
            "|  name|CASE WHEN (age > 30) THEN Adult ELSE Young END|\n",
            "+------+----------------------------------------------+\n",
            "| Alice|                                         Young|\n",
            "|   Bob|                                         Young|\n",
            "|Charly|                                         Young|\n",
            "|   Don|                                         Young|\n",
            "|  Eric|                                         Young|\n",
            "+------+----------------------------------------------+\n",
            "\n"
          ],
          "name": "stdout"
        }
      ]
    },
    {
      "cell_type": "code",
      "metadata": {
        "id": "ysMbKLHyhvm7",
        "colab": {
          "base_uri": "https://localhost:8080/"
        },
        "outputId": "39e81e37-5e0d-4ecb-ca3c-bf3943517a5d"
      },
      "source": [
        "from pyspark.sql import functions as F\n",
        "std_df.filter(F.col(\"name\").like(\"%Bob%\")).show() # the name contains Bob."
      ],
      "execution_count": 30,
      "outputs": [
        {
          "output_type": "stream",
          "text": [
            "+----+---+------+---+\n",
            "|name|age|salary|tax|\n",
            "+----+---+------+---+\n",
            "| Bob| 20|  1000| 10|\n",
            "+----+---+------+---+\n",
            "\n"
          ],
          "name": "stdout"
        }
      ]
    },
    {
      "cell_type": "markdown",
      "metadata": {
        "id": "MlUft-WNl1ym"
      },
      "source": [
        "### OrderBy, GroupBy"
      ]
    },
    {
      "cell_type": "code",
      "metadata": {
        "id": "LRmh78Cml2At",
        "colab": {
          "base_uri": "https://localhost:8080/"
        },
        "outputId": "5cb0cc67-f11a-4f9a-abd0-732bf389f125"
      },
      "source": [
        "people_df.orderBy(F.col(\"name\"), ascending=False).show()"
      ],
      "execution_count": 31,
      "outputs": [
        {
          "output_type": "stream",
          "text": [
            "+------+---+------+---+\n",
            "|  name|age|salary|tax|\n",
            "+------+---+------+---+\n",
            "|  Eric| 20|  1500| 15|\n",
            "|   Don| 15|   500|  5|\n",
            "|Charly| 30|  2000| 20|\n",
            "|   Bob| 20|  1000| 10|\n",
            "| Alice| 25|  1500| 15|\n",
            "+------+---+------+---+\n",
            "\n"
          ],
          "name": "stdout"
        }
      ]
    },
    {
      "cell_type": "code",
      "metadata": {
        "id": "TqhrN8V6oFSM",
        "colab": {
          "base_uri": "https://localhost:8080/"
        },
        "outputId": "5ac7e1d3-a86c-46bf-b04e-d6a298ad3e13"
      },
      "source": [
        "people_df.groupBy(\"age\").count().show() # age count\n",
        "people_df.groupBy(\"age\").max(\"salary\").show() # max salary of each age\n",
        "\n",
        "# Multiple aggregation functions\n",
        "people_df.groupBy(\"age\")\\\n",
        "        .agg(\n",
        "            F.min(\"salary\"),\n",
        "            F.max(\"salary\"),\n",
        "            F.avg(\"salary\"),\n",
        "            F.sum(\"salary\"),\n",
        "            F.sum(\"tax\")\n",
        "            )\\\n",
        "        .show()"
      ],
      "execution_count": 32,
      "outputs": [
        {
          "output_type": "stream",
          "text": [
            "+---+-----+\n",
            "|age|count|\n",
            "+---+-----+\n",
            "| 25|    1|\n",
            "| 15|    1|\n",
            "| 30|    1|\n",
            "| 20|    2|\n",
            "+---+-----+\n",
            "\n",
            "+---+-----------+\n",
            "|age|max(salary)|\n",
            "+---+-----------+\n",
            "| 25|       1500|\n",
            "| 15|        500|\n",
            "| 30|       2000|\n",
            "| 20|       1500|\n",
            "+---+-----------+\n",
            "\n",
            "+---+-----------+-----------+-----------+-----------+--------+\n",
            "|age|min(salary)|max(salary)|avg(salary)|sum(salary)|sum(tax)|\n",
            "+---+-----------+-----------+-----------+-----------+--------+\n",
            "| 25|       1500|       1500|     1500.0|       1500|      15|\n",
            "| 15|        500|        500|      500.0|        500|       5|\n",
            "| 30|       2000|       2000|     2000.0|       2000|      20|\n",
            "| 20|       1000|       1500|     1250.0|       2500|      25|\n",
            "+---+-----------+-----------+-----------+-----------+--------+\n",
            "\n"
          ],
          "name": "stdout"
        }
      ]
    },
    {
      "cell_type": "markdown",
      "metadata": {
        "id": "juSAc5ZbPxlo"
      },
      "source": [
        "###null"
      ]
    },
    {
      "cell_type": "code",
      "metadata": {
        "id": "lc9Pf-5PP711",
        "colab": {
          "base_uri": "https://localhost:8080/"
        },
        "outputId": "1384e3de-ad1c-4459-9d32-b7a5f2c46e69"
      },
      "source": [
        "# Drop all rows if any column has null.\n",
        "std_df.select(\"name\", \"age\").dropna().show()\n",
        "\n",
        "# Parameters: any, how, subset\n",
        "std_df.select(\"name\", \"age\").dropna(how='any')\n",
        "std_df.select(\"name\", \"age\").dropna(how='all')\n",
        "std_df.select(\"name\", \"age\").dropna(subset='age')\n",
        "\n",
        "# Replace null with any value.\n",
        "std_df.select(\"name\", \"age\").fillna('[N/A]')"
      ],
      "execution_count": 33,
      "outputs": [
        {
          "output_type": "stream",
          "text": [
            "+------+---+\n",
            "|  name|age|\n",
            "+------+---+\n",
            "| Alice| 25|\n",
            "|   Bob| 20|\n",
            "|Charly| 30|\n",
            "|   Don| 15|\n",
            "|  Eric| 20|\n",
            "+------+---+\n",
            "\n"
          ],
          "name": "stdout"
        },
        {
          "output_type": "execute_result",
          "data": {
            "text/plain": [
              "DataFrame[name: string, age: bigint]"
            ]
          },
          "metadata": {
            "tags": []
          },
          "execution_count": 33
        }
      ]
    },
    {
      "cell_type": "markdown",
      "metadata": {
        "id": "1HDJJOPwCcn7"
      },
      "source": [
        "###Explode"
      ]
    },
    {
      "cell_type": "code",
      "metadata": {
        "id": "g9PeiQLPCfMG",
        "colab": {
          "base_uri": "https://localhost:8080/"
        },
        "outputId": "5b549a18-457c-4b34-9e4f-22970208e067"
      },
      "source": [
        "from pyspark.sql.functions import explode\n",
        "\n",
        "veg_list_df = spark.createDataFrame([(['a', 'b', 'c'], 1), (['b', 'd'], 2)])\n",
        "veg_list_df.show()\n",
        "\n",
        "veg_list_df.select(explode(veg_list_df._1), veg_list_df._2).show()\n",
        "\n",
        "veg_list_df.select(explode(veg_list_df._1), veg_list_df._2).distinct().show()"
      ],
      "execution_count": 34,
      "outputs": [
        {
          "output_type": "stream",
          "text": [
            "+---------+---+\n",
            "|       _1| _2|\n",
            "+---------+---+\n",
            "|[a, b, c]|  1|\n",
            "|   [b, d]|  2|\n",
            "+---------+---+\n",
            "\n",
            "+---+---+\n",
            "|col| _2|\n",
            "+---+---+\n",
            "|  a|  1|\n",
            "|  b|  1|\n",
            "|  c|  1|\n",
            "|  b|  2|\n",
            "|  d|  2|\n",
            "+---+---+\n",
            "\n",
            "+---+---+\n",
            "|col| _2|\n",
            "+---+---+\n",
            "|  a|  1|\n",
            "|  b|  1|\n",
            "|  d|  2|\n",
            "|  c|  1|\n",
            "|  b|  2|\n",
            "+---+---+\n",
            "\n"
          ],
          "name": "stdout"
        }
      ]
    },
    {
      "cell_type": "markdown",
      "metadata": {
        "id": "k_vZ3WzLdKdV"
      },
      "source": [
        "###Partition"
      ]
    },
    {
      "cell_type": "code",
      "metadata": {
        "id": "UQtZZ1uNdMYy",
        "colab": {
          "base_uri": "https://localhost:8080/"
        },
        "outputId": "4c4aa79e-e318-43b2-8101-1da870913d6b"
      },
      "source": [
        "list1_rdd = sc.parallelize([1, 2, 3, 4, 5, 6, 7, 8, 9])\n",
        "#list1_rdd # ParallelCollectionRDD[1] at readRDDFromFile at PythonRDD.scala:274\n",
        "#list1_rdd.collect() # [1, 2, 3, 4, 5, 6, 7, 8, 9]\n",
        "#list1_rdd.getNumPartitions() # 2 - even though it is small data it has created 2 partition.\n",
        "partitions_array = list1_rdd.glom() # gluam method bring all the partition as individual partition. don't try with big valume data.\n",
        "partitions_array.collect()"
      ],
      "execution_count": 35,
      "outputs": [
        {
          "output_type": "execute_result",
          "data": {
            "text/plain": [
              "[[1, 2, 3, 4], [5, 6, 7, 8, 9]]"
            ]
          },
          "metadata": {
            "tags": []
          },
          "execution_count": 35
        }
      ]
    },
    {
      "cell_type": "code",
      "metadata": {
        "id": "fHtdeIFufMYa",
        "colab": {
          "base_uri": "https://localhost:8080/"
        },
        "outputId": "06f757d6-756e-410a-f5b2-850b42fb1dd4"
      },
      "source": [
        "list2_rdd = sc.parallelize([1, 2, 3, 4, 5, 6, 7, 8, 9], 3) # specify partition explicitly\n",
        "list2_rdd.getNumPartitions() # 3\n",
        "partitions_array = list2_rdd.glom()\n",
        "partitions_array.collect()"
      ],
      "execution_count": 36,
      "outputs": [
        {
          "output_type": "execute_result",
          "data": {
            "text/plain": [
              "[[1, 2, 3], [4, 5, 6], [7, 8, 9]]"
            ]
          },
          "metadata": {
            "tags": []
          },
          "execution_count": 36
        }
      ]
    },
    {
      "cell_type": "code",
      "metadata": {
        "id": "AUebOIFU-hFl",
        "colab": {
          "base_uri": "https://localhost:8080/"
        },
        "outputId": "35192020-f83e-482e-8a64-48b6adcd676f"
      },
      "source": [
        "list3_rdd = list2_rdd.repartition(2) # specifies new partition, up or down but there would be shuffling.\n",
        "#partitions_array.getNumPartitions() # 2\n",
        "#list2_rdd.glom().collect() # this is still having 2 only.\n",
        "list3_rdd.glom().collect()"
      ],
      "execution_count": 37,
      "outputs": [
        {
          "output_type": "execute_result",
          "data": {
            "text/plain": [
              "[[1, 2, 3, 7, 8, 9], [4, 5, 6]]"
            ]
          },
          "metadata": {
            "tags": []
          },
          "execution_count": 37
        }
      ]
    },
    {
      "cell_type": "code",
      "metadata": {
        "id": "t1ZoRb3__UOt",
        "colab": {
          "base_uri": "https://localhost:8080/"
        },
        "outputId": "7211841f-0d05-4afe-f9b1-f0ba043276e6"
      },
      "source": [
        "partitions_array = list3_rdd.coalesce(2) # only decreases and it doesnot have shuffling.\n",
        "# Note: If the existing partation is x then the coalesce value cannot be more than the x. Even we pass more than the x but it does not change the number of partition.\n",
        "partitions_array.glom().collect()"
      ],
      "execution_count": 38,
      "outputs": [
        {
          "output_type": "execute_result",
          "data": {
            "text/plain": [
              "[[1, 2, 3, 7, 8, 9], [4, 5, 6]]"
            ]
          },
          "metadata": {
            "tags": []
          },
          "execution_count": 38
        }
      ]
    },
    {
      "cell_type": "markdown",
      "metadata": {
        "id": "Q3YRw__BgF-g"
      },
      "source": [
        "###Inferred Schemas"
      ]
    },
    {
      "cell_type": "code",
      "metadata": {
        "id": "aQBriNDSgLWY",
        "colab": {
          "base_uri": "https://localhost:8080/"
        },
        "outputId": "54e2ed70-1e39-4475-fb94-ecdae6a57e31"
      },
      "source": [
        "lines_rdd = sc.textFile(\"datasets/students.txt\")\n",
        "lines_rdd.collect()"
      ],
      "execution_count": 41,
      "outputs": [
        {
          "output_type": "execute_result",
          "data": {
            "text/plain": [
              "['Emily,44,55,78', 'Andy,47,34,89', 'Rick,55,78,55', 'Aaron,66,34,98']"
            ]
          },
          "metadata": {
            "tags": []
          },
          "execution_count": 41
        }
      ]
    },
    {
      "cell_type": "code",
      "metadata": {
        "id": "1-ozpuHug5FA",
        "colab": {
          "base_uri": "https://localhost:8080/"
        },
        "outputId": "6ac8983a-eddb-4238-b7a6-672e9cffefd0"
      },
      "source": [
        "parts_rdd = lines_rdd.map(lambda l: l.split(\",\"))\n",
        "parts_rdd.collect()"
      ],
      "execution_count": 42,
      "outputs": [
        {
          "output_type": "execute_result",
          "data": {
            "text/plain": [
              "[['Emily', '44', '55', '78'],\n",
              " ['Andy', '47', '34', '89'],\n",
              " ['Rick', '55', '78', '55'],\n",
              " ['Aaron', '66', '34', '98']]"
            ]
          },
          "metadata": {
            "tags": []
          },
          "execution_count": 42
        }
      ]
    },
    {
      "cell_type": "code",
      "metadata": {
        "id": "dxxDpGA1hAgS",
        "colab": {
          "base_uri": "https://localhost:8080/"
        },
        "outputId": "ebcc0fbc-c1a9-46cd-bba7-f7d6eb6767ce"
      },
      "source": [
        "students_rdd = parts_rdd.map(lambda p: Row(name=p[0], math=int(p[1]), english=int(p[2]), science=int(p[3])))\n",
        "students_rdd.collect()"
      ],
      "execution_count": 43,
      "outputs": [
        {
          "output_type": "execute_result",
          "data": {
            "text/plain": [
              "[Row(name='Emily', math=44, english=55, science=78),\n",
              " Row(name='Andy', math=47, english=34, science=89),\n",
              " Row(name='Rick', math=55, english=78, science=55),\n",
              " Row(name='Aaron', math=66, english=34, science=98)]"
            ]
          },
          "metadata": {
            "tags": []
          },
          "execution_count": 43
        }
      ]
    },
    {
      "cell_type": "code",
      "metadata": {
        "id": "ZRX6tudJhpsJ",
        "colab": {
          "base_uri": "https://localhost:8080/"
        },
        "outputId": "b1718d0c-2bcc-495f-afb2-52f8b0d2a5dc"
      },
      "source": [
        "students_df = spark.createDataFrame(students_rdd)\n",
        "students_df.createOrReplaceTempView(\"students_tbl\")\n",
        "students_df.columns"
      ],
      "execution_count": 44,
      "outputs": [
        {
          "output_type": "execute_result",
          "data": {
            "text/plain": [
              "['name', 'math', 'english', 'science']"
            ]
          },
          "metadata": {
            "tags": []
          },
          "execution_count": 44
        }
      ]
    },
    {
      "cell_type": "code",
      "metadata": {
        "id": "yCMxRSVzibe6",
        "colab": {
          "base_uri": "https://localhost:8080/"
        },
        "outputId": "6920ae86-25e4-41dd-8e45-bd0f21293bc7"
      },
      "source": [
        "students_df.schema # Spark generates schema automatically."
      ],
      "execution_count": 45,
      "outputs": [
        {
          "output_type": "execute_result",
          "data": {
            "text/plain": [
              "StructType(List(StructField(name,StringType,true),StructField(math,LongType,true),StructField(english,LongType,true),StructField(science,LongType,true)))"
            ]
          },
          "metadata": {
            "tags": []
          },
          "execution_count": 45
        }
      ]
    },
    {
      "cell_type": "code",
      "metadata": {
        "id": "nWLKei5IifSC",
        "colab": {
          "base_uri": "https://localhost:8080/"
        },
        "outputId": "09f27790-f96f-4791-b05e-d050ec87dfad"
      },
      "source": [
        "spark.sql(\"SELECT * FROM students_tbl\").show()"
      ],
      "execution_count": 46,
      "outputs": [
        {
          "output_type": "stream",
          "text": [
            "+-----+----+-------+-------+\n",
            "| name|math|english|science|\n",
            "+-----+----+-------+-------+\n",
            "|Emily|  44|     55|     78|\n",
            "| Andy|  47|     34|     89|\n",
            "| Rick|  55|     78|     55|\n",
            "|Aaron|  66|     34|     98|\n",
            "+-----+----+-------+-------+\n",
            "\n"
          ],
          "name": "stdout"
        }
      ]
    },
    {
      "cell_type": "markdown",
      "metadata": {
        "id": "7fiaqAX4iom2"
      },
      "source": [
        " ### Explicit Schemas"
      ]
    },
    {
      "cell_type": "code",
      "metadata": {
        "id": "uS7JFmtYivqk",
        "colab": {
          "base_uri": "https://localhost:8080/"
        },
        "outputId": "299e29f2-5024-46a5-9b23-72509ff757fb"
      },
      "source": [
        "students_rdd.collect()"
      ],
      "execution_count": 47,
      "outputs": [
        {
          "output_type": "execute_result",
          "data": {
            "text/plain": [
              "[Row(name='Emily', math=44, english=55, science=78),\n",
              " Row(name='Andy', math=47, english=34, science=89),\n",
              " Row(name='Rick', math=55, english=78, science=55),\n",
              " Row(name='Aaron', math=66, english=34, science=98)]"
            ]
          },
          "metadata": {
            "tags": []
          },
          "execution_count": 47
        }
      ]
    },
    {
      "cell_type": "code",
      "metadata": {
        "id": "U-40CQDRi3Br",
        "colab": {
          "base_uri": "https://localhost:8080/"
        },
        "outputId": "914d143e-3661-48e0-fc35-e8c27b24568a"
      },
      "source": [
        "from pyspark.sql.types import StructType, StructField, StringType, LongType\n",
        "\n",
        "fields = [StructField('name', StringType(), True),\n",
        "          StructField('math', LongType(), True),\n",
        "          StructField('english', LongType(), True),\n",
        "          StructField('science', LongType(), True),\n",
        "]\n",
        "student_schema = StructType(fields)\n",
        "\n",
        "students_explicit_df = spark.createDataFrame(students_rdd, student_schema)\n",
        "students_explicit_df.columns"
      ],
      "execution_count": 48,
      "outputs": [
        {
          "output_type": "execute_result",
          "data": {
            "text/plain": [
              "['name', 'math', 'english', 'science']"
            ]
          },
          "metadata": {
            "tags": []
          },
          "execution_count": 48
        }
      ]
    },
    {
      "cell_type": "code",
      "metadata": {
        "colab": {
          "base_uri": "https://localhost:8080/"
        },
        "id": "PYrNGDDIzXix",
        "outputId": "274a7162-a48b-4dff-8fe0-02cef358de95"
      },
      "source": [
        "students_explicit_df.printSchema()"
      ],
      "execution_count": 49,
      "outputs": [
        {
          "output_type": "stream",
          "text": [
            "root\n",
            " |-- name: string (nullable = true)\n",
            " |-- math: long (nullable = true)\n",
            " |-- english: long (nullable = true)\n",
            " |-- science: long (nullable = true)\n",
            "\n"
          ],
          "name": "stdout"
        }
      ]
    },
    {
      "cell_type": "code",
      "metadata": {
        "id": "XhgR7hFcjobz",
        "colab": {
          "base_uri": "https://localhost:8080/"
        },
        "outputId": "9bf65525-5f94-448b-f1ee-95f624ef3a61"
      },
      "source": [
        "students_explicit_df.schema"
      ],
      "execution_count": 50,
      "outputs": [
        {
          "output_type": "execute_result",
          "data": {
            "text/plain": [
              "StructType(List(StructField(name,StringType,true),StructField(math,LongType,true),StructField(english,LongType,true),StructField(science,LongType,true)))"
            ]
          },
          "metadata": {
            "tags": []
          },
          "execution_count": 50
        }
      ]
    },
    {
      "cell_type": "code",
      "metadata": {
        "colab": {
          "base_uri": "https://localhost:8080/"
        },
        "id": "QOU47JWmyrvi",
        "outputId": "5f6eb6cf-6bf5-4f1b-d659-b22b653afe56"
      },
      "source": [
        "students_explicit_df.dtypes # It shows column names with its data types."
      ],
      "execution_count": 51,
      "outputs": [
        {
          "output_type": "execute_result",
          "data": {
            "text/plain": [
              "[('name', 'string'),\n",
              " ('math', 'bigint'),\n",
              " ('english', 'bigint'),\n",
              " ('science', 'bigint')]"
            ]
          },
          "metadata": {
            "tags": []
          },
          "execution_count": 51
        }
      ]
    },
    {
      "cell_type": "code",
      "metadata": {
        "id": "BDY6CX93-7TM",
        "colab": {
          "base_uri": "https://localhost:8080/"
        },
        "outputId": "ae6c00c6-1850-460b-a72f-7687d7f59982"
      },
      "source": [
        "from pyspark.sql.types import IntegerType\n",
        "\n",
        "# explicit change the data type\n",
        "students_dt_df = students_explicit_df.withColumn('ScienceInt', students_explicit_df.math.cast('integer'))\\\n",
        "                                    .withColumn('MathInt', F.col(\"math\").cast(IntegerType()))\n",
        "students_dt_df"
      ],
      "execution_count": 52,
      "outputs": [
        {
          "output_type": "execute_result",
          "data": {
            "text/plain": [
              "DataFrame[name: string, math: bigint, english: bigint, science: bigint, ScienceInt: int, MathInt: int]"
            ]
          },
          "metadata": {
            "tags": []
          },
          "execution_count": 52
        }
      ]
    },
    {
      "cell_type": "markdown",
      "metadata": {
        "id": "LuUpqahufB8D"
      },
      "source": [
        "### RDD Lineage(Operator/Dependency Graph)\n",
        "Graph of transformation operations required to execute when an action is called."
      ]
    },
    {
      "cell_type": "code",
      "metadata": {
        "id": "Aq8n72wIfpfp",
        "colab": {
          "base_uri": "https://localhost:8080/"
        },
        "outputId": "455cad32-28dd-4989-c0d9-d88de9e82908"
      },
      "source": [
        "parts_rdd.toDebugString()"
      ],
      "execution_count": 53,
      "outputs": [
        {
          "output_type": "execute_result",
          "data": {
            "text/plain": [
              "b'(2) PythonRDD[155] at collect at <ipython-input-42-1c3a6166eca7>:2 []\\n |  datasets/students.txt MapPartitionsRDD[154] at textFile at NativeMethodAccessorImpl.java:0 []\\n |  datasets/students.txt HadoopRDD[153] at textFile at NativeMethodAccessorImpl.java:0 []'"
            ]
          },
          "metadata": {
            "tags": []
          },
          "execution_count": 53
        }
      ]
    },
    {
      "cell_type": "code",
      "metadata": {
        "id": "8hRFZzYReTBN",
        "outputId": "91c76ba9-9284-4a90-aca4-a6e6723564ba",
        "colab": {
          "base_uri": "https://localhost:8080/"
        }
      },
      "source": [
        "parts_df = parts_rdd.toDF()\n",
        "parts_df.explain()"
      ],
      "execution_count": 57,
      "outputs": [
        {
          "output_type": "stream",
          "text": [
            "== Physical Plan ==\n",
            "*(1) Scan ExistingRDD[_1#479,_2#480,_3#481,_4#482]\n",
            "\n",
            "\n"
          ],
          "name": "stdout"
        }
      ]
    }
  ]
}